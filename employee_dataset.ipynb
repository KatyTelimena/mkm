{
  "nbformat": 4,
  "nbformat_minor": 0,
  "metadata": {
    "colab": {
      "name": "employee dataset.ipynb",
      "provenance": [],
      "collapsed_sections": []
    },
    "kernelspec": {
      "name": "python3",
      "display_name": "Python 3"
    },
    "language_info": {
      "name": "python"
    }
  },
  "cells": [
    {
      "cell_type": "code",
      "execution_count": null,
      "metadata": {
        "id": "NtBr8SZ2cAN_"
      },
      "outputs": [],
      "source": [
        "#wczytanie danych\n",
        "path1 = \"https://raw.githubusercontent.com/Kamil128/SDA_Excercise/main/data/employee/df2.csv\"\n",
        "path2 = \"https://raw.githubusercontent.com/Kamil128/SDA_Excercise/main/data/employee/df1.csv\"\n",
        "path3 = \"https://raw.githubusercontent.com/Kamil128/SDA_Excercise/main/data/employee/attrition.csv\""
      ]
    },
    {
      "cell_type": "code",
      "source": [
        "#biblioteki \n",
        "import pandas as pd\n",
        "import matplotlib.pyplot as plt\n",
        "import seaborn as sns\n",
        "import plotly.express as px\n"
      ],
      "metadata": {
        "id": "FurU-XhbcSG3"
      },
      "execution_count": null,
      "outputs": []
    },
    {
      "cell_type": "code",
      "source": [
        "#przypisanie zmiennych do ścieżek \n",
        "data1 = pd.read_csv(path1)\n",
        "data2 = pd.read_csv(path2)\n",
        "data3 = pd.read_csv(path3)"
      ],
      "metadata": {
        "id": "BEi0sjzkcV9f"
      },
      "execution_count": null,
      "outputs": []
    },
    {
      "cell_type": "code",
      "source": [
        "#łączenie tabel za pomocą join() i set_index()\n",
        "table=data1.set_index('EmployeeNumber').join(data2.set_index('EmployeeNumber'))"
      ],
      "metadata": {
        "id": "RbB0-BLzxXzH"
      },
      "execution_count": null,
      "outputs": []
    },
    {
      "cell_type": "code",
      "source": [
        "#resetowanie indeksu za pomocą reset_index()\n",
        "table.reset_index(inplace=True) #resetowanie indeksu, nie trzeba zapisywac do zmiennej z inplace=True"
      ],
      "metadata": {
        "id": "tTPEcCkmxYbT"
      },
      "execution_count": null,
      "outputs": []
    },
    {
      "cell_type": "code",
      "source": [
        "#usuwanie wartości NaN\n",
        "table_drop=table.dropna()\n",
        "table_drop.info()\n"
      ],
      "metadata": {
        "id": "YwWWDeuqyAzS",
        "colab": {
          "base_uri": "https://localhost:8080/"
        },
        "outputId": "89da3261-93ca-46ab-a7f3-72b6beb77520"
      },
      "execution_count": null,
      "outputs": [
        {
          "output_type": "stream",
          "name": "stdout",
          "text": [
            "<class 'pandas.core.frame.DataFrame'>\n",
            "Int64Index: 4302 entries, 0 to 4448\n",
            "Data columns (total 36 columns):\n",
            " #   Column                    Non-Null Count  Dtype  \n",
            "---  ------                    --------------  -----  \n",
            " 0   EmployeeNumber            4302 non-null   int64  \n",
            " 1   Over18                    4302 non-null   object \n",
            " 2   OverTime                  4302 non-null   object \n",
            " 3   PercentSalaryHike         4302 non-null   float64\n",
            " 4   PerformanceRating         4302 non-null   float64\n",
            " 5   RelationshipSatisfaction  4302 non-null   float64\n",
            " 6   StandardHours             4302 non-null   float64\n",
            " 7   StockOptionLevel          4302 non-null   float64\n",
            " 8   TotalWorkingYears         4302 non-null   float64\n",
            " 9   TrainingTimesLastYear     4302 non-null   float64\n",
            " 10  WorkLifeBalance           4302 non-null   float64\n",
            " 11  YearsAtCompany            4302 non-null   float64\n",
            " 12  YearsInCurrentRole        4302 non-null   float64\n",
            " 13  YearsSinceLastPromotion   4302 non-null   float64\n",
            " 14  YearsWithCurrManager      4302 non-null   float64\n",
            " 15  Attrition                 4302 non-null   object \n",
            " 16  YearlyIncome              4302 non-null   float64\n",
            " 17  Age                       4302 non-null   float64\n",
            " 18  BusinessTravel            4302 non-null   object \n",
            " 19  DailyRate                 4302 non-null   float64\n",
            " 20  Department                4302 non-null   object \n",
            " 21  DistanceFromHome          4302 non-null   float64\n",
            " 22  Education                 4302 non-null   float64\n",
            " 23  EducationField            4302 non-null   object \n",
            " 24  EmployeeCount             4302 non-null   float64\n",
            " 25  EnvironmentSatisfaction   4302 non-null   float64\n",
            " 26  Gender                    4302 non-null   object \n",
            " 27  HourlyRate                4302 non-null   float64\n",
            " 28  JobInvolvement            4302 non-null   float64\n",
            " 29  JobLevel                  4302 non-null   float64\n",
            " 30  JobRole                   4302 non-null   object \n",
            " 31  JobSatisfaction           4302 non-null   float64\n",
            " 32  MaritalStatus             4302 non-null   object \n",
            " 33  MonthlyIncome             4302 non-null   float64\n",
            " 34  MonthlyRate               4302 non-null   float64\n",
            " 35  NumCompaniesWorked        4302 non-null   float64\n",
            "dtypes: float64(26), int64(1), object(9)\n",
            "memory usage: 1.2+ MB\n"
          ]
        }
      ]
    },
    {
      "cell_type": "code",
      "source": [
        "# def drop_na(table):\n",
        "#   table_drop=table.dropna()\n",
        "#   return table\n",
        "\n",
        "# drop_na(table)"
      ],
      "metadata": {
        "id": "cAPsIlhf3w8M"
      },
      "execution_count": null,
      "outputs": []
    },
    {
      "cell_type": "code",
      "source": [
        "# Usunięcie niepotrzebnych kolumn (z 1 wartością)\n",
        "\n",
        "col_to_drop = ['Over18', 'StandardHours',\"EmployeeCount\"]\n",
        "table_drop.drop(col_to_drop, axis=1, inplace=True)"
      ],
      "metadata": {
        "colab": {
          "base_uri": "https://localhost:8080/"
        },
        "id": "8Vb-OhG2BhID",
        "outputId": "a5e78a20-dab0-4754-8646-4a3e49211275"
      },
      "execution_count": null,
      "outputs": [
        {
          "output_type": "stream",
          "name": "stderr",
          "text": [
            "/usr/local/lib/python3.7/dist-packages/pandas/core/frame.py:4913: SettingWithCopyWarning: \n",
            "A value is trying to be set on a copy of a slice from a DataFrame\n",
            "\n",
            "See the caveats in the documentation: https://pandas.pydata.org/pandas-docs/stable/user_guide/indexing.html#returning-a-view-versus-a-copy\n",
            "  errors=errors,\n"
          ]
        }
      ]
    },
    {
      "cell_type": "code",
      "source": [
        "table_drop.info()"
      ],
      "metadata": {
        "colab": {
          "base_uri": "https://localhost:8080/"
        },
        "id": "Oe0CK6Lmhawj",
        "outputId": "b8a4ffb3-4d67-4280-9dcf-183c0cfabbee"
      },
      "execution_count": null,
      "outputs": [
        {
          "output_type": "stream",
          "name": "stdout",
          "text": [
            "<class 'pandas.core.frame.DataFrame'>\n",
            "Int64Index: 4302 entries, 0 to 4448\n",
            "Data columns (total 33 columns):\n",
            " #   Column                    Non-Null Count  Dtype  \n",
            "---  ------                    --------------  -----  \n",
            " 0   EmployeeNumber            4302 non-null   int64  \n",
            " 1   OverTime                  4302 non-null   object \n",
            " 2   PercentSalaryHike         4302 non-null   float64\n",
            " 3   PerformanceRating         4302 non-null   float64\n",
            " 4   RelationshipSatisfaction  4302 non-null   float64\n",
            " 5   StockOptionLevel          4302 non-null   float64\n",
            " 6   TotalWorkingYears         4302 non-null   float64\n",
            " 7   TrainingTimesLastYear     4302 non-null   float64\n",
            " 8   WorkLifeBalance           4302 non-null   float64\n",
            " 9   YearsAtCompany            4302 non-null   float64\n",
            " 10  YearsInCurrentRole        4302 non-null   float64\n",
            " 11  YearsSinceLastPromotion   4302 non-null   float64\n",
            " 12  YearsWithCurrManager      4302 non-null   float64\n",
            " 13  Attrition                 4302 non-null   object \n",
            " 14  YearlyIncome              4302 non-null   float64\n",
            " 15  Age                       4302 non-null   float64\n",
            " 16  BusinessTravel            4302 non-null   object \n",
            " 17  DailyRate                 4302 non-null   float64\n",
            " 18  Department                4302 non-null   object \n",
            " 19  DistanceFromHome          4302 non-null   float64\n",
            " 20  Education                 4302 non-null   float64\n",
            " 21  EducationField            4302 non-null   object \n",
            " 22  EnvironmentSatisfaction   4302 non-null   float64\n",
            " 23  Gender                    4302 non-null   object \n",
            " 24  HourlyRate                4302 non-null   float64\n",
            " 25  JobInvolvement            4302 non-null   float64\n",
            " 26  JobLevel                  4302 non-null   float64\n",
            " 27  JobRole                   4302 non-null   object \n",
            " 28  JobSatisfaction           4302 non-null   float64\n",
            " 29  MaritalStatus             4302 non-null   object \n",
            " 30  MonthlyIncome             4302 non-null   float64\n",
            " 31  MonthlyRate               4302 non-null   float64\n",
            " 32  NumCompaniesWorked        4302 non-null   float64\n",
            "dtypes: float64(24), int64(1), object(8)\n",
            "memory usage: 1.1+ MB\n"
          ]
        }
      ]
    },
    {
      "cell_type": "code",
      "source": [
        "# Definiowanie zmiennej zależnej y i zmiennych niezależnych x\n",
        "X=table_drop.drop(['Attrition'],axis=1) \n",
        "y=table_drop['Attrition']"
      ],
      "metadata": {
        "id": "ks2S-Qbs4sg9"
      },
      "execution_count": null,
      "outputs": []
    },
    {
      "cell_type": "code",
      "source": [
        "#sprawdzenie czy nasz zbiór jest zbalansowany\n",
        "sns.countplot(x='Attrition', data=table_drop,palette=\"magma\")\n",
        "plt.title('Employee Attrition (Amount)')"
      ],
      "metadata": {
        "colab": {
          "base_uri": "https://localhost:8080/",
          "height": 312
        },
        "id": "JfQwL5PNCGbb",
        "outputId": "84fd8faf-018a-4553-866d-8912d5b73576"
      },
      "execution_count": null,
      "outputs": [
        {
          "output_type": "execute_result",
          "data": {
            "text/plain": [
              "Text(0.5, 1.0, 'Employee Attrition (Amount)')"
            ]
          },
          "metadata": {},
          "execution_count": 12
        },
        {
          "output_type": "display_data",
          "data": {
            "text/plain": [
              "<Figure size 432x288 with 1 Axes>"
            ],
            "image/png": "[encoded data removed]"
          },
          "metadata": {
            "needs_background": "light"
          }
        }
      ]
    },
    {
      "cell_type": "code",
      "source": [
        "#sprawdzenie korelacji danych  \n",
        "count_corr=table_drop.corr()\n",
        "fig = px.imshow(count_corr)\n",
        "fig.update_layout(\n",
        "    title=\"Correlation of numerical features\",\n",
        "    xaxis_nticks=60)\n",
        "fig.show()\n",
        "#większość kolumn jest ze sobą słabo skorelowana "
      ],
      "metadata": {
        "colab": {
          "base_uri": "https://localhost:8080/",
          "height": 542
        },
        "id": "uu6cQFSYNGJ8",
        "outputId": "f0542cd9-46ac-4d5b-f5a5-1b7338121ebd"
      },
      "execution_count": null,
      "outputs": [
        {
          "output_type": "display_data",
          "data": {
            "text/html": [
              "<html>\n",
              "<head><meta charset=\"utf-8\" /></head>\n",
              "<body>\n",
              "    <div>            <script src=\"https://cdnjs.cloudflare.com/ajax/libs/mathjax/2.7.5/MathJax.js?config=TeX-AMS-MML_SVG\"></script><script type=\"text/javascript\">if (window.MathJax) {MathJax.Hub.Config({SVG: {font: \"STIX-Web\"}});}</script>                <script type=\"text/javascript\">window.PlotlyConfig = {MathJaxConfig: 'local'};</script>\n",
              "        <script src=\"https://cdn.plot.ly/plotly-2.8.3.min.js\"></script>                <div id=\"807e944b-6b34-4c41-b42a-621ecd6d4ba3\" class=\"plotly-graph-div\" style=\"height:525px; width:100%;\"></div>            <script type=\"text/javascript\">                                    window.PLOTLYENV=window.PLOTLYENV || {};                                    if (document.getElementById(\"807e944b-6b34-4c41-b42a-621ecd6d4ba3\")) {                    Plotly.newPlot(                        \"807e944b-6b34-4c41-b42a-621ecd6d4ba3\",                        [{\"coloraxis\":\"coloraxis\",\"name\":\"0\",\"x\":[\"EmployeeNumber\",\"PercentSalaryHike\",\"PerformanceRating\",\"RelationshipSatisfaction\",\"StockOptionLevel\",\"TotalWorkingYears\",\"TrainingTimesLastYear\",\"WorkLifeBalance\",\"YearsAtCompany\",\"YearsInCurrentRole\",\"YearsSinceLastPromotion\",\"YearsWithCurrManager\",\"YearlyIncome\",\"Age\",\"DailyRate\",\"DistanceFromHome\",\"Education\",\"EnvironmentSatisfaction\",\"HourlyRate\",\"JobInvolvement\",\"JobLevel\",\"JobSatisfaction\",\"MonthlyIncome\",\"MonthlyRate\",\"NumCompaniesWorked\"],\"y\":[\"EmployeeNumber\",\"PercentSalaryHike\",\"PerformanceRating\",\"RelationshipSatisfaction\",\"StockOptionLevel\",\"TotalWorkingYears\",\"TrainingTimesLastYear\",\"WorkLifeBalance\",\"YearsAtCompany\",\"YearsInCurrentRole\",\"YearsSinceLastPromotion\",\"YearsWithCurrManager\",\"YearlyIncome\",\"Age\",\"DailyRate\",\"DistanceFromHome\",\"Education\",\"EnvironmentSatisfaction\",\"HourlyRate\",\"JobInvolvement\",\"JobLevel\",\"JobSatisfaction\",\"MonthlyIncome\",\"MonthlyRate\",\"NumCompaniesWorked\"],\"z\":[[1.0,0.011477008134590653,0.006578590769101645,0.002248438105739219,-0.004536998930202004,0.13819891911081966,0.014177329011078285,-0.011019191311229255,0.14727112893812477,0.14870044844877262,0.155693278067907,0.15779555211551397,-0.005046462011586763,0.1645566733195509,0.0017752556323072136,0.1492577001595549,0.012981994205460102,-0.0036534234462299387,0.010966408831278788,-0.004319609122184249,-0.012474379495332675,-0.0005651716694879237,-0.005046462011585385,0.002072683495613083,-0.00029885838917949916],[0.011477008134590653,1.0,0.7666846603099351,-0.028600155689372887,0.011093470464240118,-0.020650980747569478,-0.0024706303132813693,0.011155127936359073,-0.01981287855137914,0.008198547437686618,-0.028956761399957755,0.07911023000202626,-0.03278930004868909,0.0386276904099969,0.03210813000590127,-0.051416505491444255,-0.018699794482269317,-0.03941400576185865,-0.010204803661859904,-0.01663978557654457,-0.03970844769594597,0.022354271022679933,-0.032789300048689365,-0.008675128450653392,-0.00814521949735316],[0.006578590769101645,0.7666846603099351,1.0,-0.011690480423891154,0.006739249840083568,-0.041822393549831034,-0.005607757731950682,0.00692784182758383,0.006512106552789496,0.03401644065228393,-0.03557965541636547,0.07760395726977548,-0.02455763908824823,0.01353504627191205,0.01237180068039295,-0.03230510964641704,-0.03605048788433849,-0.025516918317890467,-0.011499692135943833,-0.026948709986098142,-0.026545156877715335,0.006274710525329654,-0.024557639088248068,-0.009165275494728302,-0.01973110650322505],[0.002248438105739219,-0.028600155689372887,-0.011690480423891154,1.0,-0.04828985818351549,-0.001998868773952602,-0.0005042337515505484,0.020288121241210304,0.02524738075937109,-0.05751273152843452,0.026625241438166934,-0.025772360472777697,0.034792305836706124,-0.037797962567057204,0.014905377715754765,-0.021347514698529815,0.0039877921012355716,0.01265675774026244,0.004244014926190387,0.03813624151718381,0.028883468566048964,0.006818818919336499,0.034792305836706186,-0.002393104502496428,0.06114948308414652],[-0.004536998930202004,0.011093470464240118,0.006739249840083568,-0.04828985818351549,1.0,0.0034752743610592827,0.014810166918649935,0.010926266132731828,0.043881275931307626,0.0011721064032940167,-0.020725823838676976,-0.012390164643495146,0.003391863822487994,0.005683094737240893,0.03309379650007831,0.011920602619424526,0.023713350885148223,-0.0037463323041504147,0.03763925248658278,0.015012488914076728,0.009961897673975272,0.026232023834317077,0.003391863822487993,-0.045367180309341684,0.01697724999293302],[0.13819891911081966,-0.020650980747569478,-0.041822393549831034,-0.001998868773952602,0.0034752743610592827,1.0,0.016018964544498256,0.006005891019214095,-0.05033066855892807,-0.05564742054835979,-0.056692138231790264,-0.05252955400406019,-0.024873800803253424,-0.056004773726872605,0.002495390367559603,-0.05320035689818387,-0.016730221652782633,0.019756041954651807,0.04288873633130263,-0.01321108486335788,-0.02667048745200063,-0.006549956436024413,-0.02487380080325329,0.02691427261056409,0.008652333033462842],[0.014177329011078285,-0.0024706303132813693,-0.005607757731950682,-0.0005042337515505484,0.014810166918649935,0.016018964544498256,1.0,0.026683262446452864,0.01292019628911717,-0.03021248001552012,-0.008342656661274355,0.037775106714022136,-0.03808989003977988,0.030861863091575834,0.005936164780970923,0.008211308069132606,-0.026580897050350952,-0.01800137615041905,-0.0026303709741663022,-0.024508636535372393,-0.03453800430115172,-0.0018402842817733206,-0.03808989003977987,-0.018346219002171926,-0.06155801183297414],[-0.011019191311229255,0.011155127936359073,0.00692784182758383,0.020288121241210304,0.010926266132731828,0.006005891019214095,0.026683262446452864,1.0,-0.03203845257381866,-0.011346436708520334,-0.02551638924576876,-0.0064137056179514795,0.03658424658711589,0.028956735281314247,-0.03957909949588612,0.015450632281568743,0.003877563487048144,0.030237534080973662,0.00039992246527666353,-0.011661987425853598,0.042826343153225865,-0.009786100062191213,0.036584246587115836,0.026171842684670994,-0.0006451600999985989],[0.14727112893812477,-0.01981287855137914,0.006512106552789496,0.02524738075937109,0.043881275931307626,-0.05033066855892807,0.01292019628911717,-0.03203845257381866,1.0,-0.05466669433875368,-0.055372899315625244,-0.05123956547533666,0.03869032477612843,-0.054924735180348544,0.0036573216458856933,-0.051975548058828744,0.012736482392781011,0.014003052174312752,-0.007348241835475462,9.477933531959949e-05,0.04346100302982979,-0.019842004610841422,0.03869032477612856,0.024272848901296027,0.02945498964443058],[0.14870044844877262,0.008198547437686618,0.03401644065228393,-0.05751273152843452,0.0011721064032940167,-0.05564742054835979,-0.03021248001552012,-0.011346436708520334,-0.05466669433875368,1.0,-0.06108776137829387,-0.05660800645408464,0.002881802996903938,-0.06036153183832345,0.008254606401233773,-0.05723305846370651,0.016507584928296484,0.01946913383081545,-0.02113921572521127,0.009243424477606265,0.004149475052476454,-0.019599132893917993,0.0028818029969040373,0.010051445366775076,-0.017743878586992154],[0.155693278067907,-0.028956761399957755,-0.03557965541636547,0.026625241438166934,-0.020725823838676976,-0.056692138231790264,-0.008342656661274355,-0.02551638924576876,-0.055372899315625244,-0.06108776137829387,1.0,-0.05738612397086953,-0.03202816072972614,-0.06148671389476409,0.05027417519364917,-0.0579636452858105,-0.015324007562156183,0.02702284489020269,-0.00627211569244346,-0.015363485130820403,-0.022168725733181842,0.028074552748397395,-0.03202816072972606,-0.029244985692805814,0.03755189888944369],[0.15779555211551397,0.07911023000202626,0.07760395726977548,-0.025772360472777697,-0.012390164643495146,-0.05252955400406019,0.037775106714022136,-0.0064137056179514795,-0.05123956547533666,-0.05660800645408464,-0.05738612397086953,1.0,0.012254867951501802,-0.05718659405348759,-0.006924352390841454,-0.0538134104557518,0.0015888710375913508,-0.03304429915867754,-0.021233473232409032,0.0016591831979834634,0.0073523312529947685,-0.011474150847858218,0.012254867951502026,-0.0018479101951313296,-0.000893599870260164],[-0.005046462011586763,-0.03278930004868909,-0.02455763908824823,0.034792305836706124,0.003391863822487994,-0.024873800803253424,-0.03808989003977988,0.03658424658711589,0.03869032477612843,0.002881802996903938,-0.03202816072972614,0.012254867951501802,1.0,0.05101739358225382,0.019657934991952675,-0.029050721296300024,0.09683186221007209,-0.013958043953423427,-0.02169675426576167,-0.015969593944467318,0.9505828215168567,-0.009951219210671537,1.0000000000000002,0.04078976361723966,0.15228907787937734],[0.1645566733195509,0.0386276904099969,0.01353504627191205,-0.037797962567057204,0.005683094737240893,-0.056004773726872605,0.030861863091575834,0.028956735281314247,-0.054924735180348544,-0.06036153183832345,-0.06148671389476409,-0.05718659405348759,0.05101739358225382,1.0,0.01631655818126201,-0.05752784947609431,0.03645349480822465,-0.026856815806799272,-0.0042950133811980075,0.014090988676122632,0.05297958345175815,-0.007678564509460884,0.0510173935822539,-0.021226875135549248,0.029038352369905353],[0.0017752556323072136,0.03210813000590127,0.01237180068039295,0.014905377715754765,0.03309379650007831,0.002495390367559603,0.005936164780970923,-0.03957909949588612,0.0036573216458856933,0.008254606401233773,0.05027417519364917,-0.006924352390841454,0.019657934991952675,0.01631655818126201,1.0,-0.038714052574922574,-0.006383770728892434,0.022428449716120062,0.04152202250694835,0.041827197352652445,0.011256904306430504,0.03182746909484318,0.019657934991952616,-0.034454669567349785,0.044862628776103905],[0.1492577001595549,-0.051416505491444255,-0.03230510964641704,-0.021347514698529815,0.011920602619424526,-0.05320035689818387,0.008211308069132606,0.015450632281568743,-0.051975548058828744,-0.05723305846370651,-0.0579636452858105,-0.0538134104557518,-0.029050721296300024,-0.05752784947609431,-0.038714052574922574,1.0,-0.009999105387355576,-0.013635867234385353,-0.038817409971319286,0.0027434033217449763,-0.04027381001715788,0.007001994554359883,-0.029050721296299774,0.0006793223372680873,-0.020310034656910978],[0.012981994205460102,-0.018699794482269317,-0.03605048788433849,0.0039877921012355716,0.023713350885148223,-0.016730221652782633,-0.026580897050350952,0.003877563487048144,0.012736482392781011,0.016507584928296484,-0.015324007562156183,0.0015888710375913508,0.09683186221007209,0.03645349480822465,-0.006383770728892434,-0.009999105387355576,1.0,-0.032019953494236655,0.020450479780815996,0.06060871208189782,0.10224556229814888,-0.01741961674433488,0.09683186221007192,-0.03469805294250523,0.132290519122088],[-0.0036534234462299387,-0.03941400576185865,-0.025516918317890467,0.01265675774026244,-0.0037463323041504147,0.019756041954651807,-0.01800137615041905,0.030237534080973662,0.014003052174312752,0.01946913383081545,0.02702284489020269,-0.03304429915867754,-0.013958043953423427,-0.026856815806799272,0.022428449716120062,-0.013635867234385353,-0.032019953494236655,1.0,-0.06082983646164169,-0.010691393995237601,-0.0036227167793665186,0.010162953363848676,-0.01395804395342339,0.04048739814171909,0.014946663681481868],[0.010966408831278788,-0.010204803661859904,-0.011499692135943833,0.004244014926190387,0.03763925248658278,0.04288873633130263,-0.0026303709741663022,0.00039992246527666353,-0.007348241835475462,-0.02113921572521127,-0.00627211569244346,-0.021233473232409032,-0.02169675426576167,-0.0042950133811980075,0.04152202250694835,-0.038817409971319286,0.020450479780815996,-0.06082983646164169,1.0,0.039957406670120606,-0.03571764848021236,-0.07028211286958023,-0.021696754265761554,-0.016017148154760442,0.0004307141980152134],[-0.004319609122184249,-0.01663978557654457,-0.026948709986098142,0.03813624151718381,0.015012488914076728,-0.01321108486335788,-0.024508636535372393,-0.011661987425853598,9.477933531959949e-05,0.009243424477606265,-0.015363485130820403,0.0016591831979834634,-0.015969593944467318,0.014090988676122632,0.041827197352652445,0.0027434033217449763,0.06060871208189782,-0.010691393995237601,0.039957406670120606,1.0,-0.016486447709680878,-0.029861503344147135,-0.015969593944467328,0.0038685416150523997,0.008034128898347074],[-0.012474379495332675,-0.03970844769594597,-0.026545156877715335,0.028883468566048964,0.009961897673975272,-0.02667048745200063,-0.03453800430115172,0.042826343153225865,0.04346100302982979,0.004149475052476454,-0.022168725733181842,0.0073523312529947685,0.9505828215168567,0.05297958345175815,0.011256904306430504,-0.04027381001715788,0.10224556229814888,-0.0036227167793665186,-0.03571764848021236,-0.016486447709680878,1.0,-0.003713374716042464,0.9505828215168542,0.045824211757285724,0.14517262997080885],[-0.0005651716694879237,0.022354271022679933,0.006274710525329654,0.006818818919336499,0.026232023834317077,-0.006549956436024413,-0.0018402842817733206,-0.009786100062191213,-0.019842004610841422,-0.019599132893917993,0.028074552748397395,-0.011474150847858218,-0.009951219210671537,-0.007678564509460884,0.03182746909484318,0.007001994554359883,-0.01741961674433488,0.010162953363848676,-0.07028211286958023,-0.029861503344147135,-0.003713374716042464,1.0,-0.009951219210671516,0.00528215710119934,-0.055553047696063486],[-0.005046462011585385,-0.032789300048689365,-0.024557639088248068,0.034792305836706186,0.003391863822487993,-0.02487380080325329,-0.03808989003977987,0.036584246587115836,0.03869032477612856,0.0028818029969040373,-0.03202816072972606,0.012254867951502026,1.0000000000000002,0.0510173935822539,0.019657934991952616,-0.029050721296299774,0.09683186221007192,-0.01395804395342339,-0.021696754265761554,-0.015969593944467328,0.9505828215168542,-0.009951219210671516,1.0,0.04078976361723956,0.1522890778793769],[0.002072683495613083,-0.008675128450653392,-0.009165275494728302,-0.002393104502496428,-0.045367180309341684,0.02691427261056409,-0.018346219002171926,0.026171842684670994,0.024272848901296027,0.010051445366775076,-0.029244985692805814,-0.0018479101951313296,0.04078976361723966,-0.021226875135549248,-0.034454669567349785,0.0006793223372680873,-0.03469805294250523,0.04048739814171909,-0.016017148154760442,0.0038685416150523997,0.045824211757285724,0.00528215710119934,0.04078976361723956,1.0,0.025412901051200497],[-0.00029885838917949916,-0.00814521949735316,-0.01973110650322505,0.06114948308414652,0.01697724999293302,0.008652333033462842,-0.06155801183297414,-0.0006451600999985989,0.02945498964443058,-0.017743878586992154,0.03755189888944369,-0.000893599870260164,0.15228907787937734,0.029038352369905353,0.044862628776103905,-0.020310034656910978,0.132290519122088,0.014946663681481868,0.0004307141980152134,0.008034128898347074,0.14517262997080885,-0.055553047696063486,0.1522890778793769,0.025412901051200497,1.0]],\"type\":\"heatmap\",\"xaxis\":\"x\",\"yaxis\":\"y\",\"hovertemplate\":\"x: %{x}<br>y: %{y}<br>color: %{z}<extra></extra>\"}],                        {\"template\":{\"data\":{\"bar\":[{\"error_x\":{\"color\":\"#2a3f5f\"},\"error_y\":{\"color\":\"#2a3f5f\"},\"marker\":{\"line\":{\"color\":\"#E5ECF6\",\"width\":0.5},\"pattern\":{\"fillmode\":\"overlay\",\"size\":10,\"solidity\":0.2}},\"type\":\"bar\"}],\"barpolar\":[{\"marker\":{\"line\":{\"color\":\"#E5ECF6\",\"width\":0.5},\"pattern\":{\"fillmode\":\"overlay\",\"size\":10,\"solidity\":0.2}},\"type\":\"barpolar\"}],\"carpet\":[{\"aaxis\":{\"endlinecolor\":\"#2a3f5f\",\"gridcolor\":\"white\",\"linecolor\":\"white\",\"minorgridcolor\":\"white\",\"startlinecolor\":\"#2a3f5f\"},\"baxis\":{\"endlinecolor\":\"#2a3f5f\",\"gridcolor\":\"white\",\"linecolor\":\"white\",\"minorgridcolor\":\"white\",\"startlinecolor\":\"#2a3f5f\"},\"type\":\"carpet\"}],\"choropleth\":[{\"colorbar\":{\"outlinewidth\":0,\"ticks\":\"\"},\"type\":\"choropleth\"}],\"contour\":[{\"colorbar\":{\"outlinewidth\":0,\"ticks\":\"\"},\"colorscale\":[[0.0,\"#0d0887\"],[0.1111111111111111,\"#46039f\"],[0.2222222222222222,\"#7201a8\"],[0.3333333333333333,\"#9c179e\"],[0.4444444444444444,\"#bd3786\"],[0.5555555555555556,\"#d8576b\"],[0.6666666666666666,\"#ed7953\"],[0.7777777777777778,\"#fb9f3a\"],[0.8888888888888888,\"#fdca26\"],[1.0,\"#f0f921\"]],\"type\":\"contour\"}],\"contourcarpet\":[{\"colorbar\":{\"outlinewidth\":0,\"ticks\":\"\"},\"type\":\"contourcarpet\"}],\"heatmap\":[{\"colorbar\":{\"outlinewidth\":0,\"ticks\":\"\"},\"colorscale\":[[0.0,\"#0d0887\"],[0.1111111111111111,\"#46039f\"],[0.2222222222222222,\"#7201a8\"],[0.3333333333333333,\"#9c179e\"],[0.4444444444444444,\"#bd3786\"],[0.5555555555555556,\"#d8576b\"],[0.6666666666666666,\"#ed7953\"],[0.7777777777777778,\"#fb9f3a\"],[0.8888888888888888,\"#fdca26\"],[1.0,\"#f0f921\"]],\"type\":\"heatmap\"}],\"heatmapgl\":[{\"colorbar\":{\"outlinewidth\":0,\"ticks\":\"\"},\"colorscale\":[[0.0,\"#0d0887\"],[0.1111111111111111,\"#46039f\"],[0.2222222222222222,\"#7201a8\"],[0.3333333333333333,\"#9c179e\"],[0.4444444444444444,\"#bd3786\"],[0.5555555555555556,\"#d8576b\"],[0.6666666666666666,\"#ed7953\"],[0.7777777777777778,\"#fb9f3a\"],[0.8888888888888888,\"#fdca26\"],[1.0,\"#f0f921\"]],\"type\":\"heatmapgl\"}],\"histogram\":[{\"marker\":{\"pattern\":{\"fillmode\":\"overlay\",\"size\":10,\"solidity\":0.2}},\"type\":\"histogram\"}],\"histogram2d\":[{\"colorbar\":{\"outlinewidth\":0,\"ticks\":\"\"},\"colorscale\":[[0.0,\"#0d0887\"],[0.1111111111111111,\"#46039f\"],[0.2222222222222222,\"#7201a8\"],[0.3333333333333333,\"#9c179e\"],[0.4444444444444444,\"#bd3786\"],[0.5555555555555556,\"#d8576b\"],[0.6666666666666666,\"#ed7953\"],[0.7777777777777778,\"#fb9f3a\"],[0.8888888888888888,\"#fdca26\"],[1.0,\"#f0f921\"]],\"type\":\"histogram2d\"}],\"histogram2dcontour\":[{\"colorbar\":{\"outlinewidth\":0,\"ticks\":\"\"},\"colorscale\":[[0.0,\"#0d0887\"],[0.1111111111111111,\"#46039f\"],[0.2222222222222222,\"#7201a8\"],[0.3333333333333333,\"#9c179e\"],[0.4444444444444444,\"#bd3786\"],[0.5555555555555556,\"#d8576b\"],[0.6666666666666666,\"#ed7953\"],[0.7777777777777778,\"#fb9f3a\"],[0.8888888888888888,\"#fdca26\"],[1.0,\"#f0f921\"]],\"type\":\"histogram2dcontour\"}],\"mesh3d\":[{\"colorbar\":{\"outlinewidth\":0,\"ticks\":\"\"},\"type\":\"mesh3d\"}],\"parcoords\":[{\"line\":{\"colorbar\":{\"outlinewidth\":0,\"ticks\":\"\"}},\"type\":\"parcoords\"}],\"pie\":[{\"automargin\":true,\"type\":\"pie\"}],\"scatter\":[{\"marker\":{\"colorbar\":{\"outlinewidth\":0,\"ticks\":\"\"}},\"type\":\"scatter\"}],\"scatter3d\":[{\"line\":{\"colorbar\":{\"outlinewidth\":0,\"ticks\":\"\"}},\"marker\":{\"colorbar\":{\"outlinewidth\":0,\"ticks\":\"\"}},\"type\":\"scatter3d\"}],\"scattercarpet\":[{\"marker\":{\"colorbar\":{\"outlinewidth\":0,\"ticks\":\"\"}},\"type\":\"scattercarpet\"}],\"scattergeo\":[{\"marker\":{\"colorbar\":{\"outlinewidth\":0,\"ticks\":\"\"}},\"type\":\"scattergeo\"}],\"scattergl\":[{\"marker\":{\"colorbar\":{\"outlinewidth\":0,\"ticks\":\"\"}},\"type\":\"scattergl\"}],\"scattermapbox\":[{\"marker\":{\"colorbar\":{\"outlinewidth\":0,\"ticks\":\"\"}},\"type\":\"scattermapbox\"}],\"scatterpolar\":[{\"marker\":{\"colorbar\":{\"outlinewidth\":0,\"ticks\":\"\"}},\"type\":\"scatterpolar\"}],\"scatterpolargl\":[{\"marker\":{\"colorbar\":{\"outlinewidth\":0,\"ticks\":\"\"}},\"type\":\"scatterpolargl\"}],\"scatterternary\":[{\"marker\":{\"colorbar\":{\"outlinewidth\":0,\"ticks\":\"\"}},\"type\":\"scatterternary\"}],\"surface\":[{\"colorbar\":{\"outlinewidth\":0,\"ticks\":\"\"},\"colorscale\":[[0.0,\"#0d0887\"],[0.1111111111111111,\"#46039f\"],[0.2222222222222222,\"#7201a8\"],[0.3333333333333333,\"#9c179e\"],[0.4444444444444444,\"#bd3786\"],[0.5555555555555556,\"#d8576b\"],[0.6666666666666666,\"#ed7953\"],[0.7777777777777778,\"#fb9f3a\"],[0.8888888888888888,\"#fdca26\"],[1.0,\"#f0f921\"]],\"type\":\"surface\"}],\"table\":[{\"cells\":{\"fill\":{\"color\":\"#EBF0F8\"},\"line\":{\"color\":\"white\"}},\"header\":{\"fill\":{\"color\":\"#C8D4E3\"},\"line\":{\"color\":\"white\"}},\"type\":\"table\"}]},\"layout\":{\"annotationdefaults\":{\"arrowcolor\":\"#2a3f5f\",\"arrowhead\":0,\"arrowwidth\":1},\"autotypenumbers\":\"strict\",\"coloraxis\":{\"colorbar\":{\"outlinewidth\":0,\"ticks\":\"\"}},\"colorscale\":{\"diverging\":[[0,\"#8e0152\"],[0.1,\"#c51b7d\"],[0.2,\"#de77ae\"],[0.3,\"#f1b6da\"],[0.4,\"#fde0ef\"],[0.5,\"#f7f7f7\"],[0.6,\"#e6f5d0\"],[0.7,\"#b8e186\"],[0.8,\"#7fbc41\"],[0.9,\"#4d9221\"],[1,\"#276419\"]],\"sequential\":[[0.0,\"#0d0887\"],[0.1111111111111111,\"#46039f\"],[0.2222222222222222,\"#7201a8\"],[0.3333333333333333,\"#9c179e\"],[0.4444444444444444,\"#bd3786\"],[0.5555555555555556,\"#d8576b\"],[0.6666666666666666,\"#ed7953\"],[0.7777777777777778,\"#fb9f3a\"],[0.8888888888888888,\"#fdca26\"],[1.0,\"#f0f921\"]],\"sequentialminus\":[[0.0,\"#0d0887\"],[0.1111111111111111,\"#46039f\"],[0.2222222222222222,\"#7201a8\"],[0.3333333333333333,\"#9c179e\"],[0.4444444444444444,\"#bd3786\"],[0.5555555555555556,\"#d8576b\"],[0.6666666666666666,\"#ed7953\"],[0.7777777777777778,\"#fb9f3a\"],[0.8888888888888888,\"#fdca26\"],[1.0,\"#f0f921\"]]},\"colorway\":[\"#636efa\",\"#EF553B\",\"#00cc96\",\"#ab63fa\",\"#FFA15A\",\"#19d3f3\",\"#FF6692\",\"#B6E880\",\"#FF97FF\",\"#FECB52\"],\"font\":{\"color\":\"#2a3f5f\"},\"geo\":{\"bgcolor\":\"white\",\"lakecolor\":\"white\",\"landcolor\":\"#E5ECF6\",\"showlakes\":true,\"showland\":true,\"subunitcolor\":\"white\"},\"hoverlabel\":{\"align\":\"left\"},\"hovermode\":\"closest\",\"mapbox\":{\"style\":\"light\"},\"paper_bgcolor\":\"white\",\"plot_bgcolor\":\"#E5ECF6\",\"polar\":{\"angularaxis\":{\"gridcolor\":\"white\",\"linecolor\":\"white\",\"ticks\":\"\"},\"bgcolor\":\"#E5ECF6\",\"radialaxis\":{\"gridcolor\":\"white\",\"linecolor\":\"white\",\"ticks\":\"\"}},\"scene\":{\"xaxis\":{\"backgroundcolor\":\"#E5ECF6\",\"gridcolor\":\"white\",\"gridwidth\":2,\"linecolor\":\"white\",\"showbackground\":true,\"ticks\":\"\",\"zerolinecolor\":\"white\"},\"yaxis\":{\"backgroundcolor\":\"#E5ECF6\",\"gridcolor\":\"white\",\"gridwidth\":2,\"linecolor\":\"white\",\"showbackground\":true,\"ticks\":\"\",\"zerolinecolor\":\"white\"},\"zaxis\":{\"backgroundcolor\":\"#E5ECF6\",\"gridcolor\":\"white\",\"gridwidth\":2,\"linecolor\":\"white\",\"showbackground\":true,\"ticks\":\"\",\"zerolinecolor\":\"white\"}},\"shapedefaults\":{\"line\":{\"color\":\"#2a3f5f\"}},\"ternary\":{\"aaxis\":{\"gridcolor\":\"white\",\"linecolor\":\"white\",\"ticks\":\"\"},\"baxis\":{\"gridcolor\":\"white\",\"linecolor\":\"white\",\"ticks\":\"\"},\"bgcolor\":\"#E5ECF6\",\"caxis\":{\"gridcolor\":\"white\",\"linecolor\":\"white\",\"ticks\":\"\"}},\"title\":{\"x\":0.05},\"xaxis\":{\"automargin\":true,\"gridcolor\":\"white\",\"linecolor\":\"white\",\"ticks\":\"\",\"title\":{\"standoff\":15},\"zerolinecolor\":\"white\",\"zerolinewidth\":2},\"yaxis\":{\"automargin\":true,\"gridcolor\":\"white\",\"linecolor\":\"white\",\"ticks\":\"\",\"title\":{\"standoff\":15},\"zerolinecolor\":\"white\",\"zerolinewidth\":2}}},\"xaxis\":{\"anchor\":\"y\",\"domain\":[0.0,1.0],\"scaleanchor\":\"y\",\"constrain\":\"domain\",\"nticks\":60},\"yaxis\":{\"anchor\":\"x\",\"domain\":[0.0,1.0],\"autorange\":\"reversed\",\"constrain\":\"domain\"},\"coloraxis\":{\"colorscale\":[[0.0,\"#0d0887\"],[0.1111111111111111,\"#46039f\"],[0.2222222222222222,\"#7201a8\"],[0.3333333333333333,\"#9c179e\"],[0.4444444444444444,\"#bd3786\"],[0.5555555555555556,\"#d8576b\"],[0.6666666666666666,\"#ed7953\"],[0.7777777777777778,\"#fb9f3a\"],[0.8888888888888888,\"#fdca26\"],[1.0,\"#f0f921\"]]},\"margin\":{\"t\":60},\"title\":{\"text\":\"Correlation of numerical features\"}},                        {\"responsive\": true}                    ).then(function(){\n",
              "                            \n",
              "var gd = document.getElementById('807e944b-6b34-4c41-b42a-621ecd6d4ba3');\n",
              "var x = new MutationObserver(function (mutations, observer) {{\n",
              "        var display = window.getComputedStyle(gd).display;\n",
              "        if (!display || display === 'none') {{\n",
              "            console.log([gd, 'removed!']);\n",
              "            Plotly.purge(gd);\n",
              "            observer.disconnect();\n",
              "        }}\n",
              "}});\n",
              "\n",
              "// Listen for the removal of the full notebook cells\n",
              "var notebookContainer = gd.closest('#notebook-container');\n",
              "if (notebookContainer) {{\n",
              "    x.observe(notebookContainer, {childList: true});\n",
              "}}\n",
              "\n",
              "// Listen for the clearing of the current output cell\n",
              "var outputEl = gd.closest('.output');\n",
              "if (outputEl) {{\n",
              "    x.observe(outputEl, {childList: true});\n",
              "}}\n",
              "\n",
              "                        })                };                            </script>        </div>\n",
              "</body>\n",
              "</html>"
            ]
          },
          "metadata": {}
        }
      ]
    },
    {
      "cell_type": "code",
      "source": [
        "#wykres\n",
        "mean_income = table_drop.groupby(['JobRole', 'Attrition'])['MonthlyIncome'].mean().reset_index()\n",
        "\n",
        "fig = px.bar(mean_income, x=\"JobRole\", y=\"MonthlyIncome\",\n",
        "             color='Attrition', barmode='group',\n",
        "             height=400, width=600)\n",
        "fig.update_layout(title= \"Average income by job role and attrition status\")\n",
        "\n"
      ],
      "metadata": {
        "colab": {
          "base_uri": "https://localhost:8080/",
          "height": 417
        },
        "id": "hfongcnmeTTA",
        "outputId": "9f691a73-cde7-4c87-ac4b-bf6500587470"
      },
      "execution_count": null,
      "outputs": [
        {
          "output_type": "display_data",
          "data": {
            "text/html": [
              "<html>\n",
              "<head><meta charset=\"utf-8\" /></head>\n",
              "<body>\n",
              "    <div>            <script src=\"https://cdnjs.cloudflare.com/ajax/libs/mathjax/2.7.5/MathJax.js?config=TeX-AMS-MML_SVG\"></script><script type=\"text/javascript\">if (window.MathJax) {MathJax.Hub.Config({SVG: {font: \"STIX-Web\"}});}</script>                <script type=\"text/javascript\">window.PlotlyConfig = {MathJaxConfig: 'local'};</script>\n",
              "        <script src=\"https://cdn.plot.ly/plotly-2.8.3.min.js\"></script>                <div id=\"4510f88d-2bc7-4f2b-86da-974934b520af\" class=\"plotly-graph-div\" style=\"height:400px; width:600px;\"></div>            <script type=\"text/javascript\">                                    window.PLOTLYENV=window.PLOTLYENV || {};                                    if (document.getElementById(\"4510f88d-2bc7-4f2b-86da-974934b520af\")) {                    Plotly.newPlot(                        \"4510f88d-2bc7-4f2b-86da-974934b520af\",                        [{\"alignmentgroup\":\"True\",\"hovertemplate\":\"Attrition=No<br>JobRole=%{x}<br>MonthlyIncome=%{y}<extra></extra>\",\"legendgroup\":\"No\",\"marker\":{\"color\":\"#636efa\",\"pattern\":{\"shape\":\"\"}},\"name\":\"No\",\"offsetgroup\":\"No\",\"orientation\":\"v\",\"showlegend\":true,\"textposition\":\"auto\",\"x\":[\"Healthcare Representative\",\"Human Resources\",\"Laboratory Technician\",\"Manager\",\"Manufacturing Director\",\"Research Director\",\"Research Scientist\",\"Sales Executive\",\"Sales Representative\"],\"xaxis\":\"x\",\"y\":[7568.973404255319,4510.015151515152,3294.018567639257,17178.407142857144,7202.486725663717,16158.778761061947,3248.454106280193,6968.33628318584,2739.673076923077],\"yaxis\":\"y\",\"type\":\"bar\"},{\"alignmentgroup\":\"True\",\"hovertemplate\":\"Attrition=Yes<br>JobRole=%{x}<br>MonthlyIncome=%{y}<extra></extra>\",\"legendgroup\":\"Yes\",\"marker\":{\"color\":\"#EF553B\",\"pattern\":{\"shape\":\"\"}},\"name\":\"Yes\",\"offsetgroup\":\"Yes\",\"orientation\":\"v\",\"showlegend\":true,\"textposition\":\"auto\",\"x\":[\"Healthcare Representative\",\"Human Resources\",\"Laboratory Technician\",\"Manager\",\"Manufacturing Director\",\"Research Director\",\"Research Scientist\",\"Sales Executive\",\"Sales Representative\"],\"xaxis\":\"x\",\"y\":[7603.811224489796,4094.4166666666665,3189.2169312169312,17134.01360544218,7313.513089005236,15935.896551724138,3253.5607675906185,6961.638554216867,2549.3916083916083],\"yaxis\":\"y\",\"type\":\"bar\"}],                        {\"template\":{\"data\":{\"bar\":[{\"error_x\":{\"color\":\"#2a3f5f\"},\"error_y\":{\"color\":\"#2a3f5f\"},\"marker\":{\"line\":{\"color\":\"#E5ECF6\",\"width\":0.5},\"pattern\":{\"fillmode\":\"overlay\",\"size\":10,\"solidity\":0.2}},\"type\":\"bar\"}],\"barpolar\":[{\"marker\":{\"line\":{\"color\":\"#E5ECF6\",\"width\":0.5},\"pattern\":{\"fillmode\":\"overlay\",\"size\":10,\"solidity\":0.2}},\"type\":\"barpolar\"}],\"carpet\":[{\"aaxis\":{\"endlinecolor\":\"#2a3f5f\",\"gridcolor\":\"white\",\"linecolor\":\"white\",\"minorgridcolor\":\"white\",\"startlinecolor\":\"#2a3f5f\"},\"baxis\":{\"endlinecolor\":\"#2a3f5f\",\"gridcolor\":\"white\",\"linecolor\":\"white\",\"minorgridcolor\":\"white\",\"startlinecolor\":\"#2a3f5f\"},\"type\":\"carpet\"}],\"choropleth\":[{\"colorbar\":{\"outlinewidth\":0,\"ticks\":\"\"},\"type\":\"choropleth\"}],\"contour\":[{\"colorbar\":{\"outlinewidth\":0,\"ticks\":\"\"},\"colorscale\":[[0.0,\"#0d0887\"],[0.1111111111111111,\"#46039f\"],[0.2222222222222222,\"#7201a8\"],[0.3333333333333333,\"#9c179e\"],[0.4444444444444444,\"#bd3786\"],[0.5555555555555556,\"#d8576b\"],[0.6666666666666666,\"#ed7953\"],[0.7777777777777778,\"#fb9f3a\"],[0.8888888888888888,\"#fdca26\"],[1.0,\"#f0f921\"]],\"type\":\"contour\"}],\"contourcarpet\":[{\"colorbar\":{\"outlinewidth\":0,\"ticks\":\"\"},\"type\":\"contourcarpet\"}],\"heatmap\":[{\"colorbar\":{\"outlinewidth\":0,\"ticks\":\"\"},\"colorscale\":[[0.0,\"#0d0887\"],[0.1111111111111111,\"#46039f\"],[0.2222222222222222,\"#7201a8\"],[0.3333333333333333,\"#9c179e\"],[0.4444444444444444,\"#bd3786\"],[0.5555555555555556,\"#d8576b\"],[0.6666666666666666,\"#ed7953\"],[0.7777777777777778,\"#fb9f3a\"],[0.8888888888888888,\"#fdca26\"],[1.0,\"#f0f921\"]],\"type\":\"heatmap\"}],\"heatmapgl\":[{\"colorbar\":{\"outlinewidth\":0,\"ticks\":\"\"},\"colorscale\":[[0.0,\"#0d0887\"],[0.1111111111111111,\"#46039f\"],[0.2222222222222222,\"#7201a8\"],[0.3333333333333333,\"#9c179e\"],[0.4444444444444444,\"#bd3786\"],[0.5555555555555556,\"#d8576b\"],[0.6666666666666666,\"#ed7953\"],[0.7777777777777778,\"#fb9f3a\"],[0.8888888888888888,\"#fdca26\"],[1.0,\"#f0f921\"]],\"type\":\"heatmapgl\"}],\"histogram\":[{\"marker\":{\"pattern\":{\"fillmode\":\"overlay\",\"size\":10,\"solidity\":0.2}},\"type\":\"histogram\"}],\"histogram2d\":[{\"colorbar\":{\"outlinewidth\":0,\"ticks\":\"\"},\"colorscale\":[[0.0,\"#0d0887\"],[0.1111111111111111,\"#46039f\"],[0.2222222222222222,\"#7201a8\"],[0.3333333333333333,\"#9c179e\"],[0.4444444444444444,\"#bd3786\"],[0.5555555555555556,\"#d8576b\"],[0.6666666666666666,\"#ed7953\"],[0.7777777777777778,\"#fb9f3a\"],[0.8888888888888888,\"#fdca26\"],[1.0,\"#f0f921\"]],\"type\":\"histogram2d\"}],\"histogram2dcontour\":[{\"colorbar\":{\"outlinewidth\":0,\"ticks\":\"\"},\"colorscale\":[[0.0,\"#0d0887\"],[0.1111111111111111,\"#46039f\"],[0.2222222222222222,\"#7201a8\"],[0.3333333333333333,\"#9c179e\"],[0.4444444444444444,\"#bd3786\"],[0.5555555555555556,\"#d8576b\"],[0.6666666666666666,\"#ed7953\"],[0.7777777777777778,\"#fb9f3a\"],[0.8888888888888888,\"#fdca26\"],[1.0,\"#f0f921\"]],\"type\":\"histogram2dcontour\"}],\"mesh3d\":[{\"colorbar\":{\"outlinewidth\":0,\"ticks\":\"\"},\"type\":\"mesh3d\"}],\"parcoords\":[{\"line\":{\"colorbar\":{\"outlinewidth\":0,\"ticks\":\"\"}},\"type\":\"parcoords\"}],\"pie\":[{\"automargin\":true,\"type\":\"pie\"}],\"scatter\":[{\"marker\":{\"colorbar\":{\"outlinewidth\":0,\"ticks\":\"\"}},\"type\":\"scatter\"}],\"scatter3d\":[{\"line\":{\"colorbar\":{\"outlinewidth\":0,\"ticks\":\"\"}},\"marker\":{\"colorbar\":{\"outlinewidth\":0,\"ticks\":\"\"}},\"type\":\"scatter3d\"}],\"scattercarpet\":[{\"marker\":{\"colorbar\":{\"outlinewidth\":0,\"ticks\":\"\"}},\"type\":\"scattercarpet\"}],\"scattergeo\":[{\"marker\":{\"colorbar\":{\"outlinewidth\":0,\"ticks\":\"\"}},\"type\":\"scattergeo\"}],\"scattergl\":[{\"marker\":{\"colorbar\":{\"outlinewidth\":0,\"ticks\":\"\"}},\"type\":\"scattergl\"}],\"scattermapbox\":[{\"marker\":{\"colorbar\":{\"outlinewidth\":0,\"ticks\":\"\"}},\"type\":\"scattermapbox\"}],\"scatterpolar\":[{\"marker\":{\"colorbar\":{\"outlinewidth\":0,\"ticks\":\"\"}},\"type\":\"scatterpolar\"}],\"scatterpolargl\":[{\"marker\":{\"colorbar\":{\"outlinewidth\":0,\"ticks\":\"\"}},\"type\":\"scatterpolargl\"}],\"scatterternary\":[{\"marker\":{\"colorbar\":{\"outlinewidth\":0,\"ticks\":\"\"}},\"type\":\"scatterternary\"}],\"surface\":[{\"colorbar\":{\"outlinewidth\":0,\"ticks\":\"\"},\"colorscale\":[[0.0,\"#0d0887\"],[0.1111111111111111,\"#46039f\"],[0.2222222222222222,\"#7201a8\"],[0.3333333333333333,\"#9c179e\"],[0.4444444444444444,\"#bd3786\"],[0.5555555555555556,\"#d8576b\"],[0.6666666666666666,\"#ed7953\"],[0.7777777777777778,\"#fb9f3a\"],[0.8888888888888888,\"#fdca26\"],[1.0,\"#f0f921\"]],\"type\":\"surface\"}],\"table\":[{\"cells\":{\"fill\":{\"color\":\"#EBF0F8\"},\"line\":{\"color\":\"white\"}},\"header\":{\"fill\":{\"color\":\"#C8D4E3\"},\"line\":{\"color\":\"white\"}},\"type\":\"table\"}]},\"layout\":{\"annotationdefaults\":{\"arrowcolor\":\"#2a3f5f\",\"arrowhead\":0,\"arrowwidth\":1},\"autotypenumbers\":\"strict\",\"coloraxis\":{\"colorbar\":{\"outlinewidth\":0,\"ticks\":\"\"}},\"colorscale\":{\"diverging\":[[0,\"#8e0152\"],[0.1,\"#c51b7d\"],[0.2,\"#de77ae\"],[0.3,\"#f1b6da\"],[0.4,\"#fde0ef\"],[0.5,\"#f7f7f7\"],[0.6,\"#e6f5d0\"],[0.7,\"#b8e186\"],[0.8,\"#7fbc41\"],[0.9,\"#4d9221\"],[1,\"#276419\"]],\"sequential\":[[0.0,\"#0d0887\"],[0.1111111111111111,\"#46039f\"],[0.2222222222222222,\"#7201a8\"],[0.3333333333333333,\"#9c179e\"],[0.4444444444444444,\"#bd3786\"],[0.5555555555555556,\"#d8576b\"],[0.6666666666666666,\"#ed7953\"],[0.7777777777777778,\"#fb9f3a\"],[0.8888888888888888,\"#fdca26\"],[1.0,\"#f0f921\"]],\"sequentialminus\":[[0.0,\"#0d0887\"],[0.1111111111111111,\"#46039f\"],[0.2222222222222222,\"#7201a8\"],[0.3333333333333333,\"#9c179e\"],[0.4444444444444444,\"#bd3786\"],[0.5555555555555556,\"#d8576b\"],[0.6666666666666666,\"#ed7953\"],[0.7777777777777778,\"#fb9f3a\"],[0.8888888888888888,\"#fdca26\"],[1.0,\"#f0f921\"]]},\"colorway\":[\"#636efa\",\"#EF553B\",\"#00cc96\",\"#ab63fa\",\"#FFA15A\",\"#19d3f3\",\"#FF6692\",\"#B6E880\",\"#FF97FF\",\"#FECB52\"],\"font\":{\"color\":\"#2a3f5f\"},\"geo\":{\"bgcolor\":\"white\",\"lakecolor\":\"white\",\"landcolor\":\"#E5ECF6\",\"showlakes\":true,\"showland\":true,\"subunitcolor\":\"white\"},\"hoverlabel\":{\"align\":\"left\"},\"hovermode\":\"closest\",\"mapbox\":{\"style\":\"light\"},\"paper_bgcolor\":\"white\",\"plot_bgcolor\":\"#E5ECF6\",\"polar\":{\"angularaxis\":{\"gridcolor\":\"white\",\"linecolor\":\"white\",\"ticks\":\"\"},\"bgcolor\":\"#E5ECF6\",\"radialaxis\":{\"gridcolor\":\"white\",\"linecolor\":\"white\",\"ticks\":\"\"}},\"scene\":{\"xaxis\":{\"backgroundcolor\":\"#E5ECF6\",\"gridcolor\":\"white\",\"gridwidth\":2,\"linecolor\":\"white\",\"showbackground\":true,\"ticks\":\"\",\"zerolinecolor\":\"white\"},\"yaxis\":{\"backgroundcolor\":\"#E5ECF6\",\"gridcolor\":\"white\",\"gridwidth\":2,\"linecolor\":\"white\",\"showbackground\":true,\"ticks\":\"\",\"zerolinecolor\":\"white\"},\"zaxis\":{\"backgroundcolor\":\"#E5ECF6\",\"gridcolor\":\"white\",\"gridwidth\":2,\"linecolor\":\"white\",\"showbackground\":true,\"ticks\":\"\",\"zerolinecolor\":\"white\"}},\"shapedefaults\":{\"line\":{\"color\":\"#2a3f5f\"}},\"ternary\":{\"aaxis\":{\"gridcolor\":\"white\",\"linecolor\":\"white\",\"ticks\":\"\"},\"baxis\":{\"gridcolor\":\"white\",\"linecolor\":\"white\",\"ticks\":\"\"},\"bgcolor\":\"#E5ECF6\",\"caxis\":{\"gridcolor\":\"white\",\"linecolor\":\"white\",\"ticks\":\"\"}},\"title\":{\"x\":0.05},\"xaxis\":{\"automargin\":true,\"gridcolor\":\"white\",\"linecolor\":\"white\",\"ticks\":\"\",\"title\":{\"standoff\":15},\"zerolinecolor\":\"white\",\"zerolinewidth\":2},\"yaxis\":{\"automargin\":true,\"gridcolor\":\"white\",\"linecolor\":\"white\",\"ticks\":\"\",\"title\":{\"standoff\":15},\"zerolinecolor\":\"white\",\"zerolinewidth\":2}}},\"xaxis\":{\"anchor\":\"y\",\"domain\":[0.0,1.0],\"title\":{\"text\":\"JobRole\"}},\"yaxis\":{\"anchor\":\"x\",\"domain\":[0.0,1.0],\"title\":{\"text\":\"MonthlyIncome\"}},\"legend\":{\"title\":{\"text\":\"Attrition\"},\"tracegroupgap\":0},\"margin\":{\"t\":60},\"barmode\":\"group\",\"height\":400,\"width\":600,\"title\":{\"text\":\"Average income by job role and attrition status\"}},                        {\"responsive\": true}                    ).then(function(){\n",
              "                            \n",
              "var gd = document.getElementById('4510f88d-2bc7-4f2b-86da-974934b520af');\n",
              "var x = new MutationObserver(function (mutations, observer) {{\n",
              "        var display = window.getComputedStyle(gd).display;\n",
              "        if (!display || display === 'none') {{\n",
              "            console.log([gd, 'removed!']);\n",
              "            Plotly.purge(gd);\n",
              "            observer.disconnect();\n",
              "        }}\n",
              "}});\n",
              "\n",
              "// Listen for the removal of the full notebook cells\n",
              "var notebookContainer = gd.closest('#notebook-container');\n",
              "if (notebookContainer) {{\n",
              "    x.observe(notebookContainer, {childList: true});\n",
              "}}\n",
              "\n",
              "// Listen for the clearing of the current output cell\n",
              "var outputEl = gd.closest('.output');\n",
              "if (outputEl) {{\n",
              "    x.observe(outputEl, {childList: true});\n",
              "}}\n",
              "\n",
              "                        })                };                            </script>        </div>\n",
              "</body>\n",
              "</html>"
            ]
          },
          "metadata": {}
        }
      ]
    },
    {
      "cell_type": "code",
      "source": [
        "#wykres\n",
        "mean_income = table_drop.groupby(['Gender', 'Attrition'])['MonthlyIncome'].mean().reset_index()\n",
        "\n",
        "fig = px.bar(mean_income, x=\"Gender\", y=\"MonthlyIncome\",\n",
        "             color='Attrition', barmode='group',\n",
        "             height=400, width=500)\n",
        "fig.update_layout(title= \"Average income by gender and attrition status\")"
      ],
      "metadata": {
        "colab": {
          "base_uri": "https://localhost:8080/",
          "height": 417
        },
        "id": "YxTzWeK8mZX4",
        "outputId": "b12edd1e-0975-4db5-fbf3-82b658a0d0be"
      },
      "execution_count": null,
      "outputs": [
        {
          "output_type": "display_data",
          "data": {
            "text/html": [
              "<html>\n",
              "<head><meta charset=\"utf-8\" /></head>\n",
              "<body>\n",
              "    <div>            <script src=\"https://cdnjs.cloudflare.com/ajax/libs/mathjax/2.7.5/MathJax.js?config=TeX-AMS-MML_SVG\"></script><script type=\"text/javascript\">if (window.MathJax) {MathJax.Hub.Config({SVG: {font: \"STIX-Web\"}});}</script>                <script type=\"text/javascript\">window.PlotlyConfig = {MathJaxConfig: 'local'};</script>\n",
              "        <script src=\"https://cdn.plot.ly/plotly-2.8.3.min.js\"></script>                <div id=\"b0e65e63-635b-430d-bcf7-8b2236583c8a\" class=\"plotly-graph-div\" style=\"height:400px; width:500px;\"></div>            <script type=\"text/javascript\">                                    window.PLOTLYENV=window.PLOTLYENV || {};                                    if (document.getElementById(\"b0e65e63-635b-430d-bcf7-8b2236583c8a\")) {                    Plotly.newPlot(                        \"b0e65e63-635b-430d-bcf7-8b2236583c8a\",                        [{\"alignmentgroup\":\"True\",\"hovertemplate\":\"Attrition=No<br>Gender=%{x}<br>MonthlyIncome=%{y}<extra></extra>\",\"legendgroup\":\"No\",\"marker\":{\"color\":\"#636efa\",\"pattern\":{\"shape\":\"\"}},\"name\":\"No\",\"offsetgroup\":\"No\",\"orientation\":\"v\",\"showlegend\":true,\"textposition\":\"auto\",\"x\":[\"Female\",\"Male\"],\"xaxis\":\"x\",\"y\":[6684.242944785276,6445.03557312253],\"yaxis\":\"y\",\"type\":\"bar\"},{\"alignmentgroup\":\"True\",\"hovertemplate\":\"Attrition=Yes<br>Gender=%{x}<br>MonthlyIncome=%{y}<extra></extra>\",\"legendgroup\":\"Yes\",\"marker\":{\"color\":\"#EF553B\",\"pattern\":{\"shape\":\"\"}},\"name\":\"Yes\",\"offsetgroup\":\"Yes\",\"orientation\":\"v\",\"showlegend\":true,\"textposition\":\"auto\",\"x\":[\"Female\",\"Male\"],\"xaxis\":\"x\",\"y\":[6555.393497757847,6251.063909774436],\"yaxis\":\"y\",\"type\":\"bar\"}],                        {\"template\":{\"data\":{\"bar\":[{\"error_x\":{\"color\":\"#2a3f5f\"},\"error_y\":{\"color\":\"#2a3f5f\"},\"marker\":{\"line\":{\"color\":\"#E5ECF6\",\"width\":0.5},\"pattern\":{\"fillmode\":\"overlay\",\"size\":10,\"solidity\":0.2}},\"type\":\"bar\"}],\"barpolar\":[{\"marker\":{\"line\":{\"color\":\"#E5ECF6\",\"width\":0.5},\"pattern\":{\"fillmode\":\"overlay\",\"size\":10,\"solidity\":0.2}},\"type\":\"barpolar\"}],\"carpet\":[{\"aaxis\":{\"endlinecolor\":\"#2a3f5f\",\"gridcolor\":\"white\",\"linecolor\":\"white\",\"minorgridcolor\":\"white\",\"startlinecolor\":\"#2a3f5f\"},\"baxis\":{\"endlinecolor\":\"#2a3f5f\",\"gridcolor\":\"white\",\"linecolor\":\"white\",\"minorgridcolor\":\"white\",\"startlinecolor\":\"#2a3f5f\"},\"type\":\"carpet\"}],\"choropleth\":[{\"colorbar\":{\"outlinewidth\":0,\"ticks\":\"\"},\"type\":\"choropleth\"}],\"contour\":[{\"colorbar\":{\"outlinewidth\":0,\"ticks\":\"\"},\"colorscale\":[[0.0,\"#0d0887\"],[0.1111111111111111,\"#46039f\"],[0.2222222222222222,\"#7201a8\"],[0.3333333333333333,\"#9c179e\"],[0.4444444444444444,\"#bd3786\"],[0.5555555555555556,\"#d8576b\"],[0.6666666666666666,\"#ed7953\"],[0.7777777777777778,\"#fb9f3a\"],[0.8888888888888888,\"#fdca26\"],[1.0,\"#f0f921\"]],\"type\":\"contour\"}],\"contourcarpet\":[{\"colorbar\":{\"outlinewidth\":0,\"ticks\":\"\"},\"type\":\"contourcarpet\"}],\"heatmap\":[{\"colorbar\":{\"outlinewidth\":0,\"ticks\":\"\"},\"colorscale\":[[0.0,\"#0d0887\"],[0.1111111111111111,\"#46039f\"],[0.2222222222222222,\"#7201a8\"],[0.3333333333333333,\"#9c179e\"],[0.4444444444444444,\"#bd3786\"],[0.5555555555555556,\"#d8576b\"],[0.6666666666666666,\"#ed7953\"],[0.7777777777777778,\"#fb9f3a\"],[0.8888888888888888,\"#fdca26\"],[1.0,\"#f0f921\"]],\"type\":\"heatmap\"}],\"heatmapgl\":[{\"colorbar\":{\"outlinewidth\":0,\"ticks\":\"\"},\"colorscale\":[[0.0,\"#0d0887\"],[0.1111111111111111,\"#46039f\"],[0.2222222222222222,\"#7201a8\"],[0.3333333333333333,\"#9c179e\"],[0.4444444444444444,\"#bd3786\"],[0.5555555555555556,\"#d8576b\"],[0.6666666666666666,\"#ed7953\"],[0.7777777777777778,\"#fb9f3a\"],[0.8888888888888888,\"#fdca26\"],[1.0,\"#f0f921\"]],\"type\":\"heatmapgl\"}],\"histogram\":[{\"marker\":{\"pattern\":{\"fillmode\":\"overlay\",\"size\":10,\"solidity\":0.2}},\"type\":\"histogram\"}],\"histogram2d\":[{\"colorbar\":{\"outlinewidth\":0,\"ticks\":\"\"},\"colorscale\":[[0.0,\"#0d0887\"],[0.1111111111111111,\"#46039f\"],[0.2222222222222222,\"#7201a8\"],[0.3333333333333333,\"#9c179e\"],[0.4444444444444444,\"#bd3786\"],[0.5555555555555556,\"#d8576b\"],[0.6666666666666666,\"#ed7953\"],[0.7777777777777778,\"#fb9f3a\"],[0.8888888888888888,\"#fdca26\"],[1.0,\"#f0f921\"]],\"type\":\"histogram2d\"}],\"histogram2dcontour\":[{\"colorbar\":{\"outlinewidth\":0,\"ticks\":\"\"},\"colorscale\":[[0.0,\"#0d0887\"],[0.1111111111111111,\"#46039f\"],[0.2222222222222222,\"#7201a8\"],[0.3333333333333333,\"#9c179e\"],[0.4444444444444444,\"#bd3786\"],[0.5555555555555556,\"#d8576b\"],[0.6666666666666666,\"#ed7953\"],[0.7777777777777778,\"#fb9f3a\"],[0.8888888888888888,\"#fdca26\"],[1.0,\"#f0f921\"]],\"type\":\"histogram2dcontour\"}],\"mesh3d\":[{\"colorbar\":{\"outlinewidth\":0,\"ticks\":\"\"},\"type\":\"mesh3d\"}],\"parcoords\":[{\"line\":{\"colorbar\":{\"outlinewidth\":0,\"ticks\":\"\"}},\"type\":\"parcoords\"}],\"pie\":[{\"automargin\":true,\"type\":\"pie\"}],\"scatter\":[{\"marker\":{\"colorbar\":{\"outlinewidth\":0,\"ticks\":\"\"}},\"type\":\"scatter\"}],\"scatter3d\":[{\"line\":{\"colorbar\":{\"outlinewidth\":0,\"ticks\":\"\"}},\"marker\":{\"colorbar\":{\"outlinewidth\":0,\"ticks\":\"\"}},\"type\":\"scatter3d\"}],\"scattercarpet\":[{\"marker\":{\"colorbar\":{\"outlinewidth\":0,\"ticks\":\"\"}},\"type\":\"scattercarpet\"}],\"scattergeo\":[{\"marker\":{\"colorbar\":{\"outlinewidth\":0,\"ticks\":\"\"}},\"type\":\"scattergeo\"}],\"scattergl\":[{\"marker\":{\"colorbar\":{\"outlinewidth\":0,\"ticks\":\"\"}},\"type\":\"scattergl\"}],\"scattermapbox\":[{\"marker\":{\"colorbar\":{\"outlinewidth\":0,\"ticks\":\"\"}},\"type\":\"scattermapbox\"}],\"scatterpolar\":[{\"marker\":{\"colorbar\":{\"outlinewidth\":0,\"ticks\":\"\"}},\"type\":\"scatterpolar\"}],\"scatterpolargl\":[{\"marker\":{\"colorbar\":{\"outlinewidth\":0,\"ticks\":\"\"}},\"type\":\"scatterpolargl\"}],\"scatterternary\":[{\"marker\":{\"colorbar\":{\"outlinewidth\":0,\"ticks\":\"\"}},\"type\":\"scatterternary\"}],\"surface\":[{\"colorbar\":{\"outlinewidth\":0,\"ticks\":\"\"},\"colorscale\":[[0.0,\"#0d0887\"],[0.1111111111111111,\"#46039f\"],[0.2222222222222222,\"#7201a8\"],[0.3333333333333333,\"#9c179e\"],[0.4444444444444444,\"#bd3786\"],[0.5555555555555556,\"#d8576b\"],[0.6666666666666666,\"#ed7953\"],[0.7777777777777778,\"#fb9f3a\"],[0.8888888888888888,\"#fdca26\"],[1.0,\"#f0f921\"]],\"type\":\"surface\"}],\"table\":[{\"cells\":{\"fill\":{\"color\":\"#EBF0F8\"},\"line\":{\"color\":\"white\"}},\"header\":{\"fill\":{\"color\":\"#C8D4E3\"},\"line\":{\"color\":\"white\"}},\"type\":\"table\"}]},\"layout\":{\"annotationdefaults\":{\"arrowcolor\":\"#2a3f5f\",\"arrowhead\":0,\"arrowwidth\":1},\"autotypenumbers\":\"strict\",\"coloraxis\":{\"colorbar\":{\"outlinewidth\":0,\"ticks\":\"\"}},\"colorscale\":{\"diverging\":[[0,\"#8e0152\"],[0.1,\"#c51b7d\"],[0.2,\"#de77ae\"],[0.3,\"#f1b6da\"],[0.4,\"#fde0ef\"],[0.5,\"#f7f7f7\"],[0.6,\"#e6f5d0\"],[0.7,\"#b8e186\"],[0.8,\"#7fbc41\"],[0.9,\"#4d9221\"],[1,\"#276419\"]],\"sequential\":[[0.0,\"#0d0887\"],[0.1111111111111111,\"#46039f\"],[0.2222222222222222,\"#7201a8\"],[0.3333333333333333,\"#9c179e\"],[0.4444444444444444,\"#bd3786\"],[0.5555555555555556,\"#d8576b\"],[0.6666666666666666,\"#ed7953\"],[0.7777777777777778,\"#fb9f3a\"],[0.8888888888888888,\"#fdca26\"],[1.0,\"#f0f921\"]],\"sequentialminus\":[[0.0,\"#0d0887\"],[0.1111111111111111,\"#46039f\"],[0.2222222222222222,\"#7201a8\"],[0.3333333333333333,\"#9c179e\"],[0.4444444444444444,\"#bd3786\"],[0.5555555555555556,\"#d8576b\"],[0.6666666666666666,\"#ed7953\"],[0.7777777777777778,\"#fb9f3a\"],[0.8888888888888888,\"#fdca26\"],[1.0,\"#f0f921\"]]},\"colorway\":[\"#636efa\",\"#EF553B\",\"#00cc96\",\"#ab63fa\",\"#FFA15A\",\"#19d3f3\",\"#FF6692\",\"#B6E880\",\"#FF97FF\",\"#FECB52\"],\"font\":{\"color\":\"#2a3f5f\"},\"geo\":{\"bgcolor\":\"white\",\"lakecolor\":\"white\",\"landcolor\":\"#E5ECF6\",\"showlakes\":true,\"showland\":true,\"subunitcolor\":\"white\"},\"hoverlabel\":{\"align\":\"left\"},\"hovermode\":\"closest\",\"mapbox\":{\"style\":\"light\"},\"paper_bgcolor\":\"white\",\"plot_bgcolor\":\"#E5ECF6\",\"polar\":{\"angularaxis\":{\"gridcolor\":\"white\",\"linecolor\":\"white\",\"ticks\":\"\"},\"bgcolor\":\"#E5ECF6\",\"radialaxis\":{\"gridcolor\":\"white\",\"linecolor\":\"white\",\"ticks\":\"\"}},\"scene\":{\"xaxis\":{\"backgroundcolor\":\"#E5ECF6\",\"gridcolor\":\"white\",\"gridwidth\":2,\"linecolor\":\"white\",\"showbackground\":true,\"ticks\":\"\",\"zerolinecolor\":\"white\"},\"yaxis\":{\"backgroundcolor\":\"#E5ECF6\",\"gridcolor\":\"white\",\"gridwidth\":2,\"linecolor\":\"white\",\"showbackground\":true,\"ticks\":\"\",\"zerolinecolor\":\"white\"},\"zaxis\":{\"backgroundcolor\":\"#E5ECF6\",\"gridcolor\":\"white\",\"gridwidth\":2,\"linecolor\":\"white\",\"showbackground\":true,\"ticks\":\"\",\"zerolinecolor\":\"white\"}},\"shapedefaults\":{\"line\":{\"color\":\"#2a3f5f\"}},\"ternary\":{\"aaxis\":{\"gridcolor\":\"white\",\"linecolor\":\"white\",\"ticks\":\"\"},\"baxis\":{\"gridcolor\":\"white\",\"linecolor\":\"white\",\"ticks\":\"\"},\"bgcolor\":\"#E5ECF6\",\"caxis\":{\"gridcolor\":\"white\",\"linecolor\":\"white\",\"ticks\":\"\"}},\"title\":{\"x\":0.05},\"xaxis\":{\"automargin\":true,\"gridcolor\":\"white\",\"linecolor\":\"white\",\"ticks\":\"\",\"title\":{\"standoff\":15},\"zerolinecolor\":\"white\",\"zerolinewidth\":2},\"yaxis\":{\"automargin\":true,\"gridcolor\":\"white\",\"linecolor\":\"white\",\"ticks\":\"\",\"title\":{\"standoff\":15},\"zerolinecolor\":\"white\",\"zerolinewidth\":2}}},\"xaxis\":{\"anchor\":\"y\",\"domain\":[0.0,1.0],\"title\":{\"text\":\"Gender\"}},\"yaxis\":{\"anchor\":\"x\",\"domain\":[0.0,1.0],\"title\":{\"text\":\"MonthlyIncome\"}},\"legend\":{\"title\":{\"text\":\"Attrition\"},\"tracegroupgap\":0},\"margin\":{\"t\":60},\"barmode\":\"group\",\"height\":400,\"width\":500,\"title\":{\"text\":\"Average income by gender and attrition status\"}},                        {\"responsive\": true}                    ).then(function(){\n",
              "                            \n",
              "var gd = document.getElementById('b0e65e63-635b-430d-bcf7-8b2236583c8a');\n",
              "var x = new MutationObserver(function (mutations, observer) {{\n",
              "        var display = window.getComputedStyle(gd).display;\n",
              "        if (!display || display === 'none') {{\n",
              "            console.log([gd, 'removed!']);\n",
              "            Plotly.purge(gd);\n",
              "            observer.disconnect();\n",
              "        }}\n",
              "}});\n",
              "\n",
              "// Listen for the removal of the full notebook cells\n",
              "var notebookContainer = gd.closest('#notebook-container');\n",
              "if (notebookContainer) {{\n",
              "    x.observe(notebookContainer, {childList: true});\n",
              "}}\n",
              "\n",
              "// Listen for the clearing of the current output cell\n",
              "var outputEl = gd.closest('.output');\n",
              "if (outputEl) {{\n",
              "    x.observe(outputEl, {childList: true});\n",
              "}}\n",
              "\n",
              "                        })                };                            </script>        </div>\n",
              "</body>\n",
              "</html>"
            ]
          },
          "metadata": {}
        }
      ]
    },
    {
      "cell_type": "code",
      "source": [
        "mean_years=table_drop.groupby(['YearsAtCompany', 'Attrition'])['YearsSinceLastPromotion'].mean().reset_index()\n",
        "px.scatter(table_drop, x='YearsAtCompany', y='YearsSinceLastPromotion',\n",
        "            color='Attrition',size_max=60,log_x=True,log_y=True)\n"
      ],
      "metadata": {
        "id": "isgCjfmvpIs3",
        "colab": {
          "base_uri": "https://localhost:8080/",
          "height": 542
        },
        "outputId": "eb74a80c-4817-4171-d4c7-5711628d2667"
      },
      "execution_count": null,
      "outputs": [
        {
          "output_type": "display_data",
          "data": {
            "text/html": [
              "<html>\n",
              "<head><meta charset=\"utf-8\" /></head>\n",
              "<body>\n",
              "    <div>            <script src=\"https://cdnjs.cloudflare.com/ajax/libs/mathjax/2.7.5/MathJax.js?config=TeX-AMS-MML_SVG\"></script><script type=\"text/javascript\">if (window.MathJax) {MathJax.Hub.Config({SVG: {font: \"STIX-Web\"}});}</script>                <script type=\"text/javascript\">window.PlotlyConfig = {MathJaxConfig: 'local'};</script>\n",
              "        <script src=\"https://cdn.plot.ly/plotly-2.8.3.min.js\"></script>                <div id=\"7ec906e8-e2da-4f08-896f-6f2869a2e361\" class=\"plotly-graph-div\" style=\"height:525px; width:100%;\"></div>            <script type=\"text/javascript\">                                    window.PLOTLYENV=window.PLOTLYENV || {};                                    if (document.getElementById(\"7ec906e8-e2da-4f08-896f-6f2869a2e361\")) {                    Plotly.newPlot(                        \"7ec906e8-e2da-4f08-896f-6f2869a2e361\",                        [{\"hovertemplate\":\"Attrition=No<br>YearsAtCompany=%{x}<br>YearsSinceLastPromotion=%{y}<extra></extra>\",\"legendgroup\":\"No\",\"marker\":{\"color\":\"#636efa\",\"symbol\":\"circle\"},\"mode\":\"markers\",\"name\":\"No\",\"showlegend\":true,\"x\":[10.0,5.0,5.0,5.0,1.0,7.0,9.0,20.0,10.0,5.0,9.0,9.0,9.0,2.0,3.0,14.0,8.0,3.0,14.0,5.0,24.0,10.0,6.0,10.0,5.0,1.0,4.0,10.0,6.0,1.0,4.0,6.0,3.0,5.0,3.0,1.0,2.0,5.0,4.0,5.0,3.0,11.0,5.0,4.0,20.0,3.0,2.0,15.0,5.0,0.0,4.0,7.0,4.0,8.0,2.0,10.0,5.0,20.0,4.0,5.0,9.0,8.0,10.0,4.0,4.0,20.0,9.0,21.0,5.0,11.0,6.0,1.0,9.0,7.0,5.0,8.0,36.0,10.0,6.0,10.0,20.0,1.0,10.0,21.0,3.0,1.0,10.0,3.0,5.0,3.0,4.0,26.0,5.0,3.0,5.0,6.0,1.0,2.0,1.0,4.0,4.0,7.0,5.0,5.0,19.0,16.0,5.0,10.0,4.0,13.0,10.0,3.0,22.0,6.0,1.0,4.0,7.0,13.0,10.0,3.0,9.0,0.0,5.0,7.0,22.0,15.0,10.0,3.0,6.0,9.0,10.0,10.0,1.0,9.0,5.0,7.0,3.0,19.0,7.0,5.0,18.0,7.0,1.0,10.0,1.0,10.0,11.0,9.0,8.0,5.0,13.0,10.0,2.0,1.0,13.0,8.0,25.0,17.0,9.0,4.0,2.0,11.0,3.0,9.0,5.0,15.0,18.0,1.0,5.0,5.0,11.0,8.0,5.0,6.0,10.0,19.0,14.0,9.0,9.0,10.0,6.0,5.0,6.0,0.0,2.0,10.0,8.0,4.0,5.0,8.0,2.0,2.0,21.0,1.0,1.0,4.0,4.0,1.0,3.0,4.0,7.0,15.0,2.0,5.0,20.0,21.0,9.0,12.0,10.0,9.0,2.0,5.0,10.0,2.0,0.0,11.0,15.0,1.0,12.0,7.0,21.0,3.0,10.0,2.0,1.0,5.0,3.0,7.0,4.0,20.0,2.0,5.0,5.0,3.0,3.0,1.0,10.0,26.0,10.0,5.0,2.0,3.0,5.0,2.0,21.0,1.0,1.0,15.0,18.0,1.0,1.0,5.0,6.0,10.0,1.0,22.0,5.0,10.0,11.0,5.0,3.0,5.0,5.0,5.0,18.0,11.0,10.0,9.0,10.0,7.0,9.0,2.0,5.0,5.0,9.0,2.0,11.0,3.0,12.0,3.0,5.0,5.0,19.0,4.0,14.0,6.0,14.0,6.0,5.0,22.0,4.0,0.0,6.0,1.0,3.0,4.0,7.0,5.0,10.0,10.0,4.0,11.0,37.0,20.0,33.0,2.0,2.0,3.0,5.0,7.0,10.0,5.0,3.0,3.0,10.0,7.0,3.0,2.0,6.0,3.0,9.0,7.0,8.0,5.0,10.0,0.0,8.0,34.0,11.0,4.0,3.0,6.0,7.0,4.0,9.0,2.0,2.0,13.0,5.0,3.0,9.0,9.0,9.0,6.0,13.0,5.0,2.0,3.0,22.0,2.0,19.0,23.0,7.0,0.0,9.0,5.0,7.0,11.0,6.0,3.0,1.0,8.0,1.0,17.0,10.0,6.0,1.0,0.0,22.0,20.0,6.0,11.0,8.0,2.0,1.0,8.0,5.0,5.0,5.0,3.0,8.0,7.0,4.0,1.0,12.0,22.0,2.0,2.0,1.0,2.0,9.0,11.0,10.0,22.0,7.0,26.0,3.0,3.0,1.0,6.0,6.0,5.0,7.0,1.0,4.0,10.0,1.0,20.0,11.0,10.0,4.0,10.0,15.0,4.0,6.0,3.0,0.0,17.0,9.0,11.0,2.0,8.0,10.0,15.0,7.0,1.0,2.0,8.0,3.0,4.0,15.0,5.0,7.0,4.0,2.0,29.0,2.0,13.0,8.0,3.0,5.0,2.0,5.0,6.0,10.0,14.0,10.0,7.0,22.0,1.0,4.0,13.0,1.0,9.0,3.0,21.0,8.0,5.0,1.0,3.0,5.0,10.0,8.0,3.0,6.0,5.0,6.0,6.0,10.0,4.0,3.0,5.0,20.0,6.0,3.0,12.0,5.0,4.0,2.0,7.0,10.0,9.0,3.0,5.0,5.0,2.0,10.0,2.0,8.0,6.0,18.0,5.0,7.0,10.0,4.0,8.0,10.0,9.0,2.0,6.0,1.0,8.0,1.0,1.0,3.0,9.0,8.0,4.0,8.0,2.0,21.0,16.0,9.0,4.0,24.0,7.0,1.0,8.0,2.0,5.0,10.0,18.0,13.0,10.0,20.0,1.0,3.0,1.0,9.0,1.0,7.0,2.0,1.0,4.0,2.0,10.0,13.0,2.0,11.0,3.0,5.0,20.0,4.0,4.0,5.0,5.0,7.0,2.0,5.0,3.0,9.0,1.0,9.0,0.0,7.0,10.0,19.0,25.0,3.0,8.0,20.0,2.0,2.0,4.0,11.0,0.0,1.0,5.0,5.0,4.0,6.0,11.0,3.0,8.0,2.0,3.0,10.0,8.0,10.0,4.0,6.0,1.0,4.0,32.0,9.0,1.0,4.0,12.0,8.0,18.0,11.0,10.0,5.0,3.0,31.0,10.0,0.0,9.0,16.0,6.0,5.0,17.0,5.0,5.0,5.0,3.0,2.0,8.0,10.0,11.0,3.0,2.0,22.0,10.0,22.0,13.0,6.0,0.0,6.0,9.0,8.0,2.0,5.0,10.0,10.0,1.0,4.0,10.0,3.0,1.0,5.0,11.0,0.0,1.0,0.0,2.0,2.0,9.0,0.0,21.0,18.0,1.0,16.0,7.0,5.0,4.0,5.0,7.0,7.0,5.0,33.0,9.0,9.0,2.0,20.0,20.0,9.0,10.0,7.0,10.0,16.0,1.0,3.0,5.0,1.0,1.0,18.0,6.0,13.0,5.0,2.0,2.0,5.0,1.0,9.0,16.0,5.0,7.0,6.0,5.0,1.0,4.0,3.0,2.0,13.0,8.0,6.0,7.0,9.0,3.0,7.0,3.0,5.0,2.0,3.0,8.0,0.0,13.0,3.0,6.0,5.0,11.0,5.0,7.0,3.0,1.0,3.0,4.0,8.0,7.0,5.0,0.0,8.0,4.0,10.0,8.0,27.0,0.0,1.0,8.0,33.0,2.0,14.0,2.0,25.0,3.0,8.0,7.0,1.0,8.0,9.0,5.0,3.0,5.0,14.0,25.0,8.0,9.0,2.0,31.0,19.0,14.0,4.0,5.0,26.0,7.0,6.0,8.0,1.0,1.0,2.0,5.0,10.0,4.0,5.0,5.0,1.0,6.0,7.0,10.0,14.0,3.0,1.0,5.0,10.0,4.0,36.0,6.0,4.0,4.0,2.0,4.0,4.0,3.0,1.0,7.0,0.0,5.0,6.0,3.0,9.0,1.0,4.0,5.0,10.0,5.0,13.0,12.0,9.0,1.0,9.0,1.0,3.0,1.0,3.0,2.0,9.0,3.0,10.0,18.0,5.0,9.0,3.0,12.0,0.0,7.0,5.0,3.0,4.0,3.0,10.0,20.0,6.0,2.0,4.0,10.0,2.0,15.0,1.0,8.0,15.0,5.0,12.0,12.0,2.0,5.0,16.0,2.0,1.0,5.0,10.0,10.0,11.0,33.0,10.0,11.0,9.0,1.0,15.0,2.0,12.0,0.0,5.0,4.0,11.0,11.0,3.0,5.0,10.0,10.0,5.0,6.0,5.0,1.0,9.0,4.0,7.0,5.0,2.0,1.0,4.0,3.0,10.0,9.0,2.0,4.0,8.0,1.0,13.0,5.0,2.0,2.0,8.0,1.0,2.0,30.0,0.0,1.0,15.0,3.0,5.0,7.0,7.0,20.0,3.0,11.0,10.0,5.0,20.0,5.0,10.0,3.0,8.0,8.0,3.0,3.0,1.0,5.0,1.0,3.0,9.0,4.0,5.0,5.0,7.0,2.0,1.0,8.0,24.0,7.0,6.0,3.0,4.0,10.0,2.0,10.0,3.0,5.0,17.0,3.0,7.0,2.0,10.0,0.0,1.0,1.0,5.0,1.0,13.0,1.0,2.0,5.0,5.0,32.0,24.0,5.0,14.0,8.0,22.0,17.0,7.0,3.0,9.0,8.0,6.0,2.0,7.0,6.0,1.0,8.0,1.0,4.0,6.0,7.0,9.0,2.0,9.0,6.0,8.0,8.0,9.0,8.0,5.0,7.0,13.0,1.0,17.0,7.0,1.0,7.0,5.0,16.0,13.0,2.0,8.0,5.0,10.0,4.0,6.0,5.0,5.0,4.0,5.0,9.0,9.0,1.0,2.0,17.0,10.0,0.0,5.0,7.0,5.0,2.0,4.0,5.0,5.0,12.0,1.0,5.0,4.0,10.0,3.0,5.0,7.0,11.0,11.0,8.0,0.0,1.0,14.0,4.0,9.0,5.0,3.0,1.0,20.0,5.0,1.0,14.0,7.0,9.0,3.0,5.0,20.0,2.0,14.0,8.0,2.0,1.0,2.0,9.0,8.0,6.0,5.0,4.0,7.0,1.0,4.0,16.0,4.0,1.0,2.0,13.0,21.0,10.0,3.0,4.0,8.0,0.0,7.0,5.0,4.0,1.0,5.0,7.0,10.0,3.0,9.0,1.0,5.0,7.0,9.0,10.0,5.0,7.0,15.0,21.0,8.0,24.0,19.0,5.0,22.0,5.0,27.0,1.0,12.0,3.0,8.0,5.0,6.0,1.0,9.0,5.0,10.0,5.0,1.0,2.0,2.0,5.0,19.0,6.0,2.0,6.0,3.0,3.0,10.0,6.0,15.0,8.0,8.0,15.0,6.0,15.0,1.0,7.0,4.0,5.0,6.0,4.0,10.0,10.0,5.0,5.0,1.0,9.0,2.0,2.0,5.0,1.0,1.0,1.0,6.0,0.0,0.0,0.0,2332.0,5.0,4.0,6.0,1.0,4.0,6.0,6.0,3.0,2.0,5.0,4.0,5.0,14.0,14.0,3.0,2.0,15.0,5.0,0.0,4.0,4.0,7.0,4.0,10.0,5.0,20.0,4.0,4.0,5.0,5.0,9.0,9.0,13.0,4.0,9.0,8870.0,5.0,5.0,11.0,8.0,8.0,6.0,1.0,10.0,21.0,3.0,3.0,1.0,4879.0,1.0,1.0,4.0,7.0,5.0,5.0,5.0,5.0,10.0,4.0,13.0,9445.0,3.0,3.0,22.0,6.0,1.0,1.0,4.0,4.0,7.0,7.0,1.0,10.0,3.0,9.0,7.0,22.0,22.0,3.0,3.0,9.0,10.0,10.0,10.0,9.0,5.0,5.0,7.0,3.0,3.0,16.0,19.0,7.0,5.0,7.0,1.0,10.0,5801.0,8.0,5.0,13.0,10.0,2.0,1.0,13.0,8.0,25.0,17.0,9.0,2.0,3.0,9.0,21.0,18.0,8.0,5.0,6.0,10.0,19.0,8553.0,8553.0,10.0,6.0,0.0,2.0,8.0,5.0,8.0,2.0,2.0,1.0,1.0,4.0,3.0,4.0,1.0,15.0,15.0,7735.0,1.0,2506.0,2506.0,2506.0,20.0,1.0,10.0,10.0,9.0,2.0,2.0,0.0,5.0,10.0,11.0,10.0,12.0,21.0,21.0,10.0,10.0,10.0,2.0,5.0,5.0,3.0,4.0,20.0,5.0,5.0,5.0,3.0,3.0,1.0,10.0,1.0,3.0,5.0,5.0,2.0,1.0,1.0,1.0,1.0,7.0,10.0,10.0,5.0,5.0,3.0,5.0,18.0,10.0,7.0,9.0,9.0,2.0,5.0,5.0,9.0,9.0,8120.0,2.0,1.0,3.0,3.0,12.0,5.0,1.0,5.0,14.0,14.0,9681.0,6.0,6797.0,4.0,4.0,6.0,3707.0,5.0,10.0,7547.0,7547.0,37.0,20.0,20.0,5.0,2.0,2.0,3.0,3.0,3.0,3177.0,2.0,5.0,3.0,3.0,3.0,10.0,7.0,2.0,1.0,3.0,9.0,9.0,7.0,1036.0,3.0,3.0,3.0,8.0,8.0,0.0,6.0,6.0,3.0,9508.0,9.0,2.0,13.0,1488.0,1488.0,5.0,9.0,6.0,13.0,2.0,19.0,7.0,0.0,9.0,7.0,6.0,3.0,3.0,1.0,10.0,10.0,6.0,1.0,5581.0,9676.0,2.0,2.0,2.0,5.0,8.0,4.0,1.0,1.0,12.0,12.0,22.0,3.0,3.0,2.0,2.0,2.0,9.0,10.0,26.0,5904.0,19.0,7.0,10.0,20.0,20.0,0.0,11.0,5.0,4.0,4.0,15.0,15.0,4.0,6.0,3.0,3.0,0.0,9.0,11.0,10.0,7.0,1.0,1.0,2.0,2.0,8.0,8.0,3.0,7.0,4.0,2.0,2.0,5.0,3.0,2.0,4763.0,22.0,13.0,1.0,1.0,9.0,3.0,8.0,5.0,5.0,5.0,10.0,5.0,8.0,3.0,5.0,6.0,6.0,10.0,6.0,1.0,3.0,5.0,8.0,6.0,3.0,3.0,5.0,5.0,4.0,4.0,2.0,2.0,9.0,5.0,5.0,5.0,2.0,23.0,31.0,31.0,3507.0,3507.0,3507.0,8.0,15.0,4.0,4.0,8.0,8.0,8.0,8.0,1.0,1.0,1.0,3.0,8.0,4.0,6225.0,2.0,21.0,16.0,9.0,9.0,4.0,8.0,2.0,5.0,18.0,18.0,13.0,1.0,9.0,9.0,9.0,0.0,0.0,1.0,18.0,10.0,5066.0,5066.0,2.0,11.0,2.0,20.0,5.0,5.0,4.0,5.0,5.0,7.0,4.0,2.0,5.0,5132.0,19.0,25.0,3.0,8.0,1.0,2.0,2.0,11.0,5706.0,1.0,10.0,4.0,6.0,11.0,3231.0,10.0,8.0,8.0,10.0,10.0,6.0,6.0,4.0,12.0,12.0,8875.0,18.0,18.0,18.0,11.0,11.0,1.0,8.0,5.0,5.0,31.0,10.0,3912.0,9.0,5.0,5.0,1.0,0.0,5.0,3.0,8.0,3.0,3.0,3584.0,13.0,9352.0,6.0,0.0,8.0,5.0,5.0,10.0,5150.0,4.0,3.0,11.0,11.0,0.0,2.0,9.0,0.0,21.0,2.0,1.0,1.0,1646.0,1646.0,8862.0,7.0,7.0,2.0,5.0,2516.0,1.0,1.0,3126.0,20.0,10.0,3.0,5.0,5.0,1.0,1.0,18.0,6.0,5276.0,2.0,1.0,9.0,9.0,4.0,4.0,4.0,6.0,9.0,9.0,32.0,3.0,6.0,13.0,13.0,3074.0,3074.0,7.0,7335.0,4706.0,1.0,1.0,5.0,8.0,8.0,0.0,3.0,6.0,5.0,3645.0,3645.0,5.0,1.0,1.0,4.0,4.0,4.0,8.0,0.0,4.0,0.0,8.0,5.0,4.0,4.0,4.0,27.0,9.0,0.0,0.0,1.0,1.0,1.0,2987.0,2987.0,14.0,2.0,2.0,8.0,7.0,1.0,1.0,8.0,9.0,5.0,25.0,3202.0,3202.0,2.0,2.0,4.0,26.0,3.0,10.0,10.0,5.0,5.0,5.0,5.0,5.0,0.0,1.0,10.0,3.0,3.0,10.0,5368.0,5368.0,4.0,4.0,2925.0,4.0,4.0,4.0,0.0,5.0,10.0,13.0,12.0,9.0,1.0,3.0,2.0,9.0,3.0,0.0,0.0,7.0,7.0,5.0,5.0,5.0,9.0,3.0,3734.0,6.0,2.0,1.0,1564.0,2.0,15.0,15.0,15.0,5.0,12.0,1.0,5.0,16.0,16.0,1.0,2.0,10.0,10.0,8543.0,10.0,33.0,1.0,12.0,12.0,11.0,11.0,1.0,11.0,10.0,7366.0,7366.0,3.0,4014.0,4014.0,6.0,5.0,1.0,1.0,1.0,2.0,9.0,1.0,5.0,5.0,2.0,2.0,30.0,0.0,1.0,15.0,5.0,7.0,7.0,20.0,20.0,10.0,10.0,5.0,5.0,8.0,8.0,8.0,8.0,3.0,3.0,3.0,5.0,9.0,5.0,7.0,7.0,7.0,6.0,10.0,10.0,5.0,7.0,7.0,2.0,1.0,1.0,8179.0,7.0,7.0,1.0,1.0,5.0,5.0,1184.0,8.0,3.0,3.0,3.0,2809.0,6.0,2.0,1.0,4.0,7.0,9.0,7.0,7.0,3655.0,3655.0,2.0,9.0,6.0,5.0,9196.0,5.0,16.0,1.0,13.0,5.0,4.0,4.0,6.0,5.0,4.0,4.0,9.0,9.0,9.0,6834.0,3.0,0.0,7337.0,2.0,2.0,5.0,4.0,5.0,5.0,5.0,12.0,1.0,1.0,5.0,4.0,4.0,10.0,10.0,3.0,3.0,3.0,7.0,11.0,0.0,0.0,8.0,1.0,14.0,4.0,5.0,5.0,5.0,5.0,1.0,1.0,1.0,7.0,9.0,2041.0,20.0,6.0,6.0,8.0,2.0,1.0,1.0,2.0,2.0,9.0,9.0,6.0,6.0,5.0,5.0,1977.0,4.0,4.0,4.0,10.0,10.0,3.0,7.0,4.0,1.0,1.0,5.0,7.0,10.0,3.0,9.0,1.0,7.0,5.0,7.0,15.0,24.0,9505.0,5765.0,22.0,3.0,10.0,8.0,1.0,1.0,7338.0,5.0,10.0,1.0,19.0,6.0,2.0,6.0,3.0,3.0,10.0,6.0,6.0,8976.0,6.0,2.0,15.0,4.0,6.0,4.0,4.0,4.0,9.0,4.0,2.0,2.0,7.0,7.0,1.0,3.0,4369.0,10.0,7.0,7.0,8.0,8.0,6.0,16.0,3.0,3.0,8.0,4198.0,20.0,5.0,2.0,9.0,9.0,20.0,5.0,3.0,3.0,2.0,1.0,5.0,5.0,7.0,7.0,2.0,1.0,14.0,8.0,7.0,4.0,19.0,19.0,19.0,10.0,7.0,2.0,2.0,6.0,6.0,1.0,8.0,10.0,3.0,3.0,3.0,8039.0,15.0,4.0,20.0,10.0,6.0,3.0,18.0,18.0,2.0,2.0,8110.0,8.0,8.0,4.0,3.0,2.0,20.0,20.0,10.0,10.0,7.0,7.0,1.0,3.0,2.0,5.0,14.0,13.0],\"xaxis\":\"x\",\"y\":[3.0,0.0,4.0,0.0,0.0,7.0,7.0,9.0,0.0,0.0,1.0,1.0,1.0,2.0,1.0,4.0,1.0,2.0,4.0,1.0,1.0,0.0,0.0,8.0,1.0,1.0,1.0,0.0,1.0,0.0,0.0,1.0,0.0,1.0,1.0,0.0,2.0,0.0,0.0,0.0,1.0,3.0,1.0,3.0,5.0,0.0,2.0,4.0,4.0,0.0,0.0,6.0,0.0,0.0,1.0,4.0,0.0,4.0,0.0,0.0,7.0,7.0,8.0,1.0,0.0,1.0,6.0,15.0,1.0,4.0,1.0,0.0,7.0,1.0,0.0,7.0,4.0,8.0,0.0,0.0,11.0,0.0,3.0,3.0,1.0,0.0,0.0,1.0,0.0,1.0,0.0,3.0,0.0,0.0,1.0,1.0,0.0,0.0,0.0,1.0,0.0,0.0,4.0,1.0,9.0,4.0,0.0,0.0,0.0,4.0,9.0,1.0,3.0,0.0,0.0,2.0,1.0,4.0,0.0,2.0,7.0,0.0,0.0,0.0,5.0,6.0,0.0,1.0,0.0,3.0,0.0,1.0,0.0,1.0,1.0,1.0,2.0,1.0,0.0,1.0,2.0,0.0,0.0,1.0,0.0,0.0,1.0,2.0,7.0,1.0,1.0,8.0,2.0,0.0,12.0,0.0,3.0,12.0,0.0,1.0,2.0,4.0,1.0,1.0,0.0,0.0,1.0,0.0,1.0,1.0,6.0,3.0,0.0,0.0,7.0,2.0,2.0,1.0,7.0,4.0,3.0,1.0,0.0,0.0,2.0,5.0,1.0,1.0,1.0,7.0,2.0,2.0,12.0,0.0,0.0,1.0,1.0,0.0,0.0,0.0,1.0,6.0,2.0,1.0,11.0,5.0,0.0,2.0,0.0,4.0,2.0,0.0,0.0,2.0,0.0,4.0,4.0,1.0,3.0,0.0,13.0,0.0,1.0,1.0,0.0,0.0,1.0,1.0,1.0,4.0,2.0,0.0,1.0,1.0,1.0,0.0,8.0,15.0,0.0,0.0,2.0,0.0,1.0,2.0,2.0,0.0,0.0,5.0,2.0,0.0,0.0,0.0,1.0,1.0,0.0,1.0,1.0,1.0,0.0,0.0,1.0,1.0,4.0,1.0,14.0,3.0,0.0,2.0,0.0,1.0,8.0,2.0,1.0,1.0,4.0,2.0,5.0,0.0,4.0,0.0,0.0,1.0,11.0,1.0,3.0,1.0,6.0,0.0,1.0,13.0,0.0,0.0,1.0,0.0,1.0,1.0,1.0,1.0,1.0,5.0,0.0,4.0,1.0,12.0,11.0,0.0,1.0,0.0,0.0,3.0,8.0,0.0,1.0,0.0,1.0,0.0,0.0,2.0,3.0,1.0,0.0,1.0,7.0,0.0,7.0,0.0,7.0,1.0,7.0,0.0,1.0,0.0,1.0,0.0,2.0,2.0,0.0,3.0,0.0,1.0,5.0,1.0,0.0,0.0,0.0,1.0,2.0,2.0,14.0,2.0,11.0,14.0,0.0,0.0,8.0,0.0,1.0,3.0,4.0,2.0,0.0,1.0,0.0,0.0,0.0,1.0,0.0,0.0,11.0,13.0,1.0,0.0,0.0,2.0,0.0,6.0,1.0,0.0,2.0,1.0,1.0,0.0,3.0,0.0,1.0,11.0,2.0,2.0,0.0,2.0,0.0,2.0,6.0,4.0,7.0,0.0,1.0,1.0,1.0,1.0,1.0,1.0,1.0,0.0,0.0,1.0,0.0,14.0,5.0,6.0,1.0,0.0,4.0,2.0,1.0,1.0,0.0,5.0,7.0,5.0,2.0,0.0,9.0,2.0,3.0,0.0,2.0,0.0,0.0,0.0,5.0,0.0,7.0,1.0,1.0,11.0,2.0,4.0,7.0,1.0,4.0,2.0,0.0,0.0,9.0,1.0,9.0,5.0,13.0,0.0,0.0,5.0,0.0,1.0,0.0,12.0,2.0,2.0,0.0,1.0,0.0,1.0,0.0,0.0,0.0,0.0,0.0,1.0,0.0,1.0,1.0,0.0,15.0,3.0,0.0,11.0,0.0,1.0,2.0,7.0,4.0,0.0,0.0,0.0,0.0,2.0,1.0,2.0,4.0,1.0,11.0,1.0,5.0,6.0,2.0,1.0,0.0,0.0,2.0,4.0,0.0,0.0,0.0,0.0,1.0,0.0,1.0,2.0,3.0,2.0,11.0,14.0,7.0,0.0,2.0,0.0,0.0,0.0,2.0,0.0,0.0,0.0,5.0,8.0,13.0,0.0,0.0,0.0,0.0,0.0,0.0,1.0,0.0,0.0,0.0,0.0,10.0,1.0,2.0,0.0,1.0,11.0,2.0,1.0,0.0,1.0,5.0,0.0,1.0,0.0,1.0,0.0,5.0,0.0,1.0,5.0,11.0,3.0,0.0,1.0,3.0,2.0,2.0,0.0,3.0,0.0,0.0,0.0,0.0,0.0,0.0,11.0,2.0,7.0,2.0,1.0,1.0,0.0,0.0,0.0,0.0,0.0,1.0,10.0,1.0,0.0,1.0,5.0,7.0,1.0,1.0,8.0,0.0,2.0,0.0,7.0,0.0,8.0,5.0,0.0,1.0,15.0,0.0,1.0,0.0,0.0,2.0,4.0,0.0,5.0,0.0,2.0,0.0,0.0,11.0,4.0,1.0,0.0,0.0,0.0,7.0,2.0,0.0,1.0,0.0,0.0,0.0,1.0,2.0,0.0,1.0,1.0,0.0,0.0,0.0,2.0,2.0,0.0,0.0,8.0,12.0,0.0,6.0,1.0,2.0,2.0,1.0,5.0,0.0,4.0,0.0,1.0,1.0,2.0,5.0,4.0,0.0,0.0,0.0,0.0,10.0,1.0,1.0,1.0,0.0,0.0,4.0,1.0,6.0,0.0,2.0,2.0,1.0,0.0,1.0,2.0,1.0,7.0,1.0,1.0,0.0,0.0,2.0,2.0,3.0,7.0,0.0,7.0,0.0,1.0,1.0,0.0,0.0,1.0,0.0,0.0,0.0,2.0,1.0,0.0,0.0,5.0,1.0,0.0,0.0,0.0,0.0,3.0,2.0,1.0,0.0,0.0,3.0,0.0,1.0,0.0,13.0,0.0,0.0,6.0,15.0,2.0,6.0,2.0,4.0,1.0,1.0,6.0,0.0,7.0,1.0,1.0,0.0,0.0,4.0,14.0,0.0,1.0,2.0,14.0,2.0,1.0,1.0,4.0,1.0,1.0,1.0,6.0,0.0,0.0,2.0,1.0,0.0,0.0,1.0,1.0,0.0,1.0,7.0,4.0,5.0,0.0,0.0,0.0,1.0,3.0,2.0,0.0,2.0,1.0,2.0,1.0,1.0,1.0,0.0,7.0,0.0,0.0,1.0,1.0,7.0,0.0,0.0,0.0,0.0,0.0,1.0,5.0,0.0,0.0,1.0,0.0,1.0,0.0,1.0,0.0,6.0,1.0,2.0,0.0,1.0,0.0,0.0,6.0,0.0,1.0,0.0,1.0,1.0,1.0,0.0,9.0,1.0,1.0,0.0,0.0,2.0,5.0,0.0,0.0,0.0,0.0,3.0,5.0,0.0,1.0,1.0,2.0,0.0,0.0,0.0,0.0,6.0,15.0,0.0,5.0,5.0,0.0,10.0,2.0,11.0,0.0,0.0,1.0,10.0,0.0,0.0,0.0,9.0,7.0,4.0,0.0,0.0,1.0,0.0,1.0,6.0,0.0,2.0,0.0,1.0,1.0,1.0,0.0,2.0,1.0,7.0,0.0,11.0,0.0,0.0,2.0,0.0,0.0,2.0,12.0,0.0,0.0,4.0,0.0,0.0,1.0,0.0,11.0,1.0,5.0,4.0,0.0,2.0,4.0,1.0,0.0,3.0,1.0,1.0,1.0,0.0,1.0,0.0,0.0,4.0,0.0,2.0,0.0,5.0,0.0,0.0,0.0,15.0,7.0,0.0,1.0,1.0,7.0,2.0,1.0,0.0,0.0,1.0,1.0,0.0,2.0,9.0,0.0,0.0,0.0,0.0,0.0,4.0,0.0,2.0,0.0,0.0,13.0,9.0,2.0,7.0,1.0,12.0,11.0,0.0,1.0,0.0,0.0,4.0,2.0,4.0,0.0,0.0,0.0,0.0,0.0,1.0,1.0,0.0,1.0,5.0,0.0,1.0,7.0,3.0,1.0,0.0,1.0,9.0,0.0,12.0,5.0,0.0,0.0,0.0,6.0,3.0,0.0,7.0,0.0,2.0,1.0,1.0,1.0,0.0,1.0,0.0,8.0,7.0,0.0,2.0,5.0,0.0,0.0,1.0,0.0,0.0,2.0,1.0,0.0,1.0,2.0,0.0,1.0,1.0,9.0,0.0,3.0,2.0,6.0,5.0,1.0,0.0,0.0,2.0,2.0,1.0,1.0,1.0,0.0,4.0,4.0,0.0,6.0,7.0,1.0,0.0,1.0,2.0,2.0,1.0,1.0,1.0,0.0,2.0,0.0,1.0,1.0,0.0,1.0,7.0,0.0,1.0,0.0,0.0,0.0,2.0,1.0,1.0,0.0,0.0,1.0,0.0,0.0,0.0,1.0,0.0,0.0,0.0,7.0,8.0,1.0,7.0,0.0,0.0,0.0,7.0,8.0,0.0,7.0,5.0,7.0,7.0,14.0,12.0,3.0,2.0,1.0,15.0,0.0,2.0,0.0,7.0,4.0,1.0,0.0,3.0,1.0,7.0,0.0,0.0,2.0,2.0,1.0,15.0,0.0,0.0,0.0,0.0,0.0,1.0,0.0,6.0,7.0,1.0,5.0,1.0,2.0,0.0,7.0,1.0,1.0,1.0,1.0,8080.0,8080.0,0.0,0.0,0.0,7.0,1.0,1.0,0.0,0.0,0.0,0.0,0.0,0.0,0.0,0.0,8.0,1.0,1.0,1.0,0.0,0.0,1.0,1.0,0.0,2.0,6920.0,0.0,0.0,11.0,11.0,8467.0,2.0,4.0,4.0,0.0,0.0,0.0,6.0,9420.0,4.0,0.0,4.0,0.0,0.0,0.0,0.0,7.0,7.0,6.0,0.0,6.0,0.0,8913.0,8913.0,4.0,7.0,7.0,8534.0,0.0,3.0,3.0,1.0,1.0,0.0,1.0,0.0,0.0,1.0,0.0,4.0,1.0,1.0,0.0,0.0,0.0,4.0,9.0,1.0,1.0,3.0,0.0,0.0,0.0,2.0,2.0,1.0,1.0,0.0,0.0,2.0,4940.0,0.0,5.0,5.0,1973.0,1973.0,3.0,8021.0,1.0,1.0,5738.0,1.0,1.0,1.0,2.0,2.0,3.0,1.0,0.0,1.0,0.0,0.0,1.0,2.0,3771.0,1.0,1.0,4958.0,2.0,8890.0,12.0,0.0,3.0,8538.0,0.0,2.0,3982.0,1.0,13.0,1.0,3.0,0.0,0.0,7.0,2.0,2.0,2.0,4.0,0.0,0.0,2.0,1.0,1.0,7.0,2.0,7240.0,0.0,0.0,1.0,0.0,0.0,0.0,6.0,6.0,2.0,0.0,1.0,1.0,1.0,4204.0,0.0,0.0,0.0,4.0,2.0,2.0,0.0,0.0,0.0,4.0,1.0,3.0,13.0,13.0,9.0,9.0,1.0,1.0,0.0,0.0,1.0,1.0,4.0,1.0,1.0,1.0,1.0,1.0,0.0,0.0,3486.0,0.0,1.0,1.0,3742.0,0.0,0.0,0.0,0.0,1.0,1.0,1.0,0.0,0.0,1.0,4.0,14.0,0.0,1.0,8.0,8.0,2.0,1.0,1.0,4.0,4.0,0.0,2.0,0.0,0.0,0.0,4.0,0.0,5994.0,1.0,9.0,3.0,6.0,0.0,13.0,0.0,0.0,1.0,0.0,1.0,1.0,0.0,0.0,1.0,6747.0,6747.0,0.0,7989.0,1.0,0.0,0.0,0.0,15.0,4200.0,0.0,1.0,1.0,1.0,1.0,0.0,2.0,0.0,1.0,0.0,0.0,1.0,0.0,0.0,0.0,1.0,7.0,7.0,0.0,0.0,0.0,1.0,4.0,2.0,0.0,3.0,1.0,1.0,0.0,5.0,0.0,0.0,2.0,11.0,0.0,0.0,8.0,1.0,4.0,8922.0,8922.0,0.0,0.0,0.0,1.0,0.0,13.0,0.0,2.0,2.0,2.0,2.0,1.0,3.0,9389.0,9389.0,4704.0,4704.0,11.0,2.0,2.0,2.0,2.0,2.0,0.0,6.0,0.0,1.0,3.0,1.0,1.0,14.0,14.0,0.0,5.0,4.0,1.0,1.0,2576.0,2576.0,2.0,1.0,1.0,1.0,2475.0,7.0,5.0,9.0,3.0,0.0,0.0,2.0,2.0,0.0,0.0,0.0,7.0,1.0,2.0,2.0,0.0,1.0,2.0,0.0,13.0,5.0,0.0,0.0,1.0,0.0,2.0,5284.0,5284.0,0.0,1.0,1.0,0.0,0.0,0.0,9990.0,1.0,0.0,0.0,0.0,1.0,0.0,7.0,3.0,0.0,0.0,0.0,0.0,6003.0,6003.0,2.0,2.0,4575.0,0.0,0.0,0.0,2.0,14.0,13.0,13.0,2.0,2.0,2.0,4.0,10.0,2.0,2.0,1.0,1.0,1.0,0.0,0.0,0.0,0.0,1.0,7609.0,2.0,3.0,2.0,11.0,14.0,7.0,7.0,0.0,0.0,2.0,0.0,0.0,0.0,5.0,0.0,0.0,0.0,0.0,0.0,0.0,0.0,11.0,0.0,0.0,0.0,1.0,2.0,2.0,11.0,2081.0,2081.0,1.0,0.0,5383.0,5.0,1.0,0.0,1.0,0.0,11.0,3.0,0.0,1.0,1.0,2.0,2.0,3.0,0.0,0.0,7.0,1058.0,0.0,11.0,2.0,1.0,0.0,0.0,0.0,0.0,0.0,0.0,1.0,5.0,5.0,7.0,1.0,1.0,1.0,1.0,1.0,5165.0,7.0,0.0,0.0,0.0,9.0,0.0,8.0,1.0,0.0,0.0,0.0,0.0,0.0,3832.0,0.0,0.0,0.0,4.0,1.0,1.0,0.0,7.0,1.0,1.0,0.0,0.0,0.0,2.0,9595.0,9595.0,0.0,2.0,0.0,0.0,8.0,2.0,0.0,0.0,6.0,6.0,1.0,5.0,5.0,1.0,4.0,0.0,0.0,0.0,1.0,5.0,0.0,1.0,1.0,1.0,0.0,0.0,4.0,1.0,2.0,2.0,0.0,1.0,1.0,0.0,0.0,0.0,1.0,1.0,1.0,2723.0,2.0,1.0,3.0,3.0,7.0,7.0,7.0,1.0,0.0,0.0,0.0,0.0,0.0,0.0,7868.0,1.0,0.0,0.0,5.0,5.0,1.0,0.0,0.0,3.0,3.0,3.0,2.0,0.0,0.0,0.0,3.0,0.0,0.0,0.0,0.0,13.0,0.0,0.0,0.0,0.0,0.0,0.0,2.0,2.0,6.0,2.0,2.0,1.0,6.0,0.0,0.0,7.0,3884.0,0.0,14.0,1.0,1.0,2.0,2.0,1.0,1.0,1.0,0.0,0.0,1.0,1.0,1.0,1.0,1.0,0.0,5266.0,4.0,1.0,1.0,1.0,3.0,3.0,1.0,1.0,2.0,1.0,1.0,1.0,0.0,0.0,0.0,1.0,6350.0,1.0,0.0,1.0,0.0,0.0,0.0,7427.0,7427.0,1.0,1.0,0.0,0.0,0.0,2922.0,1.0,0.0,1.0,1.0,8966.0,1.0,2.0,5.0,0.0,0.0,0.0,9175.0,0.0,1.0,1.0,1.0,0.0,2.0,4409.0,4409.0,0.0,6.0,15.0,5346.0,11.0,11.0,10.0,10.0,1.0,2025.0,9.0,7.0,7.0,1.0,0.0,0.0,2789.0,0.0,1.0,1.0,0.0,2.0,0.0,0.0,0.0,0.0,2.0,2.0,12.0,0.0,0.0,4.0,0.0,1.0,0.0,11.0,11.0,4.0,4.0,4.0,4.0,3.0,1.0,1.0,1.0,1.0,1.0,8053.0,6233.0,4.0,2.0,5.0,5.0,7.0,0.0,3057.0,1.0,0.0,0.0,0.0,2.0,0.0,8650.0,4.0,3.0,3.0,0.0,0.0,0.0,6305.0,7.0,1.0,1.0,1.0,1.0,0.0,4.0,2.0,0.0,0.0,1.0,0.0,7.0,7.0,0.0,0.0,1.0,5.0,4434.0,0.0,0.0,7137.0,6.0,0.0,3.0,0.0,1.0,1.0,1.0,0.0,1.0,1.0,8.0,7.0,7.0,5.0,0.0,0.0,1.0,4547.0,2.0,1.0,1.0,0.0,0.0,1.0,2.0,0.0,0.0,0.0,1.0,1.0,9.0,9.0,0.0,0.0,0.0,2.0,6.0,0.0,0.0,7056.0,0.0,2.0,2.0,1.0,2.0,2.0,4.0,0.0,0.0,0.0,7.0,1.0,1.0,2.0,0.0,0.0,1.0,1.0,0.0,0.0,2.0,2.0,0.0,0.0,1.0,1.0,2743.0,1.0,2.0,0.0,0.0,0.0,0.0,0.0,0.0,4468.0,0.0,8366.0,8366.0,0.0,7.0,8.0,1.0,7.0,0.0,0.0,0.0,9373.0,5.0,14.0,12.0,3.0,2.0,0.0,1.0,7.0,0.0,0.0,2.0,1.0,7521.0,0.0,15.0,8652.0,0.0,0.0,0.0,0.0,1.0,0.0,0.0,6.0,1.0,0.0,2.0,1.0,1.0,1.0,1.0,6881.0,7.0,0.0,9041.0,2.0,0.0,0.0,7322.0,1.0,1.0,7.0,0.0,0.0,5.0,5.0,4098.0,1.0,0.0,0.0,7.0,1.0,0.0,9885.0,2.0,3.0,3.0,0.0,1.0,0.0,2.0,2.0,0.0,1.0,0.0,1.0,1.0,2.0,0.0,8810.0,7.0,0.0,0.0,15.0,15.0,15.0,3.0,7.0,3082.0,3082.0,1.0,0.0,7816.0,7.0,0.0,2.0,2.0,2.0,2.0,8.0,0.0,1.0,0.0,1.0,1.0,13.0,13.0,2.0,2.0,2.0,5.0,5.0,1.0,7403.0,2.0,3.0,3.0,9.0,9.0,0.0,0.0,1.0,0.0,2778.0,1.0,2.0,5.0],\"yaxis\":\"y\",\"type\":\"scattergl\"},{\"hovertemplate\":\"Attrition=Yes<br>YearsAtCompany=%{x}<br>YearsSinceLastPromotion=%{y}<extra></extra>\",\"legendgroup\":\"Yes\",\"marker\":{\"color\":\"#EF553B\",\"symbol\":\"circle\"},\"mode\":\"markers\",\"name\":\"Yes\",\"showlegend\":true,\"x\":[2.0,2.0,1.0,0.0,1.0,1.0,0.0,10.0,1.0,14.0,2.0,20.0,3.0,13.0,7.0,5.0,1.0,1.0,1.0,2.0,7.0,16.0,10.0,21.0,10.0,2.0,1.0,1.0,1.0,0.0,4.0,10.0,10.0,9.0,10.0,10.0,1.0,7.0,2.0,2.0,7.0,7.0,0.0,1.0,1.0,4.0,6.0,14.0,1.0,5.0,2.0,2.0,5.0,40.0,3.0,2.0,10.0,9.0,1.0,1.0,33.0,3.0,3.0,1.0,6.0,8.0,24.0,9.0,1.0,2.0,3.0,19.0,4.0,5.0,0.0,4.0,5.0,1.0,1.0,1.0,2.0,7.0,7.0,4.0,5.0,3.0,1.0,10.0,1.0,5.0,4.0,6.0,1.0,1.0,8.0,1.0,2.0,23.0,31.0,15.0,2.0,0.0,8.0,1.0,0.0,18.0,1.0,2.0,4.0,5.0,4.0,9.0,0.0,1.0,10.0,8.0,2.0,10.0,1.0,8.0,10.0,4.0,1.0,0.0,17.0,13.0,4.0,1.0,5.0,8.0,11.0,2.0,2.0,1.0,10.0,1.0,4.0,9.0,32.0,6.0,1.0,1.0,0.0,4.0,2.0,5.0,9.0,1.0,6.0,2.0,1.0,5.0,1.0,3.0,5.0,0.0,7.0,3.0,10.0,1.0,4.0,4.0,9.0,1.0,5.0,1.0,4.0,1.0,3.0,1.0,10.0,1.0,1.0,3.0,4.0,2.0,4.0,0.0,8.0,1.0,8.0,22.0,9.0,7.0,3.0,1.0,7.0,6.0,1.0,0.0,1.0,1.0,11.0,3.0,2.0,5.0,1.0,1.0,5.0,3.0,0.0,6.0,5.0,6.0,5.0,2.0,4.0,5.0,3.0,10.0,1.0,2.0,2.0,10.0,5.0,5.0,5.0,2.0,2.0,7.0,7.0,7.0,2.0,5078.0,10.0,10.0,5.0,5.0,1.0,9.0,9.0,9.0,0.0,9.0,9.0,9.0,2.0,1.0,1.0,7345.0,14.0,14.0,8.0,8.0,3079.0,3079.0,3079.0,14.0,14.0,5.0,5.0,24.0,24.0,24.0,10.0,1.0,1.0,1.0,1.0,10.0,10.0,10.0,10.0,1.0,6.0,5.0,5.0,1.0,1.0,1.0,3.0,1.0,2.0,2.0,5.0,5.0,5.0,5.0,3.0,3.0,3.0,11.0,5.0,4.0,4.0,4.0,20.0,20.0,14.0,3.0,2.0,1761.0,5.0,5.0,0.0,0.0,4.0,7.0,7.0,4.0,4.0,8.0,8.0,20.0,20.0,2.0,2.0,2.0,10.0,5.0,5.0,20.0,20.0,3.0,3.0,3.0,5.0,9.0,13.0,8.0,8.0,10.0,10.0,4.0,1378.0,1378.0,4.0,4.0,20.0,20.0,20.0,9.0,21.0,21.0,8870.0,5.0,11.0,6.0,1.0,1.0,1.0,9.0,7.0,7.0,7.0,5.0,5.0,36.0,36.0,10.0,10.0,6.0,10.0,10.0,10.0,20.0,1.0,10.0,10.0,21.0,3.0,3.0,1.0,10.0,10.0,3.0,5.0,5.0,5.0,3.0,3.0,4.0,1.0,1.0,26.0,5.0,3.0,3.0,3.0,5.0,5.0,5.0,4879.0,4879.0,1.0,2.0,1.0,1.0,1.0,4.0,7.0,1.0,19.0,16.0,16.0,5.0,4.0,13.0,13.0,9445.0,9445.0,3.0,22.0,22.0,6.0,6.0,1.0,4.0,7.0,13.0,13.0,13.0,1.0,1.0,2265.0,2265.0,10.0,3.0,0.0,0.0,0.0,5.0,5.0,7.0,7.0,15.0,15.0,15.0,10.0,3.0,7.0,6.0,10.0,1.0,1.0,1.0,9.0,9.0,5.0,7.0,3.0,16.0,19.0,19.0,7.0,7.0,5.0,18.0,1.0,10.0,1.0,1.0,10.0,10.0,11.0,5801.0,5801.0,8.0,8.0,2.0,2.0,1.0,1.0,8.0,8.0,25.0,17.0,9.0,9.0,4.0,4.0,4.0,10.0,10.0,11.0,11.0,11.0,3.0,5.0,5.0,5.0,21.0,21.0,10.0,10.0,15.0,15.0,15.0,18.0,1.0,5.0,5.0,5.0,5.0,11.0,11.0,11.0,8.0,8.0,5.0,5.0,6.0,6.0,19.0,19.0,8553.0,9.0,9.0,3761.0,3761.0,3761.0,10.0,10.0,6.0,6.0,5.0,6.0,6.0,0.0,2.0,2.0,2.0,10.0,10.0,10.0,4.0,8.0,8.0,2.0,2.0,2.0,2051.0,1.0,1.0,4.0,4.0,4.0,4.0,1.0,7.0,7.0,7735.0,1.0,20.0,20.0,21.0,21.0,9.0,9.0,9.0,1.0,1.0,12.0,12.0,2.0,0.0,0.0,4.0,4.0,4.0,5.0,5.0,10.0,10.0,2.0,0.0,0.0,15.0,15.0,1.0,1.0,10.0,10.0,12.0,7.0,7.0,10.0,9.0,9.0,9.0,9066.0,3.0,10.0,2.0,2.0,1.0,1.0,5.0,3.0,3.0,7.0,7.0,20.0,20.0,3335.0,3335.0,3335.0,5.0,5.0,3.0,3.0,1.0,1.0,10.0,10.0,10.0,10.0,10.0,26.0,26.0,26.0,10.0,5.0,5.0,1.0,1.0,2.0,2.0,3.0,5.0,21.0,7.0,7.0,1.0,1.0,15.0,15.0,18.0,18.0,18.0,1.0,1.0,1.0,1.0,5.0,5.0,5.0,6.0,6.0,2.0,2.0,10.0,2.0,2.0,7.0,1.0,1.0,22.0,5.0,11.0,3.0,5.0,5.0,5.0,7.0,7.0,7.0,5.0,18.0,11.0,10.0,9.0,10.0,10.0,9.0,2.0,1621.0,8120.0,1.0,11.0,11.0,3.0,12.0,3.0,5.0,1.0,4.0,4.0,4.0,6.0,19.0,19.0,19.0,3743.0,14.0,14.0,6.0,1.0,9681.0,6.0,6.0,5.0,6797.0,6797.0,0.0,5.0,5.0,1.0,1.0,3.0,3.0,4.0,4.0,7.0,5.0,5.0,10.0,10.0,10.0,10.0,11.0,37.0,6133.0,6133.0,20.0,33.0,2.0,5.0,5.0,7.0,7.0,10.0,3.0,3.0,2.0,5.0,5.0,3.0,10.0,10.0,10.0,7.0,3549.0,8717.0,8717.0,8717.0,2.0,2.0,1.0,1.0,6.0,3.0,3.0,7.0,7.0,1036.0,1036.0,33.0,33.0,3.0,3.0,3.0,8.0,1.0,5.0,5.0,5.0,10.0,10.0,0.0,0.0,8.0,8.0,34.0,11.0,11.0,11.0,4.0,3.0,3.0,9508.0,6.0,7.0,7.0,7.0,4.0,4.0,9.0,9.0,2.0,2.0,2.0,2.0,13.0,13.0,1488.0,5.0,3.0,9.0,5359.0,13.0,13.0,2744.0,2744.0,2.0,3.0,3.0,22.0,2.0,19.0,19.0,23.0,0.0,0.0,9.0,9.0,5.0,5.0,7.0,7.0,11.0,3.0,1.0,8.0,8.0,9.0,1.0,17.0,10.0,6.0,1.0,1.0,1.0,1.0,0.0,0.0,22.0,5581.0,5581.0,6.0,6.0,8.0,8.0,8.0,1.0,1.0,8.0,8.0,8.0,5.0,5.0,5.0,2.0,5.0,5.0,5.0,1286.0,1286.0,7.0,4.0,4.0,12.0,22.0,22.0,2.0,1.0,1.0,2.0,2.0,9.0,11.0,11.0,11.0,22.0,7.0,26.0,26.0,3.0,3.0,5904.0,5904.0,1.0,1.0,6.0,6.0,6.0,19.0,1872.0,1872.0,4.0,4.0,4.0,5.0,5.0,5.0,5.0,7.0,1.0,4.0,10.0,1.0,0.0,0.0,10.0,10.0,10.0,4.0,5.0,5.0,4.0,10.0,15.0,4.0,4.0,6.0,3.0,0.0,17.0,9.0,9.0,11.0,11.0,1.0,1.0,1.0,2.0,2.0,8.0,8.0,1.0,1.0,1.0,10.0,10.0,15.0,7.0,1.0,2.0,8.0,4.0,4.0,4.0,7.0,15.0,15.0,5.0,5.0,7.0,7.0,4.0,4.0,2.0,29.0,29.0,7.0,4.0,13.0,8.0,3.0,3.0,5.0,5.0,5.0,3.0,3.0,2.0,2.0,4763.0,6.0,7324.0,6140.0,10.0,7.0,7.0,7.0,3687.0,3687.0,1.0,4.0,13.0,13.0,1.0,10.0,10.0,9.0,3.0,21.0,8.0,5.0,1.0,1.0,1420.0,5.0,5.0,1.0,5.0,8.0,6.0,4.0,4.0,4.0,5.0,5.0,6.0,10.0,10.0,6.0,6.0,1.0,4.0,4.0,4.0,3.0,5.0,20.0,20.0,20.0,1.0,8.0,8.0,6.0,12.0,1.0,2.0,2.0,2.0,2.0,7.0,7.0,10.0,9.0,9.0,9767.0,9767.0,9767.0,5.0,2.0,2.0,23.0,10.0,31.0,8.0,6524.0,6524.0,18.0,5.0,7.0,10.0,10.0,15.0,15.0,4.0,2.0,2.0,5096.0,9.0,2.0,6.0,6.0,6.0,1.0,1.0,0.0,1.0,3.0,3.0,8.0,8.0,9.0,9.0,9.0,8.0,8.0,4.0,2.0,21.0,21.0,16.0,9.0,1.0,1.0,4.0,4.0,24.0,24.0,24.0,7.0,7.0,1.0,8.0,5.0,5.0,10.0,18.0,13.0,13.0,10.0,10.0,10.0,7747.0,1.0,3.0,1.0,1.0,1.0,1.0,7.0,2.0,1.0,1.0,4.0,2.0,18.0,18.0,10.0,10.0,13.0,3.0,4.0,5.0,5.0,20.0,20.0,4.0,4.0,5.0,5.0,5.0,5.0,2.0,2.0,5.0,5.0,9.0,9.0,3.0,9.0,9.0,9984.0,5132.0,5132.0,9.0,9.0,0.0,7.0,7.0,7.0,10.0,25.0,25.0,8.0,1.0,1.0,20.0,20.0,2.0,2.0,4.0,4.0,11.0,5706.0,5706.0,1.0,1.0,5.0,5.0,5.0,10.0,10.0,8.0,2.0,2.0,4.0,4.0,6.0,11.0,3231.0,3231.0,8.0,8.0,8.0,2.0,3.0,3.0,10.0,8.0,10.0,2659.0,2659.0,6.0,1.0,4.0,5506.0,9.0,1.0,1.0,8867.0,4.0,4.0,4.0,12.0,8875.0,8875.0,11.0,10.0,10.0,5.0,3.0,3.0,3.0,10.0,10.0,16.0,6.0,5.0,5.0,17.0,5.0,4.0,0.0,0.0,5.0,17.0,17.0,17.0,2.0,8.0,1625.0,1625.0,11.0,9577.0,9577.0,9577.0,22.0,22.0,13.0,13.0,22.0,22.0,9352.0,6.0,6.0,0.0,6.0,6.0,6.0,9.0,8.0,8.0,2.0,1.0,1.0,1.0,5.0,5.0,5.0,5.0,10.0,10.0,10.0,5150.0,10.0,3.0,1.0,1.0,1.0,8.0,8.0,8.0,5.0,11.0,11.0,11.0,11.0,0.0,6253.0,0.0,2.0,2.0,2.0,9.0,0.0,0.0,21.0,18.0,18.0,18.0,2.0,1.0,5.0,4.0,5.0,5.0,2.0,7.0,5.0,5.0,9.0,2.0,2.0,2.0,20.0,20.0,20.0,20.0,9.0,10.0,10.0,4604.0,4604.0,4604.0,10.0,10.0,10.0,1.0,1.0,16.0,16.0,1.0,3.0,1.0,1.0,18.0,18.0,6.0,6.0,13.0,13.0,5.0,5.0,5.0,5276.0,5276.0,2.0,2.0,6040.0,6040.0,1.0,1.0,9.0,16.0,16.0,16.0,5.0,7.0,6.0,5.0,1.0,4.0,4.0,32.0,32.0,3.0,6.0,6.0,2.0,13.0,6.0,6.0,7.0,9.0,3.0,3.0,4706.0,4706.0,5.0,2.0,3.0,3.0,3.0,8.0,0.0,0.0,13.0,13.0,13.0,3.0,6.0,6.0,5.0,5.0,5.0,5.0,1.0,1.0,7.0,7.0,3.0,3.0,3.0,3.0,3.0,3.0,8.0,8.0,0.0,0.0,7.0,4.0,4.0,5.0,5.0,5.0,0.0,0.0,8.0,8.0,2.0,2.0,2.0,5.0,10.0,8.0,0.0,1.0,8.0,8.0,33.0,33.0,6.0,2987.0,14.0,2.0,3190.0,3190.0,3.0,2.0,2.0,1.0,8.0,7.0,1.0,5.0,5.0,3.0,3.0,5.0,5.0,14.0,14.0,25.0,3202.0,8.0,8.0,9.0,2.0,31.0,31.0,31.0,19.0,19.0,1.0,14.0,4.0,5.0,5.0,26.0,26.0,7.0,3.0,3.0,6.0,6.0,8.0,1.0,1.0,1.0,1.0,2.0,2.0,1295.0,1295.0,10.0,5.0,4.0,4.0,5.0,0.0,6.0,6.0,7.0,7.0,7.0,7.0,10.0,10.0,14.0,3.0,3.0,1.0,5.0,5.0,10.0,10.0,5368.0,36.0,1282.0,1282.0,4.0,4.0,2925.0,2925.0,4.0,4.0,4.0,3.0,3.0,1.0,1.0,7.0,0.0,10.0,10.0,5.0,5.0,6.0,6.0,6.0,3.0,2203.0,2203.0,2203.0,1.0,1.0,4.0,4.0,4.0,5.0,10.0,5.0,13.0,13.0,9.0,1.0,1.0,1.0,9.0,9.0,1.0,1.0,1.0,1.0,1.0,3.0,3.0,1.0,1.0,2785.0,2785.0,2.0,9.0,9.0,9.0,3.0,10.0,10.0,18.0,18.0,5.0,5.0,9.0,9.0,4.0,4.0,4.0,3.0,3.0,1375.0,0.0,7.0,9.0,3.0,4.0,4.0,3.0,3.0,3.0,3734.0,20.0,20.0,6.0,6.0,2.0,2.0,4.0,4.0,10.0,10.0,1.0,1564.0,1564.0,2.0,2.0,1.0,1.0,15.0,1.0,1.0,1.0,4.0,4.0,8.0,8.0,8.0,15.0,5.0,5.0,12.0,12.0,12.0,2.0,2.0,2.0,1.0,3.0,5.0,5.0,16.0,1.0,1.0,2.0,2.0,1.0,1.0,5.0,5.0,5.0,10.0,8543.0,8543.0,11.0,11.0,33.0,5736.0,5736.0,11.0,11.0,11.0,9.0,9.0,1.0,1.0,15.0,15.0,2.0,2.0,0.0,5.0,5.0,5.0,4.0,4.0,4.0,11.0,1.0,11.0,11.0,3.0,3.0,5.0,10.0,7366.0,5.0,3.0,4014.0,6.0,1.0,9481.0,4.0,7.0,7.0,5.0,2.0,1.0,4.0,3.0,5512.0,5512.0,5512.0,2.0,2.0,2.0,4.0,4.0,8.0,1.0,1.0,13.0,5.0,2.0,4.0,8.0,8.0,8.0,1.0,1.0,2.0,30.0,0.0,1.0,15.0,3.0,3.0,3.0,0.0,7.0,20.0,3.0,3.0,11.0,11.0,10.0,8.0,8.0,1239.0,20.0,5.0,1.0,1.0,10.0,10.0,3.0,3.0,3.0,3.0,1.0,5.0,1.0,1.0,1.0,3.0,4.0,4.0,5.0,7.0,2.0,2.0,1.0,8.0,24.0,7.0,2072.0,6.0,6.0,3.0,3132.0,10.0,22.0,22.0,2.0,10.0,10.0,3.0,3.0,3.0,17.0,3.0,3.0,7.0,2.0,2.0,10.0,10.0,10.0,9.0,9.0,9.0,0.0,0.0,0.0,1.0,1.0,1.0,5.0,8179.0,1.0,2.0,3.0,1.0,5209.0,5209.0,8298.0,24.0,5.0,5.0,8.0,22.0,22.0,22.0,17.0,7.0,7.0,9.0,9.0,6.0,2.0,2.0,7.0,6.0,1.0,1.0,8.0,2551.0,6.0,6.0,7.0,3655.0,9.0,9.0,6.0,8.0,8.0,8.0,9.0,9.0,8.0,8.0,8.0,5.0,5.0,7.0,13.0,1.0,1.0,0.0,1.0,17.0,7.0,7.0,1.0,1.0,9196.0,9196.0,1.0,5.0,1.0,13.0,13.0,2.0,8.0,10.0,10.0,10.0,6.0,6.0,5.0,5.0,5.0,5.0,5.0,9.0,1.0,2.0,11.0,11.0,11.0,3.0,10.0,7337.0,7337.0,7.0,5.0,5.0,5.0,5.0,5.0,5.0,1.0,1.0,1.0,12.0,1.0,5.0,5.0,5.0,1.0,10.0,3.0,3.0,5.0,7.0,11.0,0.0,11.0,8.0,8.0,6.0,6.0,6.0,6705.0,9.0,9.0,9.0,5.0,5.0,3.0,3.0,1.0,1.0,1.0,20.0,5.0,14.0,3.0,3.0,2041.0,2041.0,2.0,2.0,2.0,14.0,14.0,8.0,1.0,8.0,8.0,6.0,5.0,5.0,4.0,5.0,5.0,7.0,7.0,7.0,1977.0,1977.0,1.0,1.0,4.0,4.0,4.0,6103.0,4.0,4.0,1.0,2.0,2.0,2.0,13.0,21.0,21.0,10.0,3.0,4.0,4.0,8.0,3812.0,5.0,4.0,5.0,5.0,5.0,10.0,3.0,9.0,1.0,5.0,9.0,9.0,4783.0,5.0,5.0,15.0,15.0,21.0,21.0,21.0,8.0,9505.0,5765.0,5765.0,22.0,3.0,5.0,27.0,27.0,27.0,1.0,12.0,12.0,5888.0,1.0,5.0,6.0,9.0,5.0,5.0,10.0,10.0,5.0,5.0,1.0,1.0,2.0,2.0,2.0,2.0,5.0,5.0,19.0,2.0,2.0,6.0,6.0,3.0,3.0,6.0,8976.0,8976.0,8.0,8.0,8.0,15.0,15.0,15.0,6.0,6.0,2.0,2.0,15.0,7217.0,7217.0,7.0,4.0,4.0,5.0,5.0,5.0,4.0,6.0,4.0,4.0,5.0,9.0,10.0,4.0,2.0,2.0,7.0,3649.0,1.0,3.0,3.0,4369.0,4369.0,0.0,0.0,0.0,5.0,5.0,29.0,3.0,3.0,10.0,3.0,7.0,8.0,1.0,0.0,0.0,1.0,4.0,4.0,4.0,6.0,6.0,10.0,10.0,10.0,16.0,16.0,1.0,1.0,3.0,7.0,7.0,7.0,7.0,7.0,4198.0,4198.0,20.0,5.0,5.0,9.0,20.0,20.0,8.0,5.0,5.0,3.0,3.0,2.0,7.0,5.0,5.0,5.0,7.0,22.0,2.0,2.0,14.0,14.0,5.0,5.0,5.0,5.0,5.0,5.0,5.0,4.0,4.0,10.0,10.0,15.0,7.0,2.0,2.0,1.0,1.0,1.0,3.0,3.0,4.0,6.0,4.0,4.0,4.0,18.0,21.0,21.0,8039.0,1344.0,1344.0,6.0,8890.0,8890.0,8890.0,4.0,4.0,5.0,10.0,1.0,3.0,20.0,3.0,3.0,6.0,5.0,5.0,5.0,3.0,3.0,2.0,9.0,6.0,6.0,6.0,4.0,3.0,3.0,3.0,7.0,4.0,4.0,16.0,5.0,5.0,8110.0,8110.0,3.0,5.0,4.0,4.0,8.0,21.0,21.0,21.0,10.0,10.0,9.0,5.0,9.0,7.0,7.0,6.0,6.0,3.0,8.0,2.0,2.0,2.0,2.0,2.0,20.0,6144.0,8.0,7.0,7.0,13.0,13.0,13.0,7.0,7.0,7.0,5.0,5.0,1.0,10.0,3.0,3.0,0.0,0.0,0.0,2.0,2.0,5.0,3927.0,3927.0,14.0,14.0,20.0,20.0,13.0,13.0,10.0,10.0,10.0,5.0,5.0,5.0],\"xaxis\":\"x\",\"y\":[2.0,1.0,0.0,0.0,0.0,0.0,0.0,7.0,0.0,11.0,2.0,3.0,0.0,6.0,4.0,0.0,0.0,0.0,0.0,0.0,0.0,3.0,0.0,13.0,0.0,2.0,0.0,0.0,0.0,0.0,0.0,1.0,9.0,4.0,4.0,9.0,0.0,7.0,2.0,2.0,1.0,7.0,0.0,0.0,0.0,1.0,0.0,9.0,0.0,0.0,0.0,2.0,0.0,15.0,0.0,2.0,6.0,0.0,0.0,0.0,1.0,0.0,1.0,0.0,0.0,4.0,1.0,7.0,0.0,2.0,2.0,3.0,0.0,0.0,0.0,1.0,4.0,1.0,1.0,0.0,2.0,5.0,1.0,1.0,0.0,1.0,0.0,6.0,0.0,1.0,1.0,0.0,0.0,1.0,7.0,0.0,2.0,14.0,13.0,10.0,2.0,0.0,7.0,0.0,0.0,11.0,0.0,2.0,0.0,0.0,1.0,7.0,0.0,1.0,7.0,1.0,1.0,2.0,0.0,7.0,9.0,3.0,0.0,0.0,15.0,3.0,1.0,1.0,1.0,7.0,6.0,2.0,1.0,0.0,5.0,0.0,0.0,1.0,6.0,1.0,0.0,0.0,0.0,0.0,2.0,0.0,0.0,0.0,0.0,2.0,0.0,1.0,0.0,1.0,1.0,0.0,7.0,1.0,1.0,0.0,1.0,1.0,7.0,0.0,1.0,0.0,1.0,0.0,0.0,0.0,6.0,0.0,1.0,1.0,0.0,2.0,0.0,0.0,7.0,0.0,0.0,15.0,3.0,3.0,0.0,0.0,7.0,0.0,0.0,0.0,0.0,0.0,3.0,0.0,2.0,1.0,0.0,0.0,0.0,0.0,0.0,1.0,2.0,0.0,1.0,2.0,0.0,3.0,0.0,1.0,0.0,2.0,0.0,8080.0,0.0,4.0,0.0,2.0,2.0,7.0,7.0,7.0,1.0,9.0,0.0,0.0,0.0,0.0,0.0,3720.0,3720.0,1.0,0.0,1.0,1.0,1.0,2.0,0.0,0.0,1.0,4.0,4.0,1.0,1.0,2.0,2.0,2.0,4.0,4.0,1.0,1.0,1.0,1.0,1.0,0.0,0.0,0.0,7291.0,7291.0,0.0,0.0,0.0,7.0,0.0,1.0,1.0,1.0,0.0,0.0,0.0,1.0,0.0,2.0,2.0,6920.0,6920.0,0.0,0.0,1.0,1.0,1.0,3.0,1.0,3.0,3.0,3.0,5.0,5.0,11.0,8467.0,2.0,2.0,4.0,4.0,0.0,0.0,0.0,6.0,6.0,9420.0,9420.0,0.0,0.0,3.0,3.0,3246.0,3246.0,3246.0,4.0,0.0,0.0,4.0,4.0,0.0,0.0,0.0,0.0,7.0,6.0,7.0,7.0,8.0,8.0,1.0,4.0,4.0,0.0,0.0,1.0,1.0,1.0,6.0,15.0,15.0,0.0,8913.0,4.0,1.0,9952.0,9952.0,9952.0,8550.0,1.0,1.0,1.0,0.0,0.0,4.0,4.0,7997.0,7997.0,8534.0,0.0,0.0,0.0,11.0,0.0,3.0,3.0,3.0,1.0,1.0,0.0,0.0,0.0,1.0,6773.0,6773.0,6773.0,1.0,1.0,0.0,0.0,0.0,3.0,0.0,0.0,0.0,0.0,1.0,1.0,1.0,1.0,1.0,0.0,0.0,0.0,0.0,0.0,0.0,0.0,0.0,9.0,4.0,4.0,0.0,0.0,4.0,4.0,9.0,9.0,1.0,3.0,3.0,0.0,0.0,0.0,2.0,1.0,4.0,4.0,4.0,0.0,0.0,0.0,0.0,0.0,2.0,0.0,0.0,0.0,0.0,0.0,0.0,0.0,6.0,6.0,6.0,0.0,1973.0,0.0,6763.0,8021.0,0.0,0.0,0.0,5738.0,5738.0,1.0,1.0,2.0,3.0,1.0,1.0,0.0,0.0,1.0,5291.0,0.0,1.0,1094.0,1094.0,0.0,0.0,1.0,2.0,2.0,3771.0,3771.0,2.0,2.0,8890.0,8890.0,0.0,0.0,3.0,8538.0,0.0,0.0,1.0,1.0,1.0,0.0,0.0,4.0,4.0,4.0,3982.0,0.0,0.0,0.0,13.0,13.0,0.0,0.0,0.0,0.0,0.0,1.0,0.0,1.0,1.0,1.0,1.0,2153.0,2153.0,2153.0,3.0,3.0,0.0,0.0,0.0,0.0,2.0,2.0,2.0,1.0,1.0,7.0,7.0,7.0,4.0,4.0,3.0,3.0,1.0,0.0,0.0,0.0,6279.0,6279.0,6279.0,5.0,5.0,5.0,1.0,7.0,7.0,2.0,2.0,7240.0,12.0,0.0,0.0,1.0,1.0,1.0,1.0,0.0,1.0,1.0,2.0,0.0,4204.0,4204.0,5.0,5.0,0.0,0.0,0.0,0.0,0.0,2.0,2.0,2.0,0.0,0.0,0.0,0.0,0.0,0.0,0.0,0.0,0.0,2.0,0.0,0.0,4.0,4.0,1.0,1.0,1.0,1.0,3.0,0.0,0.0,9.0,4.0,4.0,4.0,4.0,0.0,1.0,1.0,1.0,0.0,0.0,0.0,1.0,1.0,1.0,1.0,4.0,4.0,2.0,2.0,2.0,0.0,0.0,1.0,1.0,0.0,0.0,9.0,9.0,5392.0,5392.0,5392.0,15.0,15.0,15.0,0.0,0.0,0.0,3486.0,3486.0,2.0,2.0,0.0,1.0,2.0,7.0,7.0,0.0,0.0,5.0,5.0,2.0,2.0,2.0,0.0,0.0,0.0,0.0,0.0,0.0,0.0,1.0,1.0,2.0,2.0,1.0,2.0,2.0,1.0,0.0,0.0,1.0,6401.0,0.0,1.0,2166.0,4.0,4.0,7.0,7.0,7.0,1.0,14.0,3.0,0.0,2.0,8312.0,8312.0,8.0,2.0,1.0,0.0,0.0,5.0,5.0,0.0,4.0,0.0,0.0,5994.0,5894.0,5894.0,5894.0,0.0,11.0,11.0,11.0,1.0,9.0,3.0,1.0,0.0,6.0,0.0,0.0,1.0,13.0,13.0,0.0,0.0,0.0,0.0,0.0,1.0,1.0,1.0,1.0,1.0,1.0,1.0,1.0,2293.0,2293.0,2293.0,4.0,1.0,2.0,2.0,6747.0,11.0,7989.0,0.0,0.0,3.0,3.0,8.0,0.0,0.0,4200.0,0.0,0.0,0.0,1.0,1.0,6.0,0.0,0.0,0.0,0.0,0.0,2.0,2.0,0.0,0.0,3.0,1.0,1.0,1.0,1.0,0.0,0.0,1.0,1.0,0.0,1.0,1.0,7.0,0.0,0.0,0.0,0.0,7.0,7.0,0.0,0.0,2754.0,2754.0,1.0,7.0,7.0,7.0,0.0,1.0,1.0,4.0,0.0,1.0,1.0,1.0,0.0,0.0,2.0,2.0,2.0,2.0,2.0,0.0,3.0,3.0,1.0,0.0,1.0,1.0,0.0,0.0,0.0,1.0,1.0,2.0,2.0,2.0,14.0,2.0,11.0,11.0,14.0,0.0,0.0,8.0,8.0,0.0,0.0,1.0,1.0,3.0,8922.0,0.0,1.0,1.0,4370.0,0.0,0.0,0.0,1.0,0.0,0.0,0.0,0.0,0.0,0.0,11.0,13.0,13.0,1.0,1.0,0.0,0.0,0.0,0.0,0.0,6.0,6.0,6.0,1.0,1.0,1.0,2.0,0.0,0.0,2.0,1.0,1.0,0.0,3.0,3.0,4704.0,11.0,11.0,1201.0,0.0,0.0,2.0,2.0,0.0,2.0,2.0,2.0,4.0,7.0,0.0,0.0,1.0,1.0,1.0,1.0,1.0,1.0,1.0,1.0,1.0,3.0,1.0,1.0,3777.0,3777.0,3777.0,0.0,0.0,0.0,1.0,1.0,0.0,1815.0,1.0,0.0,0.0,0.0,6.0,6.0,6.0,1.0,4.0,4.0,1.0,4382.0,2576.0,2.0,2.0,1.0,1.0,2475.0,5.0,7.0,7.0,5.0,5.0,1.0,1.0,1.0,2.0,2.0,0.0,0.0,6551.0,6551.0,0.0,9.0,9.0,2.0,3.0,0.0,2.0,0.0,0.0,0.0,0.0,5.0,5.0,5.0,9509.0,9509.0,7.0,7.0,1.0,1.0,1.0,11.0,11.0,1.0,1.0,4.0,7.0,1.0,1.0,0.0,0.0,4.0,1.0,1.0,2.0,2.0,0.0,0.0,9.0,1.0,9.0,5.0,5.0,5.0,0.0,0.0,0.0,0.0,5.0,5.0,0.0,6.0,6.0,1.0,0.0,12.0,2.0,5284.0,0.0,0.0,1.0,0.0,0.0,0.0,1.0,0.0,5292.0,1.0,1.0,1.0,0.0,0.0,1.0,0.0,0.0,0.0,0.0,0.0,1.0,1.0,1.0,1.0,0.0,15.0,15.0,15.0,1.0,7.0,7.0,3.0,11.0,0.0,2.0,2.0,2.0,2.0,7.0,7.0,4.0,4575.0,4575.0,0.0,0.0,0.0,0.0,2.0,2.0,14.0,1.0,13.0,4.0,1.0,1.0,11.0,1.0,5.0,6.0,6.0,10.0,10.0,2.0,2.0,2.0,0.0,0.0,2.0,5649.0,5649.0,5649.0,0.0,0.0,2081.0,0.0,1.0,1.0,7.0,7.0,0.0,0.0,0.0,7609.0,7609.0,2.0,2.0,11.0,11.0,14.0,7.0,0.0,0.0,0.0,0.0,2.0,2.0,2.0,0.0,0.0,0.0,0.0,0.0,0.0,0.0,0.0,5.0,5.0,8.0,8.0,8.0,13.0,0.0,0.0,0.0,0.0,0.0,0.0,0.0,1.0,0.0,0.0,0.0,0.0,11.0,11.0,0.0,0.0,10.0,9572.0,0.0,1.0,1.0,11.0,11.0,5308.0,5308.0,2081.0,0.0,5383.0,5383.0,0.0,0.0,1.0,1.0,7.0,7.0,0.0,1.0,1.0,0.0,0.0,0.0,5.0,5.0,0.0,1.0,1.0,1.0,5.0,3.0,3.0,1.0,1.0,1.0,3.0,3.0,2.0,2.0,0.0,0.0,3.0,0.0,0.0,0.0,0.0,0.0,0.0,0.0,7.0,7.0,1.0,1.0,1.0,1058.0,1058.0,0.0,11.0,2.0,2.0,7.0,7.0,7.0,2.0,1.0,1.0,1.0,0.0,0.0,0.0,0.0,0.0,0.0,1.0,10.0,1.0,0.0,0.0,2.0,1.0,1.0,1.0,5.0,7.0,7.0,1.0,8.0,8.0,0.0,2.0,2.0,2.0,9.0,7.0,5.0,7897.0,1.0,1.0,15.0,1.0,3.0,0.0,0.0,0.0,15.0,15.0,15.0,2.0,3832.0,0.0,0.0,5.0,2.0,2.0,2.0,0.0,0.0,3.0,3.0,11.0,11.0,1.0,1.0,1.0,0.0,0.0,0.0,0.0,0.0,7.0,7.0,2.0,1.0,1.0,1.0,0.0,0.0,0.0,1.0,1.0,1.0,0.0,0.0,1.0,2.0,0.0,0.0,0.0,7.0,7.0,7.0,1.0,6.0,6.0,6.0,9595.0,0.0,0.0,0.0,2.0,2.0,2.0,0.0,0.0,0.0,8.0,12.0,12.0,12.0,2.0,0.0,2.0,2.0,1.0,1.0,1.0,0.0,4.0,4.0,1.0,2.0,2.0,2.0,5.0,5.0,4.0,4.0,0.0,0.0,0.0,0.0,0.0,0.0,5.0,5.0,0.0,0.0,0.0,4763.0,4763.0,1.0,1.0,0.0,0.0,4.0,4.0,1.0,1.0,4071.0,4071.0,0.0,0.0,0.0,2.0,2.0,2.0,2.0,1.0,1.0,0.0,0.0,1.0,2.0,2.0,2.0,1.0,7.0,1.0,1.0,0.0,0.0,0.0,2723.0,2723.0,2.0,1.0,1.0,2.0,3.0,0.0,0.0,7.0,0.0,1.0,1.0,0.0,0.0,0.0,1.0,0.0,0.0,0.0,0.0,7868.0,7868.0,4619.0,4619.0,4619.0,1.0,0.0,0.0,0.0,0.0,1.0,1.0,0.0,0.0,0.0,0.0,0.0,0.0,0.0,0.0,0.0,0.0,2.0,2.0,0.0,0.0,1.0,0.0,0.0,0.0,0.0,0.0,0.0,0.0,3.0,3.0,2.0,2.0,2.0,0.0,5391.0,0.0,0.0,0.0,6.0,6.0,15.0,15.0,0.0,2.0,6.0,2.0,4.0,4.0,4885.0,2.0,2.0,0.0,1.0,6.0,0.0,1.0,1.0,0.0,0.0,0.0,0.0,4.0,4.0,14.0,1.0,0.0,0.0,1.0,2.0,14.0,14.0,14.0,2.0,2.0,0.0,5431.0,1.0,4.0,4.0,1.0,1.0,1.0,1.0,1.0,1.0,1.0,6.0,3089.0,3089.0,3089.0,0.0,8515.0,8515.0,1.0,1.0,0.0,1.0,0.0,0.0,1.0,0.0,1.0,1.0,7.0,7.0,7.0,7.0,4.0,4.0,5.0,1.0,0.0,6440.0,0.0,0.0,1.0,1.0,3.0,2.0,0.0,0.0,2.0,2.0,2.0,2.0,1.0,1.0,1.0,1.0,1.0,0.0,0.0,7.0,0.0,1.0,1.0,0.0,0.0,1.0,1.0,1.0,1.0,7.0,7.0,7.0,0.0,0.0,0.0,0.0,0.0,0.0,0.0,0.0,1.0,1.0,0.0,6968.0,6968.0,6968.0,1.0,1.0,0.0,0.0,0.0,0.0,0.0,1.0,1.0,0.0,0.0,1.0,1.0,0.0,6.0,6.0,6.0,1.0,2.0,2.0,0.0,0.0,1.0,1.0,0.0,0.0,1639.0,7859.0,7859.0,0.0,0.0,6.0,7427.0,1.0,2922.0,1.0,1.0,1.0,1.0,1.0,1.0,0.0,2282.0,2282.0,1.0,1.0,1.0,1.0,0.0,0.0,0.0,0.0,8966.0,1.0,1.0,2.0,2.0,0.0,0.0,5.0,0.0,0.0,0.0,1.0,1.0,0.0,0.0,0.0,0.0,0.0,0.0,3.0,9175.0,9175.0,0.0,0.0,0.0,0.0,0.0,1.0,1.0,1.0,0.0,0.0,2.0,2.0,0.0,0.0,0.0,0.0,0.0,4409.0,0.0,0.0,6.0,6.0,15.0,0.0,0.0,5.0,5.0,5.0,5.0,5.0,0.0,0.0,10.0,10.0,2.0,2.0,0.0,8213.0,8213.0,8213.0,1.0,1.0,1.0,10.0,1.0,2025.0,2025.0,0.0,0.0,0.0,9.0,7.0,4.0,1.0,0.0,2789.0,1.0,0.0,1.0,6.0,6.0,0.0,2.0,0.0,1.0,1.0,1.0,1.0,1.0,2.0,2.0,2.0,1.0,1.0,7.0,0.0,0.0,11.0,0.0,0.0,0.0,0.0,0.0,0.0,5151.0,5151.0,2.0,12.0,0.0,0.0,4.0,0.0,0.0,0.0,0.0,0.0,11.0,1.0,1.0,5.0,5.0,4.0,7.0,7.0,0.0,2.0,4.0,0.0,0.0,1.0,1.0,0.0,0.0,1.0,8053.0,0.0,6233.0,0.0,0.0,0.0,8113.0,0.0,0.0,0.0,5.0,0.0,0.0,0.0,0.0,15.0,7.0,0.0,0.0,0.0,1.0,1.0,3057.0,15.0,15.0,2.0,1.0,1.0,0.0,0.0,0.0,1.0,1.0,1.0,0.0,2.0,2.0,4094.0,4094.0,4094.0,3.0,3.0,3.0,0.0,0.0,0.0,0.0,0.0,0.0,0.0,4.0,0.0,2.0,0.0,0.0,0.0,0.0,13.0,9.0,6305.0,6305.0,1.0,12.0,12.0,12.0,11.0,0.0,0.0,0.0,0.0,4.0,2.0,2.0,4.0,0.0,0.0,0.0,0.0,0.0,1.0,1.0,1.0,0.0,5.0,5.0,4434.0,1.0,1.0,7.0,3.0,3.0,1.0,1.0,1.0,0.0,0.0,1.0,9.0,0.0,0.0,9624.0,0.0,12.0,5.0,5.0,0.0,0.0,0.0,0.0,0.0,7137.0,0.0,3.0,3.0,0.0,7.0,2.0,2.0,2.0,1.0,1.0,1.0,1.0,0.0,0.0,0.0,7.0,0.0,2.0,3.0,3.0,3.0,0.0,0.0,1.0,1.0,0.0,8853.0,8853.0,8853.0,0.0,1.0,1.0,0.0,0.0,0.0,2.0,0.0,1.0,1.0,1.0,0.0,9.0,0.0,0.0,3.0,2.0,6.0,0.0,6767.0,7056.0,7056.0,6847.0,6847.0,6847.0,0.0,1.0,1.0,1.0,1.0,2.0,1.0,1.0,0.0,0.0,0.0,4.0,4.0,6.0,0.0,0.0,1.0,1.0,2.0,2.0,2.0,1.0,1.0,1.0,0.0,1.0,1.0,1.0,2743.0,2743.0,1.0,1.0,1.0,7.0,7.0,7.0,2.0,2.0,0.0,0.0,5881.0,5881.0,5881.0,0.0,0.0,0.0,0.0,2.0,2.0,2.0,1.0,1.0,1.0,0.0,0.0,1.0,1.0,7659.0,0.0,1.0,0.0,3.0,0.0,0.0,8.0,1.0,7.0,0.0,0.0,6196.0,6196.0,8.0,0.0,0.0,5.0,5.0,7.0,7.0,7.0,7.0,12.0,3.0,3.0,2.0,0.0,1.0,15.0,15.0,15.0,0.0,2.0,2.0,0.0,0.0,4.0,1.0,3.0,1.0,1.0,7521.0,7521.0,0.0,0.0,0.0,0.0,2.0,2.0,2.0,2.0,1.0,1.0,15.0,0.0,0.0,0.0,0.0,0.0,0.0,0.0,6.0,6.0,7.0,7.0,1.0,5.0,5.0,5.0,1.0,1.0,0.0,0.0,2.0,0.0,0.0,5957.0,1.0,1.0,1.0,1.0,1.0,1.0,1.0,6881.0,6881.0,0.0,7.0,7.0,0.0,9041.0,9041.0,0.0,4.0,7322.0,1.0,1.0,1.0,1.0,0.0,0.0,0.0,0.0,1.0,11.0,2079.0,2079.0,7.0,1.0,0.0,0.0,0.0,0.0,0.0,0.0,0.0,0.0,0.0,4098.0,4098.0,8932.0,8932.0,8932.0,1.0,1.0,0.0,0.0,0.0,7.0,7.0,4.0,4.0,4.0,1.0,1.0,0.0,9885.0,9885.0,3.0,0.0,0.0,3.0,1.0,1.0,0.0,2.0,2.0,0.0,1.0,1.0,1.0,1.0,4.0,2.0,2.0,8810.0,8810.0,0.0,0.0,0.0,1.0,1.0,1.0,1.0,0.0,0.0,3.0,3.0,11.0,7.0,3082.0,2.0,0.0,0.0,0.0,1.0,1.0,1.0,0.0,0.0,0.0,0.0,3.0,7.0,7.0,2.0,6.0,6.0,1.0,0.0,0.0,0.0,0.0,0.0,0.0,0.0,0.0,1.0,1.0,1.0,1.0,1.0,1.0,1.0,1.0,1.0,1.0,2.0,6.0,1.0,1.0,1.0,0.0,2.0,2.0,2.0,1.0,1.0,1.0,5.0,0.0,0.0,2.0,2.0,1.0,0.0,0.0,0.0,5.0,2745.0,2745.0,2745.0,4.0,4.0,4586.0,0.0,4.0,0.0,0.0,0.0,0.0,1.0,0.0,2.0,2.0,2.0,2.0,2.0,3.0,3.0,0.0,0.0,0.0,3.0,3.0,3.0,7.0,7.0,7.0,1.0,1.0,1.0,0.0,0.0,0.0,0.0,0.0,0.0,2778.0,2778.0,1.0,0.0,0.0,2.0,2.0,0.0,0.0,5.0,5.0,0.0,0.0,0.0,1.0,1.0,1.0],\"yaxis\":\"y\",\"type\":\"scattergl\"}],                        {\"template\":{\"data\":{\"bar\":[{\"error_x\":{\"color\":\"#2a3f5f\"},\"error_y\":{\"color\":\"#2a3f5f\"},\"marker\":{\"line\":{\"color\":\"#E5ECF6\",\"width\":0.5},\"pattern\":{\"fillmode\":\"overlay\",\"size\":10,\"solidity\":0.2}},\"type\":\"bar\"}],\"barpolar\":[{\"marker\":{\"line\":{\"color\":\"#E5ECF6\",\"width\":0.5},\"pattern\":{\"fillmode\":\"overlay\",\"size\":10,\"solidity\":0.2}},\"type\":\"barpolar\"}],\"carpet\":[{\"aaxis\":{\"endlinecolor\":\"#2a3f5f\",\"gridcolor\":\"white\",\"linecolor\":\"white\",\"minorgridcolor\":\"white\",\"startlinecolor\":\"#2a3f5f\"},\"baxis\":{\"endlinecolor\":\"#2a3f5f\",\"gridcolor\":\"white\",\"linecolor\":\"white\",\"minorgridcolor\":\"white\",\"startlinecolor\":\"#2a3f5f\"},\"type\":\"carpet\"}],\"choropleth\":[{\"colorbar\":{\"outlinewidth\":0,\"ticks\":\"\"},\"type\":\"choropleth\"}],\"contour\":[{\"colorbar\":{\"outlinewidth\":0,\"ticks\":\"\"},\"colorscale\":[[0.0,\"#0d0887\"],[0.1111111111111111,\"#46039f\"],[0.2222222222222222,\"#7201a8\"],[0.3333333333333333,\"#9c179e\"],[0.4444444444444444,\"#bd3786\"],[0.5555555555555556,\"#d8576b\"],[0.6666666666666666,\"#ed7953\"],[0.7777777777777778,\"#fb9f3a\"],[0.8888888888888888,\"#fdca26\"],[1.0,\"#f0f921\"]],\"type\":\"contour\"}],\"contourcarpet\":[{\"colorbar\":{\"outlinewidth\":0,\"ticks\":\"\"},\"type\":\"contourcarpet\"}],\"heatmap\":[{\"colorbar\":{\"outlinewidth\":0,\"ticks\":\"\"},\"colorscale\":[[0.0,\"#0d0887\"],[0.1111111111111111,\"#46039f\"],[0.2222222222222222,\"#7201a8\"],[0.3333333333333333,\"#9c179e\"],[0.4444444444444444,\"#bd3786\"],[0.5555555555555556,\"#d8576b\"],[0.6666666666666666,\"#ed7953\"],[0.7777777777777778,\"#fb9f3a\"],[0.8888888888888888,\"#fdca26\"],[1.0,\"#f0f921\"]],\"type\":\"heatmap\"}],\"heatmapgl\":[{\"colorbar\":{\"outlinewidth\":0,\"ticks\":\"\"},\"colorscale\":[[0.0,\"#0d0887\"],[0.1111111111111111,\"#46039f\"],[0.2222222222222222,\"#7201a8\"],[0.3333333333333333,\"#9c179e\"],[0.4444444444444444,\"#bd3786\"],[0.5555555555555556,\"#d8576b\"],[0.6666666666666666,\"#ed7953\"],[0.7777777777777778,\"#fb9f3a\"],[0.8888888888888888,\"#fdca26\"],[1.0,\"#f0f921\"]],\"type\":\"heatmapgl\"}],\"histogram\":[{\"marker\":{\"pattern\":{\"fillmode\":\"overlay\",\"size\":10,\"solidity\":0.2}},\"type\":\"histogram\"}],\"histogram2d\":[{\"colorbar\":{\"outlinewidth\":0,\"ticks\":\"\"},\"colorscale\":[[0.0,\"#0d0887\"],[0.1111111111111111,\"#46039f\"],[0.2222222222222222,\"#7201a8\"],[0.3333333333333333,\"#9c179e\"],[0.4444444444444444,\"#bd3786\"],[0.5555555555555556,\"#d8576b\"],[0.6666666666666666,\"#ed7953\"],[0.7777777777777778,\"#fb9f3a\"],[0.8888888888888888,\"#fdca26\"],[1.0,\"#f0f921\"]],\"type\":\"histogram2d\"}],\"histogram2dcontour\":[{\"colorbar\":{\"outlinewidth\":0,\"ticks\":\"\"},\"colorscale\":[[0.0,\"#0d0887\"],[0.1111111111111111,\"#46039f\"],[0.2222222222222222,\"#7201a8\"],[0.3333333333333333,\"#9c179e\"],[0.4444444444444444,\"#bd3786\"],[0.5555555555555556,\"#d8576b\"],[0.6666666666666666,\"#ed7953\"],[0.7777777777777778,\"#fb9f3a\"],[0.8888888888888888,\"#fdca26\"],[1.0,\"#f0f921\"]],\"type\":\"histogram2dcontour\"}],\"mesh3d\":[{\"colorbar\":{\"outlinewidth\":0,\"ticks\":\"\"},\"type\":\"mesh3d\"}],\"parcoords\":[{\"line\":{\"colorbar\":{\"outlinewidth\":0,\"ticks\":\"\"}},\"type\":\"parcoords\"}],\"pie\":[{\"automargin\":true,\"type\":\"pie\"}],\"scatter\":[{\"marker\":{\"colorbar\":{\"outlinewidth\":0,\"ticks\":\"\"}},\"type\":\"scatter\"}],\"scatter3d\":[{\"line\":{\"colorbar\":{\"outlinewidth\":0,\"ticks\":\"\"}},\"marker\":{\"colorbar\":{\"outlinewidth\":0,\"ticks\":\"\"}},\"type\":\"scatter3d\"}],\"scattercarpet\":[{\"marker\":{\"colorbar\":{\"outlinewidth\":0,\"ticks\":\"\"}},\"type\":\"scattercarpet\"}],\"scattergeo\":[{\"marker\":{\"colorbar\":{\"outlinewidth\":0,\"ticks\":\"\"}},\"type\":\"scattergeo\"}],\"scattergl\":[{\"marker\":{\"colorbar\":{\"outlinewidth\":0,\"ticks\":\"\"}},\"type\":\"scattergl\"}],\"scattermapbox\":[{\"marker\":{\"colorbar\":{\"outlinewidth\":0,\"ticks\":\"\"}},\"type\":\"scattermapbox\"}],\"scatterpolar\":[{\"marker\":{\"colorbar\":{\"outlinewidth\":0,\"ticks\":\"\"}},\"type\":\"scatterpolar\"}],\"scatterpolargl\":[{\"marker\":{\"colorbar\":{\"outlinewidth\":0,\"ticks\":\"\"}},\"type\":\"scatterpolargl\"}],\"scatterternary\":[{\"marker\":{\"colorbar\":{\"outlinewidth\":0,\"ticks\":\"\"}},\"type\":\"scatterternary\"}],\"surface\":[{\"colorbar\":{\"outlinewidth\":0,\"ticks\":\"\"},\"colorscale\":[[0.0,\"#0d0887\"],[0.1111111111111111,\"#46039f\"],[0.2222222222222222,\"#7201a8\"],[0.3333333333333333,\"#9c179e\"],[0.4444444444444444,\"#bd3786\"],[0.5555555555555556,\"#d8576b\"],[0.6666666666666666,\"#ed7953\"],[0.7777777777777778,\"#fb9f3a\"],[0.8888888888888888,\"#fdca26\"],[1.0,\"#f0f921\"]],\"type\":\"surface\"}],\"table\":[{\"cells\":{\"fill\":{\"color\":\"#EBF0F8\"},\"line\":{\"color\":\"white\"}},\"header\":{\"fill\":{\"color\":\"#C8D4E3\"},\"line\":{\"color\":\"white\"}},\"type\":\"table\"}]},\"layout\":{\"annotationdefaults\":{\"arrowcolor\":\"#2a3f5f\",\"arrowhead\":0,\"arrowwidth\":1},\"autotypenumbers\":\"strict\",\"coloraxis\":{\"colorbar\":{\"outlinewidth\":0,\"ticks\":\"\"}},\"colorscale\":{\"diverging\":[[0,\"#8e0152\"],[0.1,\"#c51b7d\"],[0.2,\"#de77ae\"],[0.3,\"#f1b6da\"],[0.4,\"#fde0ef\"],[0.5,\"#f7f7f7\"],[0.6,\"#e6f5d0\"],[0.7,\"#b8e186\"],[0.8,\"#7fbc41\"],[0.9,\"#4d9221\"],[1,\"#276419\"]],\"sequential\":[[0.0,\"#0d0887\"],[0.1111111111111111,\"#46039f\"],[0.2222222222222222,\"#7201a8\"],[0.3333333333333333,\"#9c179e\"],[0.4444444444444444,\"#bd3786\"],[0.5555555555555556,\"#d8576b\"],[0.6666666666666666,\"#ed7953\"],[0.7777777777777778,\"#fb9f3a\"],[0.8888888888888888,\"#fdca26\"],[1.0,\"#f0f921\"]],\"sequentialminus\":[[0.0,\"#0d0887\"],[0.1111111111111111,\"#46039f\"],[0.2222222222222222,\"#7201a8\"],[0.3333333333333333,\"#9c179e\"],[0.4444444444444444,\"#bd3786\"],[0.5555555555555556,\"#d8576b\"],[0.6666666666666666,\"#ed7953\"],[0.7777777777777778,\"#fb9f3a\"],[0.8888888888888888,\"#fdca26\"],[1.0,\"#f0f921\"]]},\"colorway\":[\"#636efa\",\"#EF553B\",\"#00cc96\",\"#ab63fa\",\"#FFA15A\",\"#19d3f3\",\"#FF6692\",\"#B6E880\",\"#FF97FF\",\"#FECB52\"],\"font\":{\"color\":\"#2a3f5f\"},\"geo\":{\"bgcolor\":\"white\",\"lakecolor\":\"white\",\"landcolor\":\"#E5ECF6\",\"showlakes\":true,\"showland\":true,\"subunitcolor\":\"white\"},\"hoverlabel\":{\"align\":\"left\"},\"hovermode\":\"closest\",\"mapbox\":{\"style\":\"light\"},\"paper_bgcolor\":\"white\",\"plot_bgcolor\":\"#E5ECF6\",\"polar\":{\"angularaxis\":{\"gridcolor\":\"white\",\"linecolor\":\"white\",\"ticks\":\"\"},\"bgcolor\":\"#E5ECF6\",\"radialaxis\":{\"gridcolor\":\"white\",\"linecolor\":\"white\",\"ticks\":\"\"}},\"scene\":{\"xaxis\":{\"backgroundcolor\":\"#E5ECF6\",\"gridcolor\":\"white\",\"gridwidth\":2,\"linecolor\":\"white\",\"showbackground\":true,\"ticks\":\"\",\"zerolinecolor\":\"white\"},\"yaxis\":{\"backgroundcolor\":\"#E5ECF6\",\"gridcolor\":\"white\",\"gridwidth\":2,\"linecolor\":\"white\",\"showbackground\":true,\"ticks\":\"\",\"zerolinecolor\":\"white\"},\"zaxis\":{\"backgroundcolor\":\"#E5ECF6\",\"gridcolor\":\"white\",\"gridwidth\":2,\"linecolor\":\"white\",\"showbackground\":true,\"ticks\":\"\",\"zerolinecolor\":\"white\"}},\"shapedefaults\":{\"line\":{\"color\":\"#2a3f5f\"}},\"ternary\":{\"aaxis\":{\"gridcolor\":\"white\",\"linecolor\":\"white\",\"ticks\":\"\"},\"baxis\":{\"gridcolor\":\"white\",\"linecolor\":\"white\",\"ticks\":\"\"},\"bgcolor\":\"#E5ECF6\",\"caxis\":{\"gridcolor\":\"white\",\"linecolor\":\"white\",\"ticks\":\"\"}},\"title\":{\"x\":0.05},\"xaxis\":{\"automargin\":true,\"gridcolor\":\"white\",\"linecolor\":\"white\",\"ticks\":\"\",\"title\":{\"standoff\":15},\"zerolinecolor\":\"white\",\"zerolinewidth\":2},\"yaxis\":{\"automargin\":true,\"gridcolor\":\"white\",\"linecolor\":\"white\",\"ticks\":\"\",\"title\":{\"standoff\":15},\"zerolinecolor\":\"white\",\"zerolinewidth\":2}}},\"xaxis\":{\"anchor\":\"y\",\"domain\":[0.0,1.0],\"title\":{\"text\":\"YearsAtCompany\"},\"type\":\"log\"},\"yaxis\":{\"anchor\":\"x\",\"domain\":[0.0,1.0],\"title\":{\"text\":\"YearsSinceLastPromotion\"},\"type\":\"log\"},\"legend\":{\"title\":{\"text\":\"Attrition\"},\"tracegroupgap\":0},\"margin\":{\"t\":60}},                        {\"responsive\": true}                    ).then(function(){\n",
              "                            \n",
              "var gd = document.getElementById('7ec906e8-e2da-4f08-896f-6f2869a2e361');\n",
              "var x = new MutationObserver(function (mutations, observer) {{\n",
              "        var display = window.getComputedStyle(gd).display;\n",
              "        if (!display || display === 'none') {{\n",
              "            console.log([gd, 'removed!']);\n",
              "            Plotly.purge(gd);\n",
              "            observer.disconnect();\n",
              "        }}\n",
              "}});\n",
              "\n",
              "// Listen for the removal of the full notebook cells\n",
              "var notebookContainer = gd.closest('#notebook-container');\n",
              "if (notebookContainer) {{\n",
              "    x.observe(notebookContainer, {childList: true});\n",
              "}}\n",
              "\n",
              "// Listen for the clearing of the current output cell\n",
              "var outputEl = gd.closest('.output');\n",
              "if (outputEl) {{\n",
              "    x.observe(outputEl, {childList: true});\n",
              "}}\n",
              "\n",
              "                        })                };                            </script>        </div>\n",
              "</body>\n",
              "</html>"
            ]
          },
          "metadata": {}
        }
      ]
    },
    {
      "cell_type": "code",
      "source": [
        "table_drop['YearsAtCompany'].unique()"
      ],
      "metadata": {
        "colab": {
          "base_uri": "https://localhost:8080/"
        },
        "id": "wtoN0p-hkFSP",
        "outputId": "9e9e1142-412f-4a64-e9b5-c7177462cf79"
      },
      "execution_count": null,
      "outputs": [
        {
          "output_type": "execute_result",
          "data": {
            "text/plain": [
              "array([1.000e+01, 5.000e+00, 1.000e+00, 2.000e+00, 7.000e+00, 9.000e+00,\n",
              "       2.000e+01, 0.000e+00, 3.000e+00, 1.400e+01, 8.000e+00, 2.400e+01,\n",
              "       6.000e+00, 4.000e+00, 1.100e+01, 1.500e+01, 1.300e+01, 2.100e+01,\n",
              "       3.600e+01, 2.600e+01, 1.900e+01, 1.600e+01, 2.200e+01, 1.800e+01,\n",
              "       2.500e+01, 1.700e+01, 1.200e+01, 3.700e+01, 3.300e+01, 4.000e+01,\n",
              "       3.400e+01, 2.300e+01, 2.900e+01, 3.100e+01, 3.200e+01, 2.700e+01,\n",
              "       3.000e+01, 5.078e+03, 7.345e+03, 3.079e+03, 2.332e+03, 1.761e+03,\n",
              "       1.378e+03, 8.870e+03, 4.879e+03, 9.445e+03, 2.265e+03, 5.801e+03,\n",
              "       8.553e+03, 3.761e+03, 2.051e+03, 7.735e+03, 2.506e+03, 9.066e+03,\n",
              "       3.335e+03, 1.621e+03, 8.120e+03, 3.743e+03, 9.681e+03, 6.797e+03,\n",
              "       3.707e+03, 7.547e+03, 6.133e+03, 3.177e+03, 3.549e+03, 8.717e+03,\n",
              "       1.036e+03, 9.508e+03, 1.488e+03, 5.359e+03, 2.744e+03, 5.581e+03,\n",
              "       9.676e+03, 1.286e+03, 5.904e+03, 1.872e+03, 4.763e+03, 7.324e+03,\n",
              "       6.140e+03, 3.687e+03, 1.420e+03, 9.767e+03, 3.507e+03, 6.524e+03,\n",
              "       5.096e+03, 6.225e+03, 7.747e+03, 5.066e+03, 9.984e+03, 5.132e+03,\n",
              "       5.706e+03, 3.231e+03, 2.659e+03, 5.506e+03, 8.867e+03, 8.875e+03,\n",
              "       3.912e+03, 1.625e+03, 9.577e+03, 3.584e+03, 9.352e+03, 5.150e+03,\n",
              "       6.253e+03, 1.646e+03, 8.862e+03, 2.516e+03, 3.126e+03, 4.604e+03,\n",
              "       5.276e+03, 6.040e+03, 3.074e+03, 7.335e+03, 4.706e+03, 3.645e+03,\n",
              "       2.987e+03, 3.190e+03, 3.202e+03, 1.295e+03, 5.368e+03, 1.282e+03,\n",
              "       2.925e+03, 2.203e+03, 2.785e+03, 1.375e+03, 3.734e+03, 1.564e+03,\n",
              "       8.543e+03, 5.736e+03, 7.366e+03, 4.014e+03, 9.481e+03, 5.512e+03,\n",
              "       1.239e+03, 2.072e+03, 3.132e+03, 8.179e+03, 5.209e+03, 8.298e+03,\n",
              "       1.184e+03, 2.809e+03, 2.551e+03, 3.655e+03, 9.196e+03, 6.834e+03,\n",
              "       7.337e+03, 6.705e+03, 2.041e+03, 1.977e+03, 6.103e+03, 3.812e+03,\n",
              "       4.783e+03, 9.505e+03, 5.765e+03, 5.888e+03, 7.338e+03, 8.976e+03,\n",
              "       7.217e+03, 3.649e+03, 4.369e+03, 4.198e+03, 8.039e+03, 1.344e+03,\n",
              "       8.890e+03, 8.110e+03, 6.144e+03, 3.927e+03])"
            ]
          },
          "metadata": {},
          "execution_count": 34
        }
      ]
    },
    {
      "cell_type": "markdown",
      "source": [
        "Budowanie modelu"
      ],
      "metadata": {
        "id": "ZQeDpiRL644Z"
      }
    },
    {
      "cell_type": "code",
      "source": [
        "#importowanie potrzebnych bibliotek\n",
        "from sklearn.preprocessing import StandardScaler, OneHotEncoder\n",
        "from sklearn.impute import SimpleImputer\n",
        "from sklearn.pipeline import Pipeline\n",
        "from sklearn.compose import ColumnTransformer #rozbija dataset wzdgledem nazwy kolumn, zaimplementuj cos tylko do num col a cos tylko do cat column\n",
        "from sklearn.model_selection import train_test_split\n",
        "\n"
      ],
      "metadata": {
        "id": "M6DogwKv67bm"
      },
      "execution_count": null,
      "outputs": []
    },
    {
      "cell_type": "code",
      "source": [
        "#Podział na zbiór testowy i treningowy\n",
        "\n",
        "X_train,X_test,y_train,y_test=train_test_split(X,y,\n",
        "                                               test_size=0.2,\n",
        "                                               shuffle=True,\n",
        "                                               random_state=42)\n",
        "#stratify=y (wartość domyślna)\n",
        "#shuffle=True (wartość domyślna)"
      ],
      "metadata": {
        "id": "LrcvCJzJ7I7S"
      },
      "execution_count": null,
      "outputs": []
    },
    {
      "cell_type": "code",
      "source": [
        "#podzial na atrubyty numeryczne i kategoryczne do pipeline'u\n",
        "num_att=X_train.select_dtypes(include='number').columns\n",
        "cat_att=X_train.select_dtypes(exclude='number').columns"
      ],
      "metadata": {
        "id": "aXDwDwWl8IyP"
      },
      "execution_count": null,
      "outputs": []
    },
    {
      "cell_type": "code",
      "source": [
        "##tworzenie pipelinu dla danych numerycznych z użyciem StandardScaler\n",
        "num_pipeline=Pipeline(\n",
        "    [\n",
        "     ('std_scaler',StandardScaler())\n",
        "    ]\n",
        ")\n",
        "\n",
        "#tworzenie pipelinu dla danych kategorycznych z użyciem OHE\n",
        "cat_pipeline=Pipeline(\n",
        "    [\n",
        "     ('ohe',OneHotEncoder()),\n",
        "    ]\n",
        ")\n",
        "\n",
        "#połączenie\n",
        "cat_num_pipeline = ColumnTransformer( #do polaczenia dwoch kolumn\n",
        "    [\n",
        "     ('numerical',num_pipeline, num_att),\n",
        "     ('categorical',cat_pipeline, cat_att)\n",
        "    ]\n",
        ")\n"
      ],
      "metadata": {
        "id": "YpQS_bEo8wGL"
      },
      "execution_count": null,
      "outputs": []
    },
    {
      "cell_type": "code",
      "source": [
        "#wyświetlenie pipeline'ów\n",
        "pd.DataFrame(cat_num_pipeline.fit_transform(X_train))"
      ],
      "metadata": {
        "colab": {
          "base_uri": "https://localhost:8080/",
          "height": 463
        },
        "id": "ROBD31t69kkJ",
        "outputId": "3f14c21a-c674-4396-85bf-6a9301123fe1"
      },
      "execution_count": null,
      "outputs": [
        {
          "output_type": "execute_result",
          "data": {
            "text/plain": [
              "            0         1         2         3         4         5         6   \\\n",
              "0     1.088181  0.253702 -0.406031 -0.668276  0.246419 -0.218640  0.157316   \n",
              "1     0.505423 -1.131554 -0.406031  1.186937 -0.929625 -0.227444 -0.612704   \n",
              "2     0.850888  0.807804 -0.406031  1.186937 -0.929625 -0.207804 -0.612704   \n",
              "3     0.119585  0.530753 -0.406031  1.186937  0.246419  1.003812  1.697356   \n",
              "4     0.198429  1.361907  2.462866  0.259331 -0.929625 -0.214576 -1.382724   \n",
              "...        ...       ...       ...       ...       ...       ...       ...   \n",
              "3436  0.864981 -0.300401 -0.406031 -1.595882  1.422463 -0.222026  0.157316   \n",
              "3437 -1.237515 -0.023349 -0.406031 -0.668276 -0.929625 -0.211867  1.697356   \n",
              "3438  0.730909 -1.131554 -0.406031 -1.595882 -0.929625  1.618763  0.927336   \n",
              "3439  0.989912 -1.131554 -0.406031  1.186937 -0.929625 -0.223381 -0.612704   \n",
              "3440 -1.131629 -0.577452 -0.406031 -1.595882  0.246419 -0.223381  0.927336   \n",
              "\n",
              "            7         8         9   ...   43   44   45   46   47   48   49  \\\n",
              "0     0.333029 -0.228255 -0.242718  ...  0.0  0.0  1.0  0.0  0.0  0.0  0.0   \n",
              "1     0.333029 -0.231107 -0.246148  ...  0.0  0.0  1.0  0.0  0.0  0.0  0.0   \n",
              "2     1.735666 -0.209714 -0.242718  ...  0.0  1.0  0.0  0.0  0.0  0.0  0.0   \n",
              "3    -1.069607 -0.230394 -0.245462  ...  1.0  0.0  0.0  0.0  0.0  0.0  0.0   \n",
              "4    -1.069607 -0.223976 -0.239287  ...  0.0  0.0  0.0  0.0  0.0  0.0  0.0   \n",
              "...        ...       ...       ...  ...  ...  ...  ...  ...  ...  ...  ...   \n",
              "3436  0.333029 -0.226116 -0.241345  ...  0.0  0.0  0.0  0.0  1.0  0.0  0.0   \n",
              "3437 -2.472243 -0.214706 -0.247521  ...  0.0  1.0  0.0  0.0  0.0  0.0  0.0   \n",
              "3438 -2.472243 -0.229681 -0.245462  ...  0.0  0.0  0.0  0.0  0.0  1.0  0.0   \n",
              "3439  0.333029 -0.226116 -0.245462  ...  1.0  0.0  0.0  0.0  0.0  0.0  0.0   \n",
              "3440  0.333029 -0.226116 -0.241345  ...  0.0  0.0  0.0  0.0  0.0  1.0  0.0   \n",
              "\n",
              "       50   51   52  \n",
              "0     0.0  1.0  0.0  \n",
              "1     0.0  1.0  0.0  \n",
              "2     0.0  0.0  1.0  \n",
              "3     0.0  1.0  0.0  \n",
              "4     0.0  0.0  1.0  \n",
              "...   ...  ...  ...  \n",
              "3436  0.0  1.0  0.0  \n",
              "3437  0.0  0.0  1.0  \n",
              "3438  0.0  0.0  1.0  \n",
              "3439  0.0  0.0  1.0  \n",
              "3440  0.0  1.0  0.0  \n",
              "\n",
              "[3441 rows x 53 columns]"
            ],
            "text/html": [
              "\n",
              "  <div id=\"df-7b14b4ae-1392-4d54-9a0f-884e2267f30f\">\n",
              "    <div class=\"colab-df-container\">\n",
              "      <div>\n",
              "<style scoped>\n",
              "    .dataframe tbody tr th:only-of-type {\n",
              "        vertical-align: middle;\n",
              "    }\n",
              "\n",
              "    .dataframe tbody tr th {\n",
              "        vertical-align: top;\n",
              "    }\n",
              "\n",
              "    .dataframe thead th {\n",
              "        text-align: right;\n",
              "    }\n",
              "</style>\n",
              "<table border=\"1\" class=\"dataframe\">\n",
              "  <thead>\n",
              "    <tr style=\"text-align: right;\">\n",
              "      <th></th>\n",
              "      <th>0</th>\n",
              "      <th>1</th>\n",
              "      <th>2</th>\n",
              "      <th>3</th>\n",
              "      <th>4</th>\n",
              "      <th>5</th>\n",
              "      <th>6</th>\n",
              "      <th>7</th>\n",
              "      <th>8</th>\n",
              "      <th>9</th>\n",
              "      <th>...</th>\n",
              "      <th>43</th>\n",
              "      <th>44</th>\n",
              "      <th>45</th>\n",
              "      <th>46</th>\n",
              "      <th>47</th>\n",
              "      <th>48</th>\n",
              "      <th>49</th>\n",
              "      <th>50</th>\n",
              "      <th>51</th>\n",
              "      <th>52</th>\n",
              "    </tr>\n",
              "  </thead>\n",
              "  <tbody>\n",
              "    <tr>\n",
              "      <th>0</th>\n",
              "      <td>1.088181</td>\n",
              "      <td>0.253702</td>\n",
              "      <td>-0.406031</td>\n",
              "      <td>-0.668276</td>\n",
              "      <td>0.246419</td>\n",
              "      <td>-0.218640</td>\n",
              "      <td>0.157316</td>\n",
              "      <td>0.333029</td>\n",
              "      <td>-0.228255</td>\n",
              "      <td>-0.242718</td>\n",
              "      <td>...</td>\n",
              "      <td>0.0</td>\n",
              "      <td>0.0</td>\n",
              "      <td>1.0</td>\n",
              "      <td>0.0</td>\n",
              "      <td>0.0</td>\n",
              "      <td>0.0</td>\n",
              "      <td>0.0</td>\n",
              "      <td>0.0</td>\n",
              "      <td>1.0</td>\n",
              "      <td>0.0</td>\n",
              "    </tr>\n",
              "    <tr>\n",
              "      <th>1</th>\n",
              "      <td>0.505423</td>\n",
              "      <td>-1.131554</td>\n",
              "      <td>-0.406031</td>\n",
              "      <td>1.186937</td>\n",
              "      <td>-0.929625</td>\n",
              "      <td>-0.227444</td>\n",
              "      <td>-0.612704</td>\n",
              "      <td>0.333029</td>\n",
              "      <td>-0.231107</td>\n",
              "      <td>-0.246148</td>\n",
              "      <td>...</td>\n",
              "      <td>0.0</td>\n",
              "      <td>0.0</td>\n",
              "      <td>1.0</td>\n",
              "      <td>0.0</td>\n",
              "      <td>0.0</td>\n",
              "      <td>0.0</td>\n",
              "      <td>0.0</td>\n",
              "      <td>0.0</td>\n",
              "      <td>1.0</td>\n",
              "      <td>0.0</td>\n",
              "    </tr>\n",
              "    <tr>\n",
              "      <th>2</th>\n",
              "      <td>0.850888</td>\n",
              "      <td>0.807804</td>\n",
              "      <td>-0.406031</td>\n",
              "      <td>1.186937</td>\n",
              "      <td>-0.929625</td>\n",
              "      <td>-0.207804</td>\n",
              "      <td>-0.612704</td>\n",
              "      <td>1.735666</td>\n",
              "      <td>-0.209714</td>\n",
              "      <td>-0.242718</td>\n",
              "      <td>...</td>\n",
              "      <td>0.0</td>\n",
              "      <td>1.0</td>\n",
              "      <td>0.0</td>\n",
              "      <td>0.0</td>\n",
              "      <td>0.0</td>\n",
              "      <td>0.0</td>\n",
              "      <td>0.0</td>\n",
              "      <td>0.0</td>\n",
              "      <td>0.0</td>\n",
              "      <td>1.0</td>\n",
              "    </tr>\n",
              "    <tr>\n",
              "      <th>3</th>\n",
              "      <td>0.119585</td>\n",
              "      <td>0.530753</td>\n",
              "      <td>-0.406031</td>\n",
              "      <td>1.186937</td>\n",
              "      <td>0.246419</td>\n",
              "      <td>1.003812</td>\n",
              "      <td>1.697356</td>\n",
              "      <td>-1.069607</td>\n",
              "      <td>-0.230394</td>\n",
              "      <td>-0.245462</td>\n",
              "      <td>...</td>\n",
              "      <td>1.0</td>\n",
              "      <td>0.0</td>\n",
              "      <td>0.0</td>\n",
              "      <td>0.0</td>\n",
              "      <td>0.0</td>\n",
              "      <td>0.0</td>\n",
              "      <td>0.0</td>\n",
              "      <td>0.0</td>\n",
              "      <td>1.0</td>\n",
              "      <td>0.0</td>\n",
              "    </tr>\n",
              "    <tr>\n",
              "      <th>4</th>\n",
              "      <td>0.198429</td>\n",
              "      <td>1.361907</td>\n",
              "      <td>2.462866</td>\n",
              "      <td>0.259331</td>\n",
              "      <td>-0.929625</td>\n",
              "      <td>-0.214576</td>\n",
              "      <td>-1.382724</td>\n",
              "      <td>-1.069607</td>\n",
              "      <td>-0.223976</td>\n",
              "      <td>-0.239287</td>\n",
              "      <td>...</td>\n",
              "      <td>0.0</td>\n",
              "      <td>0.0</td>\n",
              "      <td>0.0</td>\n",
              "      <td>0.0</td>\n",
              "      <td>0.0</td>\n",
              "      <td>0.0</td>\n",
              "      <td>0.0</td>\n",
              "      <td>0.0</td>\n",
              "      <td>0.0</td>\n",
              "      <td>1.0</td>\n",
              "    </tr>\n",
              "    <tr>\n",
              "      <th>...</th>\n",
              "      <td>...</td>\n",
              "      <td>...</td>\n",
              "      <td>...</td>\n",
              "      <td>...</td>\n",
              "      <td>...</td>\n",
              "      <td>...</td>\n",
              "      <td>...</td>\n",
              "      <td>...</td>\n",
              "      <td>...</td>\n",
              "      <td>...</td>\n",
              "      <td>...</td>\n",
              "      <td>...</td>\n",
              "      <td>...</td>\n",
              "      <td>...</td>\n",
              "      <td>...</td>\n",
              "      <td>...</td>\n",
              "      <td>...</td>\n",
              "      <td>...</td>\n",
              "      <td>...</td>\n",
              "      <td>...</td>\n",
              "      <td>...</td>\n",
              "    </tr>\n",
              "    <tr>\n",
              "      <th>3436</th>\n",
              "      <td>0.864981</td>\n",
              "      <td>-0.300401</td>\n",
              "      <td>-0.406031</td>\n",
              "      <td>-1.595882</td>\n",
              "      <td>1.422463</td>\n",
              "      <td>-0.222026</td>\n",
              "      <td>0.157316</td>\n",
              "      <td>0.333029</td>\n",
              "      <td>-0.226116</td>\n",
              "      <td>-0.241345</td>\n",
              "      <td>...</td>\n",
              "      <td>0.0</td>\n",
              "      <td>0.0</td>\n",
              "      <td>0.0</td>\n",
              "      <td>0.0</td>\n",
              "      <td>1.0</td>\n",
              "      <td>0.0</td>\n",
              "      <td>0.0</td>\n",
              "      <td>0.0</td>\n",
              "      <td>1.0</td>\n",
              "      <td>0.0</td>\n",
              "    </tr>\n",
              "    <tr>\n",
              "      <th>3437</th>\n",
              "      <td>-1.237515</td>\n",
              "      <td>-0.023349</td>\n",
              "      <td>-0.406031</td>\n",
              "      <td>-0.668276</td>\n",
              "      <td>-0.929625</td>\n",
              "      <td>-0.211867</td>\n",
              "      <td>1.697356</td>\n",
              "      <td>-2.472243</td>\n",
              "      <td>-0.214706</td>\n",
              "      <td>-0.247521</td>\n",
              "      <td>...</td>\n",
              "      <td>0.0</td>\n",
              "      <td>1.0</td>\n",
              "      <td>0.0</td>\n",
              "      <td>0.0</td>\n",
              "      <td>0.0</td>\n",
              "      <td>0.0</td>\n",
              "      <td>0.0</td>\n",
              "      <td>0.0</td>\n",
              "      <td>0.0</td>\n",
              "      <td>1.0</td>\n",
              "    </tr>\n",
              "    <tr>\n",
              "      <th>3438</th>\n",
              "      <td>0.730909</td>\n",
              "      <td>-1.131554</td>\n",
              "      <td>-0.406031</td>\n",
              "      <td>-1.595882</td>\n",
              "      <td>-0.929625</td>\n",
              "      <td>1.618763</td>\n",
              "      <td>0.927336</td>\n",
              "      <td>-2.472243</td>\n",
              "      <td>-0.229681</td>\n",
              "      <td>-0.245462</td>\n",
              "      <td>...</td>\n",
              "      <td>0.0</td>\n",
              "      <td>0.0</td>\n",
              "      <td>0.0</td>\n",
              "      <td>0.0</td>\n",
              "      <td>0.0</td>\n",
              "      <td>1.0</td>\n",
              "      <td>0.0</td>\n",
              "      <td>0.0</td>\n",
              "      <td>0.0</td>\n",
              "      <td>1.0</td>\n",
              "    </tr>\n",
              "    <tr>\n",
              "      <th>3439</th>\n",
              "      <td>0.989912</td>\n",
              "      <td>-1.131554</td>\n",
              "      <td>-0.406031</td>\n",
              "      <td>1.186937</td>\n",
              "      <td>-0.929625</td>\n",
              "      <td>-0.223381</td>\n",
              "      <td>-0.612704</td>\n",
              "      <td>0.333029</td>\n",
              "      <td>-0.226116</td>\n",
              "      <td>-0.245462</td>\n",
              "      <td>...</td>\n",
              "      <td>1.0</td>\n",
              "      <td>0.0</td>\n",
              "      <td>0.0</td>\n",
              "      <td>0.0</td>\n",
              "      <td>0.0</td>\n",
              "      <td>0.0</td>\n",
              "      <td>0.0</td>\n",
              "      <td>0.0</td>\n",
              "      <td>0.0</td>\n",
              "      <td>1.0</td>\n",
              "    </tr>\n",
              "    <tr>\n",
              "      <th>3440</th>\n",
              "      <td>-1.131629</td>\n",
              "      <td>-0.577452</td>\n",
              "      <td>-0.406031</td>\n",
              "      <td>-1.595882</td>\n",
              "      <td>0.246419</td>\n",
              "      <td>-0.223381</td>\n",
              "      <td>0.927336</td>\n",
              "      <td>0.333029</td>\n",
              "      <td>-0.226116</td>\n",
              "      <td>-0.241345</td>\n",
              "      <td>...</td>\n",
              "      <td>0.0</td>\n",
              "      <td>0.0</td>\n",
              "      <td>0.0</td>\n",
              "      <td>0.0</td>\n",
              "      <td>0.0</td>\n",
              "      <td>1.0</td>\n",
              "      <td>0.0</td>\n",
              "      <td>0.0</td>\n",
              "      <td>1.0</td>\n",
              "      <td>0.0</td>\n",
              "    </tr>\n",
              "  </tbody>\n",
              "</table>\n",
              "<p>3441 rows × 53 columns</p>\n",
              "</div>\n",
              "      <button class=\"colab-df-convert\" onclick=\"convertToInteractive('df-7b14b4ae-1392-4d54-9a0f-884e2267f30f')\"\n",
              "              title=\"Convert this dataframe to an interactive table.\"\n",
              "              style=\"display:none;\">\n",
              "        \n",
              "  <svg xmlns=\"http://www.w3.org/2000/svg\" height=\"24px\"viewBox=\"0 0 24 24\"\n",
              "       width=\"24px\">\n",
              "    <path d=\"M0 0h24v24H0V0z\" fill=\"none\"/>\n",
              "    <path d=\"M18.56 5.44l.94 2.06.94-2.06 2.06-.94-2.06-.94-.94-2.06-.94 2.06-2.06.94zm-11 1L8.5 8.5l.94-2.06 2.06-.94-2.06-.94L8.5 2.5l-.94 2.06-2.06.94zm10 10l.94 2.06.94-2.06 2.06-.94-2.06-.94-.94-2.06-.94 2.06-2.06.94z\"/><path d=\"M17.41 7.96l-1.37-1.37c-.4-.4-.92-.59-1.43-.59-.52 0-1.04.2-1.43.59L10.3 9.45l-7.72 7.72c-.78.78-.78 2.05 0 2.83L4 21.41c.39.39.9.59 1.41.59.51 0 1.02-.2 1.41-.59l7.78-7.78 2.81-2.81c.8-.78.8-2.07 0-2.86zM5.41 20L4 18.59l7.72-7.72 1.47 1.35L5.41 20z\"/>\n",
              "  </svg>\n",
              "      </button>\n",
              "      \n",
              "  <style>\n",
              "    .colab-df-container {\n",
              "      display:flex;\n",
              "      flex-wrap:wrap;\n",
              "      gap: 12px;\n",
              "    }\n",
              "\n",
              "    .colab-df-convert {\n",
              "      background-color: #E8F0FE;\n",
              "      border: none;\n",
              "      border-radius: 50%;\n",
              "      cursor: pointer;\n",
              "      display: none;\n",
              "      fill: #1967D2;\n",
              "      height: 32px;\n",
              "      padding: 0 0 0 0;\n",
              "      width: 32px;\n",
              "    }\n",
              "\n",
              "    .colab-df-convert:hover {\n",
              "      background-color: #E2EBFA;\n",
              "      box-shadow: 0px 1px 2px rgba(60, 64, 67, 0.3), 0px 1px 3px 1px rgba(60, 64, 67, 0.15);\n",
              "      fill: #174EA6;\n",
              "    }\n",
              "\n",
              "    [theme=dark] .colab-df-convert {\n",
              "      background-color: #3B4455;\n",
              "      fill: #D2E3FC;\n",
              "    }\n",
              "\n",
              "    [theme=dark] .colab-df-convert:hover {\n",
              "      background-color: #434B5C;\n",
              "      box-shadow: 0px 1px 3px 1px rgba(0, 0, 0, 0.15);\n",
              "      filter: drop-shadow(0px 1px 2px rgba(0, 0, 0, 0.3));\n",
              "      fill: #FFFFFF;\n",
              "    }\n",
              "  </style>\n",
              "\n",
              "      <script>\n",
              "        const buttonEl =\n",
              "          document.querySelector('#df-7b14b4ae-1392-4d54-9a0f-884e2267f30f button.colab-df-convert');\n",
              "        buttonEl.style.display =\n",
              "          google.colab.kernel.accessAllowed ? 'block' : 'none';\n",
              "\n",
              "        async function convertToInteractive(key) {\n",
              "          const element = document.querySelector('#df-7b14b4ae-1392-4d54-9a0f-884e2267f30f');\n",
              "          const dataTable =\n",
              "            await google.colab.kernel.invokeFunction('convertToInteractive',\n",
              "                                                     [key], {});\n",
              "          if (!dataTable) return;\n",
              "\n",
              "          const docLinkHtml = 'Like what you see? Visit the ' +\n",
              "            '<a target=\"_blank\" href=https://colab.research.google.com/notebooks/data_table.ipynb>data table notebook</a>'\n",
              "            + ' to learn more about interactive tables.';\n",
              "          element.innerHTML = '';\n",
              "          dataTable['output_type'] = 'display_data';\n",
              "          await google.colab.output.renderOutput(dataTable, element);\n",
              "          const docLink = document.createElement('div');\n",
              "          docLink.innerHTML = docLinkHtml;\n",
              "          element.appendChild(docLink);\n",
              "        }\n",
              "      </script>\n",
              "    </div>\n",
              "  </div>\n",
              "  "
            ]
          },
          "metadata": {},
          "execution_count": 21
        }
      ]
    },
    {
      "cell_type": "code",
      "source": [
        "cat_num_pipeline.transform(X_test)"
      ],
      "metadata": {
        "colab": {
          "base_uri": "https://localhost:8080/"
        },
        "id": "YGbg3OXG9nAt",
        "outputId": "34690390-da95-4030-9704-b34ffd53647e"
      },
      "execution_count": null,
      "outputs": [
        {
          "output_type": "execute_result",
          "data": {
            "text/plain": [
              "array([[-1.78903958, -0.30040052, -0.40603104, ...,  0.        ,\n",
              "         1.        ,  0.        ],\n",
              "       [ 1.15026513,  1.36190693,  2.4628659 , ...,  1.        ,\n",
              "         0.        ,  0.        ],\n",
              "       [ 0.08568606, -0.57745176, -0.40603104, ...,  1.        ,\n",
              "         0.        ,  0.        ],\n",
              "       ...,\n",
              "       [ 1.14074296, -0.854503  , -0.40603104, ...,  0.        ,\n",
              "         1.        ,  0.        ],\n",
              "       [ 0.87183676,  0.80780445, -0.40603104, ...,  1.        ,\n",
              "         0.        ,  0.        ],\n",
              "       [ 0.43991094, -1.13155424, -0.40603104, ...,  0.        ,\n",
              "         0.        ,  1.        ]])"
            ]
          },
          "metadata": {},
          "execution_count": 22
        }
      ]
    },
    {
      "cell_type": "code",
      "source": [
        "X_tr = cat_num_pipeline.fit_transform(X_train) #zapis do zmiennej\n",
        "X_tr"
      ],
      "metadata": {
        "colab": {
          "base_uri": "https://localhost:8080/"
        },
        "id": "o9UJgilT-Ckv",
        "outputId": "7e1ecbce-6867-438e-c594-0ace42c0c6ae"
      },
      "execution_count": null,
      "outputs": [
        {
          "output_type": "execute_result",
          "data": {
            "text/plain": [
              "array([[ 1.08818056,  0.25370197, -0.40603104, ...,  0.        ,\n",
              "         1.        ,  0.        ],\n",
              "       [ 0.5054235 , -1.13155424, -0.40603104, ...,  0.        ,\n",
              "         1.        ,  0.        ],\n",
              "       [ 0.85088798,  0.80780445, -0.40603104, ...,  0.        ,\n",
              "         0.        ,  1.        ],\n",
              "       ...,\n",
              "       [ 0.73090858, -1.13155424, -0.40603104, ...,  0.        ,\n",
              "         0.        ,  1.        ],\n",
              "       [ 0.98991172, -1.13155424, -0.40603104, ...,  0.        ,\n",
              "         0.        ,  1.        ],\n",
              "       [-1.13162868, -0.57745176, -0.40603104, ...,  0.        ,\n",
              "         1.        ,  0.        ]])"
            ]
          },
          "metadata": {},
          "execution_count": 23
        }
      ]
    },
    {
      "cell_type": "code",
      "source": [
        "\n",
        "#https://colab.research.google.com/drive/1gT4L7ZaUOCTdkT2m7lZUJILAx5jVmssO#scrollTo=y973DMYT5Ru1\n",
        "\n",
        "#regresja logistyczna - czy najlepsza?? Jaki model do tych danych?\n",
        "#sprawdzmy korelacje\n",
        "#jak zwizualizowac wyniki?\n",
        "\n"
      ],
      "metadata": {
        "id": "pdeWIKNe-DlZ"
      },
      "execution_count": null,
      "outputs": []
    },
    {
      "cell_type": "code",
      "source": [
        "#przyklady na kaggle\n",
        "#https://www.kaggle.com/code/janiobachmann/attrition-in-an-organization-why-workers-quit/notebook\n",
        "#https://www.kaggle.com/code/arthurtok/employee-attrition-via-ensemble-tree-based-methods/notebook"
      ],
      "metadata": {
        "id": "i0l7zVCuECRj"
      },
      "execution_count": null,
      "outputs": []
    }
  ]
}